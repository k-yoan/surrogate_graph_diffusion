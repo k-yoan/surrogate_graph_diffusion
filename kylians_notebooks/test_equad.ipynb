{
  "cells": [
    {
      "cell_type": "markdown",
      "metadata": {
        "id": "rmfpr6YCfFUa"
      },
      "source": [
        "# Libraries"
      ]
    },
    {
      "cell_type": "code",
      "execution_count": null,
      "metadata": {
        "id": "t6NlaxdNWYy0"
      },
      "outputs": [],
      "source": [
        "import networkx as nx\n",
        "import numpy as np\n",
        "import matplotlib.pyplot as plt\n",
        "from math import exp, sqrt, log\n",
        "from scipy.linalg import expm\n",
        "import itertools\n",
        "from math import cos, ceil\n",
        "import time"
      ]
    },
    {
      "cell_type": "code",
      "execution_count": null,
      "metadata": {
        "id": "-8NzYAP9XASx"
      },
      "outputs": [],
      "source": [
        "from IPython.display import clear_output"
      ]
    },
    {
      "cell_type": "code",
      "execution_count": null,
      "metadata": {
        "id": "58xTvo7mYYaw"
      },
      "outputs": [],
      "source": [
        "#from Diff import *"
      ]
    },
    {
      "cell_type": "code",
      "execution_count": null,
      "metadata": {
        "id": "FGm3YIdKHCLA"
      },
      "outputs": [],
      "source": [
        "!git clone https://github.com/equadratures/equadratures\n",
        "clear_output()"
      ]
    },
    {
      "cell_type": "code",
      "execution_count": null,
      "metadata": {
        "id": "DncfCbDB7Uin"
      },
      "outputs": [],
      "source": [
        "# A bit different from Alessio's version\n",
        "# Removed 'n' as argument and made it isotropic, otherwise more changes to make in the original code\n",
        "new_code = '''\n",
        "def hyperbolic_cross(orders):\n",
        "    dimensions = len(orders)\n",
        "    n = orders[0]\n",
        "    I = np.arange(n+1)\n",
        "    I = np.reshape(I, (1,-1))\n",
        "    for k in range(2, dimensions+1):\n",
        "        J = np.array([]).reshape((I.shape[0]+1, 0))\n",
        "        for i in range(n+1):\n",
        "            l = I.shape[1]\n",
        "            for j in range(l):\n",
        "                z = I[:,j]\n",
        "                #z = np.reshape(z, (I.shape[0], 1))\n",
        "                if (i+1)*np.prod(z+1) <= n+1:\n",
        "                    z = np.row_stack((z.reshape((-1,1)), np.array([i]).reshape(1,1)))\n",
        "                    J = np.hstack((J, z))\n",
        "        I = J\n",
        "    return I.T\n",
        "'''"
      ]
    },
    {
      "cell_type": "code",
      "execution_count": null,
      "metadata": {
        "id": "fr5aI6Xd6I2w"
      },
      "outputs": [],
      "source": [
        "with open(\"/content/equadratures/equadratures/basis.py\", \"a\") as file:\n",
        "  file.write(new_code)"
      ]
    },
    {
      "cell_type": "code",
      "execution_count": null,
      "metadata": {
        "id": "hCuxzXxr-I5U"
      },
      "outputs": [],
      "source": [
        "new_line_1 = '''        elif name == \"hyperbolic-cross\":\n",
        "            basis = hyperbolic_cross(self.orders)\n",
        "'''\n",
        "\n",
        "# Open the file in read mode to read its contents\n",
        "with open(\"/content/equadratures/equadratures/basis.py\", 'r') as file:\n",
        "    lines = file.readlines()\n",
        "\n",
        "lines.insert(179, new_line_1)\n",
        "\n",
        "# Open the file in write mode to overwrite its contents\n",
        "with open(\"/content/equadratures/equadratures/basis.py\", 'w') as file:\n",
        "    file.writelines(lines)\n",
        "\n",
        "new_line_2 = '''        elif name.lower() == \"hyperbolic-cross\":\n",
        "            basis = hyperbolic_cross(self.orders)\n",
        "'''\n",
        "\n",
        "# Open the file in read mode to read its contents\n",
        "with open(\"/content/equadratures/equadratures/basis.py\", 'r') as file:\n",
        "    lines = file.readlines()\n",
        "\n",
        "lines.insert(93, new_line_2)\n",
        "\n",
        "# Open the file in write mode to overwrite its contents\n",
        "with open(\"/content/equadratures/equadratures/basis.py\", 'w') as file:\n",
        "    file.writelines(lines)"
      ]
    },
    {
      "cell_type": "code",
      "execution_count": null,
      "metadata": {
        "id": "Rqu62EMAH1NX"
      },
      "outputs": [],
      "source": [
        "with open(\"/content/equadratures/equadratures/optimisation.py\", \"r\") as file:\n",
        "    fix_1 = file.read()\n",
        "\n",
        "# Lines to modify in equadratures/optimisation.py\n",
        "\n",
        "fix_1 = fix_1.replace('objective = lambda x: k*np.asscalar(f(x))', 'objective = lambda x: k*f(x).item()')\n",
        "fix_1 = fix_1.replace('constraint = lambda x: np.asscalar(g(x))', 'constraint = lambda x: g(x).item()')\n",
        "fix_1 = fix_1.replace('self.f_old = np.asscalar(self.f[ind_min])', 'self.f_old = self.f[ind_min].item()')\n",
        "fix_1 = fix_1.replace('return np.asscalar(f)', 'return f.item()')\n",
        "fix_1 = fix_1.replace('np.asscalar(my_poly.get_polyfit(x))', 'my_poly.get_polyfit(x).item()')\n",
        "fix_1 = fix_1.replace('np.asscalar(my_poly.get_polyfit(np.dot(x,self.U)))', 'my_poly.get_polyfit(np.dot(x,self.U)).item()')\n",
        "fix_1 = fix_1.replace('del_m = np.asscalar(my_poly.get_polyfit(self.s_old)) - m_new', 'del_m = np.ndarray.item(my_poly.get_polyfit(self.s_old)) - m_new')\n",
        "fix_1 = fix_1.replace('del_m = np.asscalar(my_poly.get_polyfit(np.dot(self.s_old,self.U))) - m_new', 'del_m = np.ndarray.item(my_poly.get_polyfit(np.dot(self.s_old,self.U))) - m_new')\n",
        "\n",
        "with open(\"/content/equadratures/equadratures/optimisation.py\", \"w\") as file:\n",
        "    file.write(fix_1)"
      ]
    },
    {
      "cell_type": "code",
      "execution_count": null,
      "metadata": {
        "id": "7-Pgu8AVIu3o"
      },
      "outputs": [],
      "source": [
        "with open(\"/content/equadratures/equadratures/sampling_methods/induced.py\", \"r\") as file:\n",
        "    fix_2 = file.read()\n",
        "\n",
        "# Lines to modify in equadratures/sampling_methods/induced.py\n",
        "\n",
        "fix_2 = fix_2.replace('F = np.asscalar(F)', 'F = F.item()')\n",
        "\n",
        "with open(\"/content/equadratures/equadratures/sampling_methods/induced.py\", \"w\") as file:\n",
        "    file.write(fix_2)"
      ]
    },
    {
      "cell_type": "code",
      "execution_count": null,
      "metadata": {
        "id": "OlOc2P1CJQQQ"
      },
      "outputs": [],
      "source": [
        "with open(\"/content/equadratures/equadratures/solver.py\", \"r\") as file:\n",
        "    fix_3 = file.read()\n",
        "\n",
        "# Lines to modify in equadratures/solver.py\n",
        "\n",
        "fix_3 = fix_3.replace('fe = 0.5*(np.asscalar(np.dot(r.T,r)) - epsilon**2)', 'fe = 0.5*(np.dot(r.T,r).item() - epsilon**2)')\n",
        "fix_3 = fix_3.replace('cqe = np.asscalar(np.dot(r.T,r)) - epsilon**2', 'cqe = np.dot(r.T,r).item() - epsilon**2')\n",
        "\n",
        "with open(\"/content/equadratures/equadratures/solver.py\", \"w\") as file:\n",
        "    file.write(fix_3)"
      ]
    },
    {
      "cell_type": "code",
      "execution_count": null,
      "metadata": {
        "id": "eLnhiiY-Jf4e"
      },
      "outputs": [],
      "source": [
        "with open(\"/content/equadratures/equadratures/subspaces.py\", \"r\") as file:\n",
        "    fix_4 = file.read()\n",
        "\n",
        "# Lines to modify in equadratures/subspaces.py\n",
        "\n",
        "fix_4 = fix_4.replace('dV[:,l,:,j] = np.asscalar(vectord[l])*(X.T*current[:,j])', 'dV[:,l,:,j] = vectord[l].item()*(X.T*current[:,j])')\n",
        "\n",
        "with open(\"/content/equadratures/equadratures/subspaces.py\", \"w\") as file:\n",
        "    file.write(fix_4)"
      ]
    },
    {
      "cell_type": "code",
      "execution_count": null,
      "metadata": {
        "id": "qNonH3gRKcRG"
      },
      "outputs": [],
      "source": [
        "import sys\n",
        "sys.path.append('/content/equadratures')\n",
        "\n",
        "import equadratures as eq"
      ]
    },
    {
      "cell_type": "code",
      "execution_count": null,
      "metadata": {
        "id": "GjfjEyWnMust"
      },
      "outputs": [],
      "source": [
        "import cvxpy as cp\n",
        "!pip install mosek\n",
        "clear_output()\n",
        "import mosek"
      ]
    },
    {
      "cell_type": "markdown",
      "metadata": {
        "id": "3hKNNHH0fFz2"
      },
      "source": [
        "# Functions"
      ]
    },
    {
      "cell_type": "code",
      "execution_count": null,
      "metadata": {
        "id": "6-GyFECnaNC6"
      },
      "outputs": [],
      "source": [
        "'''\n",
        "def ed_diff_function(y):\n",
        "  y = (y+1)/2\n",
        "  c_bar = construct_cbar(y)\n",
        "\n",
        "  C = construct_C(c_bar, sizes, n)\n",
        "  D = construct_D(A, C, n)\n",
        "  M = C*A - D\n",
        "\n",
        "  diff = ed_diffusion(M, x0, tau=0.01, T=1)\n",
        "\n",
        "  return diff[2,-1]\n",
        "'''"
      ]
    },
    {
      "cell_type": "code",
      "execution_count": null,
      "metadata": {
        "id": "U9kjyrGM54qz"
      },
      "outputs": [],
      "source": [
        "'''\n",
        "def ted_diff_function(y):\n",
        "  y = (y+1)/2\n",
        "  c_bar = construct_cbar(y)\n",
        "\n",
        "  C = construct_C(c_bar, sizes, n)\n",
        "  M_t = construct_Mt(A, C, sizes, alpha=[2,3,4])\n",
        "\n",
        "  diff = RK4_t(x0, 0.01, M_t)\n",
        "\n",
        "  return diff[2,-1]\n",
        "'''"
      ]
    },
    {
      "cell_type": "code",
      "execution_count": null,
      "metadata": {
        "id": "tgdfg9-yQkNQ"
      },
      "outputs": [],
      "source": [
        "def get_average_rmse(m, my_method, dim=3, simuls=5, basis='total-order', ord=4):\n",
        "  errors = np.array([])\n",
        "  my_param_list = [eq.Parameter(distribution='uniform', order=ord, lower=-1.0, upper=1.0) for _ in range(dim)]\n",
        "\n",
        "  for j in range(simuls):\n",
        "    if basis == 'hyperbolic-cross':\n",
        "      my_basis = eq.Basis(basis, orders=[ord for _ in range(dim)])\n",
        "    else:\n",
        "      my_basis = eq.Basis(basis)\n",
        "\n",
        "    X_train = np.random.uniform(-1, 1, size=(m, dim))\n",
        "    y_train = eq.evaluate_model(X_train, ed_diff_function)\n",
        "    my_poly = eq.Poly(parameters=my_param_list, basis=my_basis, method=my_method, \\\n",
        "                      sampling_args={'mesh':'user-defined', 'sample-points':X_train, \\\n",
        "                                    'sample-outputs':y_train})\n",
        "    my_poly.set_model()\n",
        "\n",
        "    test_pts = np.random.uniform(-1, 1, size=(1000, dim))\n",
        "    test_evals = eq.evaluate_model(test_pts, ed_diff_function)\n",
        "    train_r2, test_r2 = my_poly.get_polyscore(X_test=test_pts, y_test=test_evals, metric='rmse')\n",
        "    train_r2, test_r2\n",
        "\n",
        "    errors = np.append(errors, test_r2)\n",
        "\n",
        "  return np.mean(errors)"
      ]
    },
    {
      "cell_type": "code",
      "execution_count": null,
      "metadata": {
        "id": "zy-rH-cfQvuH"
      },
      "outputs": [],
      "source": [
        "def get_average_rmse_TED(m, my_method, dim=3, simuls=5, basis='total-order', ord=4):\n",
        "  errors = np.array([])\n",
        "  my_param_list = [eq.Parameter(distribution='uniform', order=ord, lower=-1.0, upper=1.0) for _ in range(dim)]\n",
        "\n",
        "  for j in range(simuls):\n",
        "    if basis == 'hyperbolic-cross':\n",
        "      my_basis = eq.Basis(basis, orders=[ord for _ in range(dim)])\n",
        "    else:\n",
        "      my_basis = eq.Basis(basis)\n",
        "    X_train = np.random.uniform(-1, 1, size=(m, dim))\n",
        "    y_train = eq.evaluate_model(X_train, ted_diff_function)\n",
        "    my_poly = eq.Poly(parameters=my_param_list, basis=my_basis, method=my_method, \\\n",
        "                      sampling_args={'mesh':'user-defined', 'sample-points':X_train, \\\n",
        "                                    'sample-outputs':y_train})\n",
        "    my_poly.set_model()\n",
        "\n",
        "    test_pts = np.random.uniform(-1, 1, size=(500, dim))\n",
        "    test_evals = eq.evaluate_model(test_pts, ted_diff_function)\n",
        "    train_r2, test_r2 = my_poly.get_polyscore(X_test=test_pts, y_test=test_evals, metric='rmse')\n",
        "    train_r2, test_r2\n",
        "\n",
        "    errors = np.append(errors, test_r2)\n",
        "\n",
        "  return np.mean(errors)"
      ]
    },
    {
      "cell_type": "code",
      "execution_count": null,
      "metadata": {
        "id": "kLQQTfkaRCJo"
      },
      "outputs": [],
      "source": [
        "def conv(x, method, dim=3, simuls=5, basis='total-order', ord=4, verbose=False):\n",
        "  Y = []\n",
        "\n",
        "  for element in x:\n",
        "    if verbose:\n",
        "      start = time.time()\n",
        "    Y.append(get_average_rmse(element, method, dim=dim, simuls=simuls, ord=ord, basis=basis))\n",
        "    if verbose:\n",
        "      end = time.time()\n",
        "      print('m={} w/ {}, done: {} seconds.'.format(element, method, end-start))\n",
        "\n",
        "  return Y"
      ]
    },
    {
      "cell_type": "code",
      "execution_count": null,
      "metadata": {
        "id": "LiDjb4C0REfi"
      },
      "outputs": [],
      "source": [
        "def conv_TED(x, method, dim=3, simuls=5, basis='total-order', ord=4, verbose=False):\n",
        "  Y = []\n",
        "\n",
        "  for element in x:\n",
        "    if verbose:\n",
        "      start = time.time()\n",
        "    Y.append(get_average_rmse_TED(element, method, dim=dim, simuls=simuls, ord=ord, basis=basis))\n",
        "    if verbose:\n",
        "      end = time.time()\n",
        "      print('m={} w/ {}, done: {} seconds.'.format(element, method, end-start))\n",
        "\n",
        "  return Y"
      ]
    },
    {
      "cell_type": "markdown",
      "metadata": {
        "id": "a5tYxakW1Gyq"
      },
      "source": [
        "# Testing equadratures..."
      ]
    },
    {
      "cell_type": "markdown",
      "metadata": {
        "id": "lTtcyMwCr5m3"
      },
      "source": [
        "## Figures 5.5 and 5.6"
      ]
    },
    {
      "cell_type": "code",
      "execution_count": null,
      "metadata": {
        "id": "_xxClPBk1FlG"
      },
      "outputs": [],
      "source": [
        "d = 2"
      ]
    },
    {
      "cell_type": "code",
      "execution_count": null,
      "metadata": {
        "id": "TiT2aSOW1Onn"
      },
      "outputs": [],
      "source": [
        "def ed_diff_function(y):\n",
        "  return exp(-1/(2*d) * np.sum(y))"
      ]
    },
    {
      "cell_type": "code",
      "execution_count": null,
      "metadata": {
        "id": "HT3Buppc4srl"
      },
      "outputs": [],
      "source": [
        "s_HC = [eq.basis.Basis('hyperbolic-cross', orders=[i for _ in range(d)]).get_cardinality() for i in range(2,36,2)]\n",
        "ords = [i for i in range(2,36,2)]"
      ]
    },
    {
      "cell_type": "code",
      "execution_count": null,
      "metadata": {
        "colab": {
          "base_uri": "https://localhost:8080/"
        },
        "id": "5nVG_Ss85tI_",
        "outputId": "540928de-25db-4392-9c94-0186cd5e9489"
      },
      "outputs": [
        {
          "data": {
            "text/plain": [
              "[5, 10, 16, 23, 29, 37, 45, 52, 60, 70, 76, 87, 95, 103, 113, 123, 131]"
            ]
          },
          "execution_count": 36,
          "metadata": {},
          "output_type": "execute_result"
        }
      ],
      "source": [
        "s_HC"
      ]
    },
    {
      "cell_type": "code",
      "execution_count": null,
      "metadata": {
        "id": "i12ZSNdGid67"
      },
      "outputs": [],
      "source": [
        "multiplier = [1, 1.5, 2] if d==2 else [1, 1.25, 1.5, 2]\n",
        "label = ['m=s', 'm=1.5s', 'm=2s', 'm=slog(s)', 'm=0.5s^2'] if d==2 else ['m=s', 'm=1.25s', 'm=1.5s', 'm=2s', 'm=slog(s)']"
      ]
    },
    {
      "cell_type": "code",
      "execution_count": null,
      "metadata": {
        "id": "bbB3cfP46Lym"
      },
      "outputs": [],
      "source": [
        "Y = []\n",
        "\n",
        "for a in multiplier:\n",
        "  y = []\n",
        "  for s in s_HC:\n",
        "    y.append(get_average_rmse(int(a*s), 'least-squares', dim=d, basis='hyperbolic-cross', ord=ords[s_HC.index(s)]))\n",
        "  Y.append(y)"
      ]
    },
    {
      "cell_type": "code",
      "execution_count": null,
      "metadata": {
        "id": "sJKsH_fh-QS2"
      },
      "outputs": [],
      "source": [
        "y_log = []\n",
        "for s in s_HC:\n",
        "  y_log.append(get_average_rmse(int(s*log(s)), 'least-squares', dim=d, basis='hyperbolic-cross', ord=ords[s_HC.index(s)]))\n",
        "Y.append(y_log)"
      ]
    },
    {
      "cell_type": "code",
      "execution_count": null,
      "metadata": {
        "id": "NwyMw-Nj-pUl"
      },
      "outputs": [],
      "source": [
        "y_sq = []\n",
        "for s in s_HC:\n",
        "  y_sq.append(get_average_rmse(int(0.5 * s**2), 'least-squares', dim=d, basis='hyperbolic-cross', ord=ords[s_HC.index(s)]))\n",
        "Y.append(y_sq)"
      ]
    },
    {
      "cell_type": "code",
      "execution_count": null,
      "metadata": {
        "colab": {
          "base_uri": "https://localhost:8080/",
          "height": 499
        },
        "id": "6huldywS86rT",
        "outputId": "ae659bc9-9bd3-46b7-caec-12c1be6c0275"
      },
      "outputs": [
        {
          "data": {
            "image/png": "[encoded data removed]",
            "text/plain": [
              "<Figure size 640x480 with 1 Axes>"
            ]
          },
          "metadata": {
            "needs_background": "light"
          },
          "output_type": "display_data"
        }
      ],
      "source": [
        "color = ['blue', 'orange', 'yellow', 'purple', 'green']\n",
        "#label = ['m=s', 'm=1.25s', 'm=1.5s', 'm=2s', 'm=slog(s)']\n",
        "for i in range(len(Y)):\n",
        "  plt.plot(s_HC, Y[i], color[i], label=label[i], marker='o')\n",
        "  plt.xlabel('s')\n",
        "  plt.ylabel('Average RMSE')\n",
        "  plt.yscale('log')\n",
        "  plt.title('Least-squares, d={}, S=HC'.format(d))\n",
        "plt.legend()\n",
        "plt.show()"
      ]
    },
    {
      "cell_type": "markdown",
      "metadata": {
        "id": "Xa4dy1-Er6lu"
      },
      "source": [
        "## Figure 7.2"
      ]
    },
    {
      "cell_type": "code",
      "execution_count": null,
      "metadata": {
        "id": "KZDKz23NsIYd"
      },
      "outputs": [],
      "source": [
        "d = 4\n",
        "\n",
        "def ed_diff_function(y):\n",
        "  return exp(-1/(2*d) * np.sum(y))\n",
        "\n",
        "nb_samples = [10*i for i in range(1,26)]\n",
        "order = 43"
      ]
    },
    {
      "cell_type": "code",
      "execution_count": null,
      "metadata": {
        "id": "CVWLWhboiQLU"
      },
      "outputs": [],
      "source": [
        "d = 8\n",
        "\n",
        "def ed_diff_function(y):\n",
        "  num = np.prod(np.array([cos(16*y[i]/2**i) for i in range(ceil(d/2)+1, d)]))\n",
        "  dem = np.prod(np.array([1 - y[i]/4**i for i in range(ceil(d/2)+1, d)]))\n",
        "  return num/dem\n",
        "\n",
        "nb_samples = [20*i for i in range(1,26)]\n",
        "order = 22"
      ]
    },
    {
      "cell_type": "code",
      "execution_count": null,
      "metadata": {
        "id": "Ho2LKqhQjD_0"
      },
      "outputs": [],
      "source": [
        "d = 16\n",
        "\n",
        "def ed_diff_function(y):\n",
        "  return exp(-2/d * sum([(y[i] - ((-1)**i/(i+1)))**2 for i in range(d)]))\n",
        "\n",
        "nb_samples = [50*i for i in range(2,21)]\n",
        "order = 14"
      ]
    },
    {
      "cell_type": "code",
      "execution_count": null,
      "metadata": {
        "colab": {
          "base_uri": "https://localhost:8080/"
        },
        "id": "uHl4HGC60Pqq",
        "outputId": "08529fd7-71bc-448b-aef7-a39b26764c51"
      },
      "outputs": [
        {
          "data": {
            "text/plain": [
              "1843"
            ]
          },
          "execution_count": 52,
          "metadata": {},
          "output_type": "execute_result"
        }
      ],
      "source": [
        "eq.basis.Basis('hyperbolic-cross', orders=[order for _ in range(d)]).get_cardinality()"
      ]
    },
    {
      "cell_type": "code",
      "execution_count": null,
      "metadata": {
        "id": "tOIz_nmwssHL"
      },
      "outputs": [],
      "source": [
        "y_1 = conv(nb_samples, 'compressed-sensing', dim=d, simuls=1, basis='hyperbolic-cross', ord=order)\n",
        "y_2 = conv(nb_samples, 'elastic-net', dim=d, simuls=1, basis='hyperbolic-cross', ord=order)"
      ]
    },
    {
      "cell_type": "code",
      "execution_count": null,
      "metadata": {
        "colab": {
          "base_uri": "https://localhost:8080/",
          "height": 482
        },
        "id": "2kEYzmOjnYnf",
        "outputId": "0a5ac900-f52c-4a64-e530-d112f65094a6"
      },
      "outputs": [
        {
          "data": {
            "image/png": "[encoded data removed]",
            "text/plain": [
              "<Figure size 640x480 with 1 Axes>"
            ]
          },
          "metadata": {
            "needs_background": "light"
          },
          "output_type": "display_data"
        }
      ],
      "source": [
        "plt.plot(nb_samples, y_1, 'blue', label='QCBP', marker='o')\n",
        "plt.plot(nb_samples, y_2, 'orange', label='Lasso', marker='o')\n",
        "plt.xlabel('m')\n",
        "plt.ylabel('Average RMSE')\n",
        "plt.yscale('log')\n",
        "#plt.title('Least-squares, d={}, S=HC'.format(d))\n",
        "plt.legend()\n",
        "plt.show()"
      ]
    },
    {
      "cell_type": "markdown",
      "metadata": {
        "id": "9xBMNLDvNhg_"
      },
      "source": [
        "## Is 'sparse-grid' the same as HC?"
      ]
    },
    {
      "cell_type": "code",
      "execution_count": null,
      "metadata": {
        "id": "cx7bVi75NfkS"
      },
      "outputs": [],
      "source": [
        "basis_1 = eq.Basis('sparse-grid', growth_rule='linear', orders=[4,4], level=3)\n",
        "basis_2 = eq.Basis('sparse-grid', growth_rule='exponential', orders=[4,4], level=3)\n",
        "basis_3 = eq.Basis('hyperbolic-basis', orders=[4,4], q=0.5)"
      ]
    },
    {
      "cell_type": "code",
      "execution_count": null,
      "metadata": {
        "id": "QW7icz21PLbP"
      },
      "outputs": [],
      "source": [
        "B = [basis_1, basis_2, basis_3]\n",
        "fig, axs = plt.subplots(1, 3)\n",
        "for ax in axs:\n",
        "  B[axs.index(ax)].plot_index_set()"
      ]
    },
    {
      "cell_type": "code",
      "execution_count": null,
      "metadata": {
        "id": "RsMknt9lEk_g"
      },
      "outputs": [],
      "source": [
        "basis = eq.Basis('hyperbolic-cross', orders=[4,4,4])"
      ]
    },
    {
      "cell_type": "code",
      "execution_count": null,
      "metadata": {
        "colab": {
          "base_uri": "https://localhost:8080/"
        },
        "id": "ymcezv5m_-te",
        "outputId": "d33e9596-5629-472b-a32f-838c7c9cf4ff"
      },
      "outputs": [
        {
          "data": {
            "text/plain": [
              "array([[0., 1.],\n",
              "       [0., 0.],\n",
              "       [0., 0.]])"
            ]
          },
          "execution_count": 26,
          "metadata": {},
          "output_type": "execute_result"
        }
      ],
      "source": [
        "basis.get_elements()"
      ]
    },
    {
      "cell_type": "code",
      "execution_count": null,
      "metadata": {
        "colab": {
          "base_uri": "https://localhost:8080/"
        },
        "id": "2kz-NBai_iyt",
        "outputId": "6ce8e124-91bb-49d7-b8d8-a67db6c2b0bf"
      },
      "outputs": [
        {
          "name": "stdout",
          "output_type": "stream",
          "text": [
            "[3, 3, 3, 3, 3, 3, 3, 3, 3, 3, 3, 3, 3, 3, 3, 3]\n"
          ]
        }
      ],
      "source": [
        "print([eq.Basis('hyperbolic-cross', orders=[i,i,i]).get_cardinality() for i in range(4,20)])"
      ]
    },
    {
      "cell_type": "code",
      "execution_count": null,
      "metadata": {
        "colab": {
          "base_uri": "https://localhost:8080/",
          "height": 482
        },
        "id": "h9fB10IOEvLR",
        "outputId": "0d0a8bc5-9b23-43a2-d45e-019b1a880b74"
      },
      "outputs": [
        {
          "data": {
            "image/png": "[encoded data removed]",
            "text/plain": [
              "<Figure size 500x500 with 1 Axes>"
            ]
          },
          "metadata": {
            "needs_background": "light"
          },
          "output_type": "display_data"
        }
      ],
      "source": [
        "basis.plot_index_set()"
      ]
    },
    {
      "cell_type": "markdown",
      "metadata": {
        "id": "q19wieZQQdFR"
      },
      "source": [
        "Doesn't look like a HC..."
      ]
    },
    {
      "cell_type": "code",
      "execution_count": null,
      "metadata": {
        "colab": {
          "base_uri": "https://localhost:8080/",
          "height": 482
        },
        "id": "SDoRHT32OgGM",
        "outputId": "97609105-133c-4d9a-b5c4-67afd1a7233e"
      },
      "outputs": [
        {
          "data": {
            "image/png": "[encoded data removed]",
            "text/plain": [
              "<Figure size 500x500 with 1 Axes>"
            ]
          },
          "metadata": {
            "needs_background": "light"
          },
          "output_type": "display_data"
        }
      ],
      "source": [
        "basis_2.plot_index_set()"
      ]
    },
    {
      "cell_type": "code",
      "execution_count": null,
      "metadata": {
        "colab": {
          "base_uri": "https://localhost:8080/",
          "height": 482
        },
        "id": "sj8OUj8irAqY",
        "outputId": "76a75eff-766b-4c47-d8d3-1f10cf8c082a"
      },
      "outputs": [
        {
          "data": {
            "image/png": "[encoded data removed]",
            "text/plain": [
              "<Figure size 500x500 with 1 Axes>"
            ]
          },
          "metadata": {
            "needs_background": "light"
          },
          "output_type": "display_data"
        }
      ],
      "source": [
        "eq.Basis('sparse-grid', growth_rule='linear', orders=[20,20], level=3).plot_index_set()"
      ]
    },
    {
      "cell_type": "code",
      "execution_count": null,
      "metadata": {
        "id": "Pn7pYO_FpoGA"
      },
      "outputs": [],
      "source": [
        "d = 2"
      ]
    },
    {
      "cell_type": "code",
      "execution_count": null,
      "metadata": {
        "id": "HJInPieppoGC"
      },
      "outputs": [],
      "source": [
        "def ed_diff_function(y):\n",
        "  return exp(-1/(2*d) * np.sum(y))"
      ]
    },
    {
      "cell_type": "code",
      "execution_count": null,
      "metadata": {
        "id": "TEFYy1IGpN9e"
      },
      "outputs": [],
      "source": [
        "def get_average_rmse_sparse(m, my_method, dim=3, simuls=5, ord=4):\n",
        "  errors = np.array([])\n",
        "  my_param_list = [eq.Parameter(distribution='uniform', order=ord, lower=-1.0, upper=1.0) for i in range(dim)]\n",
        "  my_basis = eq.Basis('sparse-grid', growth_rule='exponential', level=3)\n",
        "\n",
        "  for j in range(simuls):\n",
        "    X_train = np.random.uniform(-1, 1, size=(m, dim))\n",
        "    y_train = eq.evaluate_model(X_train, ed_diff_function)\n",
        "    my_poly = eq.Poly(parameters=my_param_list, basis=my_basis, method=my_method, \\\n",
        "                      sampling_args={'mesh':'user-defined', 'sample-points':X_train, \\\n",
        "                                    'sample-outputs':y_train})\n",
        "    my_poly.set_model()\n",
        "\n",
        "    test_pts = np.random.uniform(-1, 1, size=(1000, dim))\n",
        "    test_evals = eq.evaluate_model(test_pts, ed_diff_function)\n",
        "    train_r2, test_r2 = my_poly.get_polyscore(X_test=test_pts, y_test=test_evals, metric='rmse')\n",
        "    train_r2, test_r2\n",
        "\n",
        "    errors = np.append(errors, test_r2)\n",
        "\n",
        "  return np.mean(errors)"
      ]
    },
    {
      "cell_type": "code",
      "execution_count": null,
      "metadata": {
        "id": "W9VJElfiqZDi"
      },
      "outputs": [],
      "source": [
        "s_SG = [eq.basis.Basis('sparse-grid', orders=[j for i in range(d)], growth_rule='exponential', level=3).get_cardinality() for j in range(1,17)]"
      ]
    },
    {
      "cell_type": "code",
      "execution_count": null,
      "metadata": {
        "colab": {
          "base_uri": "https://localhost:8080/"
        },
        "id": "CMPRDRdLqZDk",
        "outputId": "072c9bd9-8f76-4b74-bb1c-f7f8de81b2e2"
      },
      "outputs": [
        {
          "data": {
            "text/plain": [
              "[69, 69, 69, 69, 69, 69, 69, 69, 69, 69, 69, 69, 69, 69, 69, 69]"
            ]
          },
          "execution_count": 18,
          "metadata": {},
          "output_type": "execute_result"
        }
      ],
      "source": [
        "s_SG"
      ]
    },
    {
      "cell_type": "code",
      "execution_count": null,
      "metadata": {
        "id": "PDhNJvucqZDk"
      },
      "outputs": [],
      "source": [
        "Y = []\n",
        "\n",
        "for a in [1, 1.5, 2]:\n",
        "  y = []\n",
        "  for s in s_SG:\n",
        "    y.append(get_average_rmse_sparse(int(a*s), 'least-squares', dim=d, ord=s_SG.index(s)))\n",
        "  Y.append(y)"
      ]
    },
    {
      "cell_type": "markdown",
      "metadata": {
        "id": "kzzWpkPyRgrh"
      },
      "source": [
        "## Custom solvers (testing LS solver from scipy)"
      ]
    },
    {
      "cell_type": "code",
      "execution_count": null,
      "metadata": {
        "id": "6qbFFRDxTVXl"
      },
      "outputs": [],
      "source": [
        "from scipy.linalg import lstsq"
      ]
    },
    {
      "cell_type": "code",
      "execution_count": null,
      "metadata": {
        "id": "FfbNXWyvRlia"
      },
      "outputs": [],
      "source": [
        "def scipy_ls(A, b, **kwargs):\n",
        "  x, _, _, _ = lstsq(A, b, lapack_driver='gelss')\n",
        "  return x"
      ]
    },
    {
      "cell_type": "code",
      "execution_count": null,
      "metadata": {
        "id": "nG-7k3m4VsmL"
      },
      "outputs": [],
      "source": [
        "def get_average_custom(m, dim=3, simuls=5, basis='total-order', ord=4):\n",
        "  errors = np.array([])\n",
        "  my_param_list = [eq.Parameter(distribution='uniform', order=ord, lower=-1.0, upper=1.0) for i in range(dim)]\n",
        "\n",
        "  for j in range(simuls):\n",
        "    if basis == 'hyperbolic-cross':\n",
        "      my_basis = eq.Basis(basis, orders=[ord for _ in range(dim)])\n",
        "    else:\n",
        "      my_basis = eq.Basis(basis)\n",
        "\n",
        "    X_train = np.random.uniform(-1, 1, size=(m, dim))\n",
        "    y_train = eq.evaluate_model(X_train, ed_diff_function)\n",
        "    my_poly = eq.Poly(my_param_list, my_basis, method='custom-solver',\n",
        "            sampling_args={'mesh':'user-defined', 'sample-points':X_train, 'sample-outputs':y_train},\n",
        "              solver_args={'solve':scipy_ls,'verbose':False})\n",
        "    my_poly.set_model()\n",
        "\n",
        "    test_pts = np.random.uniform(-1, 1, size=(1000, dim))\n",
        "    test_evals = eq.evaluate_model(test_pts, ed_diff_function)\n",
        "    train_r2, test_r2 = my_poly.get_polyscore(X_test=test_pts, y_test=test_evals, metric='rmse')\n",
        "    train_r2, test_r2\n",
        "\n",
        "    errors = np.append(errors, test_r2)\n",
        "\n",
        "  return np.mean(errors)"
      ]
    },
    {
      "cell_type": "code",
      "execution_count": null,
      "metadata": {
        "id": "qV2eVUPJXTbx"
      },
      "outputs": [],
      "source": [
        "d = 8"
      ]
    },
    {
      "cell_type": "code",
      "execution_count": null,
      "metadata": {
        "id": "WlZrLRw0XTb1"
      },
      "outputs": [],
      "source": [
        "def ed_diff_function(y):\n",
        "  return exp(-1/(2*d) * np.sum(y))"
      ]
    },
    {
      "cell_type": "code",
      "execution_count": null,
      "metadata": {
        "id": "srzhlZzHXTb2"
      },
      "outputs": [],
      "source": [
        "s_TD = [eq.basis.Basis('total-order', orders=[j for i in range(d)]).get_cardinality() for j in range(1,6)]"
      ]
    },
    {
      "cell_type": "code",
      "execution_count": null,
      "metadata": {
        "colab": {
          "base_uri": "https://localhost:8080/"
        },
        "id": "tHB2SL1aXTb4",
        "outputId": "6821b418-f67c-43c9-e8b4-8d6c10dd48f3"
      },
      "outputs": [
        {
          "data": {
            "text/plain": [
              "[9, 45, 165, 495, 1287]"
            ]
          },
          "execution_count": 28,
          "metadata": {},
          "output_type": "execute_result"
        }
      ],
      "source": [
        "s_TD"
      ]
    },
    {
      "cell_type": "code",
      "execution_count": null,
      "metadata": {
        "id": "SrSXExxPXTb5"
      },
      "outputs": [],
      "source": [
        "Y = []\n",
        "\n",
        "for a in [1, 1.25, 1.5, 2]:\n",
        "  y = []\n",
        "  for s in s_TD:\n",
        "    y.append(get_average_custom(int(a*s), dim=d, ord=s_TD.index(s)))\n",
        "  Y.append(y)"
      ]
    },
    {
      "cell_type": "code",
      "execution_count": null,
      "metadata": {
        "id": "CL6FKX0uXTb6"
      },
      "outputs": [],
      "source": [
        "y_log = []\n",
        "for s in s_TD:\n",
        "  y_log.append(get_average_custom(int(s*log(s)), dim=d, ord=s_TD.index(s)))\n",
        "Y.append(y_log)"
      ]
    },
    {
      "cell_type": "code",
      "execution_count": null,
      "metadata": {
        "id": "SPGGQDjYXTb6"
      },
      "outputs": [],
      "source": [
        "y_sq = []\n",
        "for s in s_TD:\n",
        "  y_sq.append(get_average_custom(int(0.5 * s**2), 'least-squares', dim=d, ord=s_TD.index(s)))\n",
        "Y.append(y_sq)"
      ]
    },
    {
      "cell_type": "code",
      "execution_count": null,
      "metadata": {
        "colab": {
          "base_uri": "https://localhost:8080/",
          "height": 499
        },
        "id": "XPy_hAjsZZ4A",
        "outputId": "ccf63319-0038-492c-b249-fe0d911e4ad7"
      },
      "outputs": [
        {
          "data": {
            "image/png": "[encoded data removed]",
            "text/plain": [
              "<Figure size 640x480 with 1 Axes>"
            ]
          },
          "metadata": {
            "needs_background": "light"
          },
          "output_type": "display_data"
        }
      ],
      "source": [
        "color = ['blue', 'orange', 'yellow', 'purple', 'green']\n",
        "label = ['m=s', 'm=1.25s','m=1.5s', 'm=2s', 'm=slog(s)']\n",
        "for i in range(len(Y)):\n",
        "  plt.plot(s_TD, Y[i], color[i], label=label[i], marker='o')\n",
        "  plt.xlabel('s')\n",
        "  plt.ylabel('Average RMSE')\n",
        "  plt.yscale('log')\n",
        "  plt.title('Least-squares (w/ \"gelss\"), d={}, S=TD'.format(d))\n",
        "plt.legend()\n",
        "plt.show()"
      ]
    },
    {
      "cell_type": "markdown",
      "metadata": {
        "id": "6Gc_v_JOLE0F"
      },
      "source": [
        "## Custom solver w/ cvxpy"
      ]
    },
    {
      "cell_type": "code",
      "execution_count": null,
      "metadata": {
        "id": "ZCKTlqt4LBMn"
      },
      "outputs": [],
      "source": [
        "## Example code from cvxpy documentation\n",
        "## https://www.cvxpy.org/\n",
        "\n",
        "'''\n",
        "# Construct the problem.\n",
        "x = cp.Variable(n)\n",
        "objective = cp.Minimize(cp.sum_squares(A @ x - b))\n",
        "constraints = [0 <= x, x <= 1]\n",
        "prob = cp.Problem(objective, constraints)\n",
        "\n",
        "# The optimal objective value is returned by `prob.solve()`.\n",
        "result = prob.solve()\n",
        "# The optimal value for x is stored in `x.value`.\n",
        "print(x.value)\n",
        "# The optimal Lagrange multiplier for a constraint is stored in\n",
        "# `constraint.dual_value`.\n",
        "print(constraints[0].dual_value)\n",
        "'''\n",
        "\n",
        "def qcbp(A, b, eta=10e-5, **kwargs):\n",
        "  n = A.shape[1]\n",
        "  z = cp.Variable(n)\n",
        "  b = np.reshape(b, (b.shape[0],))  # to avoid shape issues when defining the constraint\n",
        "  objective = cp.Minimize(cp.norm1(z))\n",
        "  constraints = [cp.norm2(A@z-b) <= eta]\n",
        "  prob = cp.Problem(objective, constraints)\n",
        "  result = prob.solve()  # MOSEK not working (install problem)\n",
        "\n",
        "  return z.value #.reshape((n,1))"
      ]
    },
    {
      "cell_type": "code",
      "execution_count": null,
      "metadata": {
        "id": "LJsuqjTMR4t6"
      },
      "outputs": [],
      "source": [
        "def lasso():\n",
        "  pass"
      ]
    },
    {
      "cell_type": "code",
      "execution_count": null,
      "metadata": {
        "colab": {
          "base_uri": "https://localhost:8080/"
        },
        "id": "eTaIWdwAQfcp",
        "outputId": "ce46b492-4798-474f-daed-fdbef8c1d40f"
      },
      "outputs": [
        {
          "data": {
            "text/plain": [
              "(15,)"
            ]
          },
          "execution_count": 73,
          "metadata": {},
          "output_type": "execute_result"
        }
      ],
      "source": [
        "A = np.random.randn(15,15)\n",
        "b = np.random.randn(15)\n",
        "\n",
        "qcbp(A, b, 1).shape"
      ]
    },
    {
      "cell_type": "code",
      "execution_count": null,
      "metadata": {
        "id": "VR6C0hvkaMJx"
      },
      "outputs": [],
      "source": [
        "def get_average_custom(m, dim=3, simuls=5, basis='total-order', ord=4, solv=qcbp):\n",
        "  errors = np.array([])\n",
        "  my_param_list = [eq.Parameter(distribution='uniform', order=ord, lower=-1.0, upper=1.0) for i in range(dim)]\n",
        "\n",
        "  for j in range(simuls):\n",
        "    if basis == 'hyperbolic-cross':\n",
        "      my_basis = eq.Basis(basis, orders=[ord for _ in range(dim)])\n",
        "    else:\n",
        "      my_basis = eq.Basis(basis)\n",
        "\n",
        "    X_train = np.random.uniform(-1, 1, size=(m, dim))\n",
        "    y_train = eq.evaluate_model(X_train, ed_diff_function)\n",
        "    my_poly = eq.Poly(my_param_list, my_basis, method='custom-solver',\n",
        "            sampling_args={'mesh':'user-defined', 'sample-points':X_train, 'sample-outputs':y_train},\n",
        "              solver_args={'solve':solv,'verbose':False})\n",
        "    my_poly.set_model()\n",
        "\n",
        "    test_pts = np.random.uniform(-1, 1, size=(1000, dim))\n",
        "    test_evals = eq.evaluate_model(test_pts, ed_diff_function)\n",
        "    train_r2, test_r2 = my_poly.get_polyscore(X_test=test_pts, y_test=test_evals, metric='rmse')\n",
        "    train_r2, test_r2\n",
        "\n",
        "    errors = np.append(errors, test_r2)\n",
        "\n",
        "  return np.mean(errors)"
      ]
    },
    {
      "cell_type": "code",
      "execution_count": null,
      "metadata": {
        "colab": {
          "base_uri": "https://localhost:8080/"
        },
        "collapsed": true,
        "id": "edeGwH-uWnIj",
        "outputId": "356afb8d-882b-4020-c74a-4b3dea46133a"
      },
      "outputs": [
        {
          "data": {
            "text/plain": [
              "0.49151223499452257"
            ]
          },
          "execution_count": 78,
          "metadata": {},
          "output_type": "execute_result"
        }
      ],
      "source": [
        "get_average_custom(100, dim=d, simuls=1, basis='hyperbolic-cross')"
      ]
    },
    {
      "cell_type": "code",
      "execution_count": null,
      "metadata": {
        "id": "_4oHBfCsa8tO"
      },
      "outputs": [],
      "source": [
        "def conv_custom(x, dim=3, simuls=5, basis='total-order', ord=4, method=qcbp, verbose=False):\n",
        "  Y = []\n",
        "\n",
        "  for element in x:\n",
        "    if verbose:\n",
        "      start = time.time()\n",
        "    Y.append(get_average_custom(element, dim=dim, simuls=simuls, ord=ord, basis=basis, solv=method))\n",
        "    if verbose:\n",
        "      end = time.time()\n",
        "      print('m={} w/ {}, done: {} seconds.'.format(element, str(method), end-start))\n",
        "\n",
        "  return Y"
      ]
    },
    {
      "cell_type": "code",
      "execution_count": null,
      "metadata": {
        "id": "vongotBla0Jf"
      },
      "outputs": [],
      "source": [
        "d = 4\n",
        "\n",
        "def ed_diff_function(y):\n",
        "  return exp(-1/(2*d) * np.sum(y))\n",
        "\n",
        "nb_samples = [10*i for i in range(1,26)]\n",
        "order = 43"
      ]
    },
    {
      "cell_type": "code",
      "execution_count": null,
      "metadata": {
        "id": "QW0LYff1b697"
      },
      "outputs": [],
      "source": [
        "y_1 = conv_custom(nb_samples, dim=d, simuls=1, basis='hyperbolic-cross', ord=order)"
      ]
    },
    {
      "cell_type": "code",
      "execution_count": null,
      "metadata": {
        "colab": {
          "base_uri": "https://localhost:8080/",
          "height": 472
        },
        "id": "r6kjlPC8bxeK",
        "outputId": "d7ee4ab7-8d3b-47bb-afc6-80f00943bf94"
      },
      "outputs": [
        {
          "data": {
            "image/png": "[encoded data removed]",
            "text/plain": [
              "<Figure size 640x480 with 1 Axes>"
            ]
          },
          "metadata": {
            "needs_background": "light"
          },
          "output_type": "display_data"
        }
      ],
      "source": [
        "plt.plot(nb_samples, y_1, 'blue', label='QCBP', marker='o')\n",
        "#plt.plot(nb_samples, y_2, 'orange', label='Lasso', marker='o')\n",
        "plt.xlabel('m')\n",
        "plt.ylabel('Average RMSE')\n",
        "plt.yscale('log')\n",
        "#plt.title('Least-squares, d={}, S=HC'.format(d))\n",
        "plt.legend()\n",
        "plt.show()"
      ]
    }
  ],
  "metadata": {
    "colab": {
      "collapsed_sections": [
        "rmfpr6YCfFUa",
        "3hKNNHH0fFz2",
        "ZwHqXBaDfGXF",
        "zOOIoeaYiFlv",
        "lTtcyMwCr5m3",
        "Xa4dy1-Er6lu",
        "9xBMNLDvNhg_",
        "kzzWpkPyRgrh"
      ],
      "provenance": []
    },
    "kernelspec": {
      "display_name": "Python 3",
      "name": "python3"
    },
    "language_info": {
      "name": "python",
      "version": "3.9.16"
    }
  },
  "nbformat": 4,
  "nbformat_minor": 0
}
