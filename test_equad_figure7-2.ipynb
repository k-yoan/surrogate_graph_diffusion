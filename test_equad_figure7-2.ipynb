{
  "cells": [
    {
      "cell_type": "markdown",
      "metadata": {
        "id": "rmfpr6YCfFUa"
      },
      "source": [
        "# Libraries"
      ]
    },
    {
      "cell_type": "code",
      "execution_count": 1,
      "metadata": {
        "id": "t6NlaxdNWYy0"
      },
      "outputs": [],
      "source": [
        "import networkx as nx\n",
        "import numpy as np\n",
        "import matplotlib.pyplot as plt\n",
        "from math import exp, sqrt, log\n",
        "from scipy.linalg import expm\n",
        "import itertools\n",
        "from math import cos, ceil\n",
        "import time"
      ]
    },
    {
      "cell_type": "code",
      "execution_count": 2,
      "metadata": {
        "id": "-8NzYAP9XASx"
      },
      "outputs": [],
      "source": [
        "from IPython.display import clear_output"
      ]
    },
    {
      "cell_type": "code",
      "execution_count": 3,
      "metadata": {
        "id": "58xTvo7mYYaw"
      },
      "outputs": [],
      "source": [
        "#from Diff import *"
      ]
    },
    {
      "cell_type": "code",
      "execution_count": 4,
      "metadata": {
        "id": "FGm3YIdKHCLA"
      },
      "outputs": [],
      "source": [
        "!git clone https://github.com/equadratures/equadratures\n",
        "clear_output()"
      ]
    },
    {
      "cell_type": "code",
      "execution_count": 5,
      "metadata": {
        "id": "DncfCbDB7Uin"
      },
      "outputs": [],
      "source": [
        "new_code = '''\n",
        "def hyperbolic_cross(orders):\n",
        "    dimensions = len(orders)\n",
        "    n = orders[0]\n",
        "    I = np.arange(n+1)\n",
        "    I = np.reshape(I, (1,-1))\n",
        "    for k in range(2, dimensions+1):\n",
        "        J = np.array([]).reshape((I.shape[0]+1, 0))\n",
        "        for i in range(n+1):\n",
        "            l = I.shape[1]\n",
        "            for j in range(l):\n",
        "                z = I[:,j]\n",
        "                #z = np.reshape(z, (I.shape[0], 1))\n",
        "                if (i+1)*np.prod(z+1) <= n+1:\n",
        "                    z = np.row_stack((z.reshape((-1,1)), np.array([i]).reshape(1,1)))\n",
        "                    J = np.hstack((J, z))\n",
        "        I = J\n",
        "    return I.T\n",
        "'''"
      ]
    },
    {
      "cell_type": "code",
      "execution_count": 6,
      "metadata": {
        "id": "fr5aI6Xd6I2w"
      },
      "outputs": [],
      "source": [
        "with open(\"/content/equadratures/equadratures/basis.py\", \"a\") as file:\n",
        "  file.write(new_code)"
      ]
    },
    {
      "cell_type": "code",
      "execution_count": 7,
      "metadata": {
        "id": "hCuxzXxr-I5U"
      },
      "outputs": [],
      "source": [
        "new_line_1 = '''        elif name == \"hyperbolic-cross\":\n",
        "            basis = hyperbolic_cross(self.orders)\n",
        "'''\n",
        "\n",
        "# Open the file in read mode to read its contents\n",
        "with open(\"/content/equadratures/equadratures/basis.py\", 'r') as file:\n",
        "    lines = file.readlines()\n",
        "\n",
        "lines.insert(179, new_line_1)\n",
        "\n",
        "# Open the file in write mode to overwrite its contents\n",
        "with open(\"/content/equadratures/equadratures/basis.py\", 'w') as file:\n",
        "    file.writelines(lines)\n",
        "\n",
        "new_line_2 = '''        elif name.lower() == \"hyperbolic-cross\":\n",
        "            basis = hyperbolic_cross(self.orders)\n",
        "'''\n",
        "\n",
        "# Open the file in read mode to read its contents\n",
        "with open(\"/content/equadratures/equadratures/basis.py\", 'r') as file:\n",
        "    lines = file.readlines()\n",
        "\n",
        "lines.insert(93, new_line_2)\n",
        "\n",
        "# Open the file in write mode to overwrite its contents\n",
        "with open(\"/content/equadratures/equadratures/basis.py\", 'w') as file:\n",
        "    file.writelines(lines)"
      ]
    },
    {
      "cell_type": "code",
      "execution_count": 8,
      "metadata": {
        "id": "Rqu62EMAH1NX"
      },
      "outputs": [],
      "source": [
        "with open(\"/content/equadratures/equadratures/optimisation.py\", \"r\") as file:\n",
        "    fix_1 = file.read()\n",
        "\n",
        "# Lines to modify in equadratures/optimisation.py\n",
        "\n",
        "fix_1 = fix_1.replace('objective = lambda x: k*np.asscalar(f(x))', 'objective = lambda x: k*f(x).item()')\n",
        "fix_1 = fix_1.replace('constraint = lambda x: np.asscalar(g(x))', 'constraint = lambda x: g(x).item()')\n",
        "fix_1 = fix_1.replace('self.f_old = np.asscalar(self.f[ind_min])', 'self.f_old = self.f[ind_min].item()')\n",
        "fix_1 = fix_1.replace('return np.asscalar(f)', 'return f.item()')\n",
        "fix_1 = fix_1.replace('np.asscalar(my_poly.get_polyfit(x))', 'my_poly.get_polyfit(x).item()')\n",
        "fix_1 = fix_1.replace('np.asscalar(my_poly.get_polyfit(np.dot(x,self.U)))', 'my_poly.get_polyfit(np.dot(x,self.U)).item()')\n",
        "fix_1 = fix_1.replace('del_m = np.asscalar(my_poly.get_polyfit(self.s_old)) - m_new', 'del_m = np.ndarray.item(my_poly.get_polyfit(self.s_old)) - m_new')\n",
        "fix_1 = fix_1.replace('del_m = np.asscalar(my_poly.get_polyfit(np.dot(self.s_old,self.U))) - m_new', 'del_m = np.ndarray.item(my_poly.get_polyfit(np.dot(self.s_old,self.U))) - m_new')\n",
        "\n",
        "with open(\"/content/equadratures/equadratures/optimisation.py\", \"w\") as file:\n",
        "    file.write(fix_1)"
      ]
    },
    {
      "cell_type": "code",
      "execution_count": 9,
      "metadata": {
        "id": "7-Pgu8AVIu3o"
      },
      "outputs": [],
      "source": [
        "with open(\"/content/equadratures/equadratures/sampling_methods/induced.py\", \"r\") as file:\n",
        "    fix_2 = file.read()\n",
        "\n",
        "# Lines to modify in equadratures/sampling_methods/induced.py\n",
        "\n",
        "fix_2 = fix_2.replace('F = np.asscalar(F)', 'F = F.item()')\n",
        "\n",
        "with open(\"/content/equadratures/equadratures/sampling_methods/induced.py\", \"w\") as file:\n",
        "    file.write(fix_2)"
      ]
    },
    {
      "cell_type": "code",
      "execution_count": 10,
      "metadata": {
        "id": "OlOc2P1CJQQQ"
      },
      "outputs": [],
      "source": [
        "with open(\"/content/equadratures/equadratures/solver.py\", \"r\") as file:\n",
        "    fix_3 = file.read()\n",
        "\n",
        "# Lines to modify in equadratures/solver.py\n",
        "\n",
        "fix_3 = fix_3.replace('fe = 0.5*(np.asscalar(np.dot(r.T,r)) - epsilon**2)', 'fe = 0.5*(np.dot(r.T,r).item() - epsilon**2)')\n",
        "fix_3 = fix_3.replace('cqe = np.asscalar(np.dot(r.T,r)) - epsilon**2', 'cqe = np.dot(r.T,r).item() - epsilon**2')\n",
        "\n",
        "with open(\"/content/equadratures/equadratures/solver.py\", \"w\") as file:\n",
        "    file.write(fix_3)"
      ]
    },
    {
      "cell_type": "code",
      "execution_count": 11,
      "metadata": {
        "id": "eLnhiiY-Jf4e"
      },
      "outputs": [],
      "source": [
        "with open(\"/content/equadratures/equadratures/subspaces.py\", \"r\") as file:\n",
        "    fix_4 = file.read()\n",
        "\n",
        "# Lines to modify in equadratures/subspaces.py\n",
        "\n",
        "fix_4 = fix_4.replace('dV[:,l,:,j] = np.asscalar(vectord[l])*(X.T*current[:,j])', 'dV[:,l,:,j] = vectord[l].item()*(X.T*current[:,j])')\n",
        "\n",
        "with open(\"/content/equadratures/equadratures/subspaces.py\", \"w\") as file:\n",
        "    file.write(fix_4)"
      ]
    },
    {
      "cell_type": "code",
      "execution_count": 12,
      "metadata": {
        "id": "qNonH3gRKcRG"
      },
      "outputs": [],
      "source": [
        "import sys\n",
        "sys.path.append('/content/equadratures')\n",
        "\n",
        "import equadratures as eq"
      ]
    },
    {
      "cell_type": "markdown",
      "metadata": {
        "id": "GZl-HRqdNUyU"
      },
      "source": [
        "# MOSEK installation"
      ]
    },
    {
      "cell_type": "code",
      "source": [
        "!pip uninstall Mosek\n",
        "clear_output()"
      ],
      "metadata": {
        "id": "-mvvYTJnJMsh"
      },
      "execution_count": 13,
      "outputs": []
    },
    {
      "cell_type": "code",
      "execution_count": 14,
      "metadata": {
        "id": "uMsZSAFDjFAo"
      },
      "outputs": [],
      "source": [
        "!pip install Mosek\n",
        "clear_output()"
      ]
    },
    {
      "cell_type": "code",
      "execution_count": null,
      "metadata": {
        "colab": {
          "base_uri": "https://localhost:8080/",
          "height": 1000
        },
        "collapsed": true,
        "id": "-7xM9APVLGQh",
        "outputId": "d754bbb2-c903-4dca-9574-cea3665bade8"
      },
      "outputs": [
        {
          "ename": "MessageError",
          "evalue": "Error: credential propagation was unsuccessful",
          "output_type": "error",
          "traceback": [
            "\u001b[0;31m---------------------------------------------------------------------------\u001b[0m",
            "\u001b[0;31mMessageError\u001b[0m                              Traceback (most recent call last)",
            "\u001b[0;32m<ipython-input-2-d5df0069828e>\u001b[0m in \u001b[0;36m<cell line: 2>\u001b[0;34m()\u001b[0m\n\u001b[1;32m      1\u001b[0m \u001b[0;32mfrom\u001b[0m \u001b[0mgoogle\u001b[0m\u001b[0;34m.\u001b[0m\u001b[0mcolab\u001b[0m \u001b[0;32mimport\u001b[0m \u001b[0mdrive\u001b[0m\u001b[0;34m\u001b[0m\u001b[0;34m\u001b[0m\u001b[0m\n\u001b[0;32m----> 2\u001b[0;31m \u001b[0mdrive\u001b[0m\u001b[0;34m.\u001b[0m\u001b[0mmount\u001b[0m\u001b[0;34m(\u001b[0m\u001b[0;34m'/content/drive'\u001b[0m\u001b[0;34m)\u001b[0m\u001b[0;34m\u001b[0m\u001b[0;34m\u001b[0m\u001b[0m\n\u001b[0m",
            "\u001b[0;32m/usr/local/lib/python3.10/dist-packages/google/colab/drive.py\u001b[0m in \u001b[0;36mmount\u001b[0;34m(mountpoint, force_remount, timeout_ms, readonly)\u001b[0m\n\u001b[1;32m     98\u001b[0m \u001b[0;32mdef\u001b[0m \u001b[0mmount\u001b[0m\u001b[0;34m(\u001b[0m\u001b[0mmountpoint\u001b[0m\u001b[0;34m,\u001b[0m \u001b[0mforce_remount\u001b[0m\u001b[0;34m=\u001b[0m\u001b[0;32mFalse\u001b[0m\u001b[0;34m,\u001b[0m \u001b[0mtimeout_ms\u001b[0m\u001b[0;34m=\u001b[0m\u001b[0;36m120000\u001b[0m\u001b[0;34m,\u001b[0m \u001b[0mreadonly\u001b[0m\u001b[0;34m=\u001b[0m\u001b[0;32mFalse\u001b[0m\u001b[0;34m)\u001b[0m\u001b[0;34m:\u001b[0m\u001b[0;34m\u001b[0m\u001b[0;34m\u001b[0m\u001b[0m\n\u001b[1;32m     99\u001b[0m   \u001b[0;34m\"\"\"Mount your Google Drive at the specified mountpoint path.\"\"\"\u001b[0m\u001b[0;34m\u001b[0m\u001b[0;34m\u001b[0m\u001b[0m\n\u001b[0;32m--> 100\u001b[0;31m   return _mount(\n\u001b[0m\u001b[1;32m    101\u001b[0m       \u001b[0mmountpoint\u001b[0m\u001b[0;34m,\u001b[0m\u001b[0;34m\u001b[0m\u001b[0;34m\u001b[0m\u001b[0m\n\u001b[1;32m    102\u001b[0m       \u001b[0mforce_remount\u001b[0m\u001b[0;34m=\u001b[0m\u001b[0mforce_remount\u001b[0m\u001b[0;34m,\u001b[0m\u001b[0;34m\u001b[0m\u001b[0;34m\u001b[0m\u001b[0m\n",
            "\u001b[0;32m/usr/local/lib/python3.10/dist-packages/google/colab/drive.py\u001b[0m in \u001b[0;36m_mount\u001b[0;34m(mountpoint, force_remount, timeout_ms, ephemeral, readonly)\u001b[0m\n\u001b[1;32m    131\u001b[0m   )\n\u001b[1;32m    132\u001b[0m   \u001b[0;32mif\u001b[0m \u001b[0mephemeral\u001b[0m\u001b[0;34m:\u001b[0m\u001b[0;34m\u001b[0m\u001b[0;34m\u001b[0m\u001b[0m\n\u001b[0;32m--> 133\u001b[0;31m     _message.blocking_request(\n\u001b[0m\u001b[1;32m    134\u001b[0m         \u001b[0;34m'request_auth'\u001b[0m\u001b[0;34m,\u001b[0m\u001b[0;34m\u001b[0m\u001b[0;34m\u001b[0m\u001b[0m\n\u001b[1;32m    135\u001b[0m         \u001b[0mrequest\u001b[0m\u001b[0;34m=\u001b[0m\u001b[0;34m{\u001b[0m\u001b[0;34m'authType'\u001b[0m\u001b[0;34m:\u001b[0m \u001b[0;34m'dfs_ephemeral'\u001b[0m\u001b[0;34m}\u001b[0m\u001b[0;34m,\u001b[0m\u001b[0;34m\u001b[0m\u001b[0;34m\u001b[0m\u001b[0m\n",
            "\u001b[0;32m/usr/local/lib/python3.10/dist-packages/google/colab/_message.py\u001b[0m in \u001b[0;36mblocking_request\u001b[0;34m(request_type, request, timeout_sec, parent)\u001b[0m\n\u001b[1;32m    174\u001b[0m       \u001b[0mrequest_type\u001b[0m\u001b[0;34m,\u001b[0m \u001b[0mrequest\u001b[0m\u001b[0;34m,\u001b[0m \u001b[0mparent\u001b[0m\u001b[0;34m=\u001b[0m\u001b[0mparent\u001b[0m\u001b[0;34m,\u001b[0m \u001b[0mexpect_reply\u001b[0m\u001b[0;34m=\u001b[0m\u001b[0;32mTrue\u001b[0m\u001b[0;34m\u001b[0m\u001b[0;34m\u001b[0m\u001b[0m\n\u001b[1;32m    175\u001b[0m   )\n\u001b[0;32m--> 176\u001b[0;31m   \u001b[0;32mreturn\u001b[0m \u001b[0mread_reply_from_input\u001b[0m\u001b[0;34m(\u001b[0m\u001b[0mrequest_id\u001b[0m\u001b[0;34m,\u001b[0m \u001b[0mtimeout_sec\u001b[0m\u001b[0;34m)\u001b[0m\u001b[0;34m\u001b[0m\u001b[0;34m\u001b[0m\u001b[0m\n\u001b[0m",
            "\u001b[0;32m/usr/local/lib/python3.10/dist-packages/google/colab/_message.py\u001b[0m in \u001b[0;36mread_reply_from_input\u001b[0;34m(message_id, timeout_sec)\u001b[0m\n\u001b[1;32m    101\u001b[0m     ):\n\u001b[1;32m    102\u001b[0m       \u001b[0;32mif\u001b[0m \u001b[0;34m'error'\u001b[0m \u001b[0;32min\u001b[0m \u001b[0mreply\u001b[0m\u001b[0;34m:\u001b[0m\u001b[0;34m\u001b[0m\u001b[0;34m\u001b[0m\u001b[0m\n\u001b[0;32m--> 103\u001b[0;31m         \u001b[0;32mraise\u001b[0m \u001b[0mMessageError\u001b[0m\u001b[0;34m(\u001b[0m\u001b[0mreply\u001b[0m\u001b[0;34m[\u001b[0m\u001b[0;34m'error'\u001b[0m\u001b[0;34m]\u001b[0m\u001b[0;34m)\u001b[0m\u001b[0;34m\u001b[0m\u001b[0;34m\u001b[0m\u001b[0m\n\u001b[0m\u001b[1;32m    104\u001b[0m       \u001b[0;32mreturn\u001b[0m \u001b[0mreply\u001b[0m\u001b[0;34m.\u001b[0m\u001b[0mget\u001b[0m\u001b[0;34m(\u001b[0m\u001b[0;34m'data'\u001b[0m\u001b[0;34m,\u001b[0m \u001b[0;32mNone\u001b[0m\u001b[0;34m)\u001b[0m\u001b[0;34m\u001b[0m\u001b[0;34m\u001b[0m\u001b[0m\n\u001b[1;32m    105\u001b[0m \u001b[0;34m\u001b[0m\u001b[0m\n",
            "\u001b[0;31mMessageError\u001b[0m: Error: credential propagation was unsuccessful"
          ]
        }
      ],
      "source": [
        "#from google.colab import drive\n",
        "#drive.mount('/content/drive')"
      ]
    },
    {
      "cell_type": "code",
      "execution_count": null,
      "metadata": {
        "id": "v-UV0htnM2Eh"
      },
      "outputs": [],
      "source": [
        "#mosek_path = '/content/drive/My Drive/mosek.lic'"
      ]
    },
    {
      "cell_type": "code",
      "execution_count": 15,
      "metadata": {
        "id": "GjfjEyWnMust"
      },
      "outputs": [],
      "source": [
        "#import mosek\n",
        "import cvxpy as cp\n",
        "#clear_output()\n",
        "import mosek"
      ]
    },
    {
      "cell_type": "markdown",
      "metadata": {
        "id": "a5tYxakW1Gyq"
      },
      "source": [
        "# Testing equadratures..."
      ]
    },
    {
      "cell_type": "markdown",
      "metadata": {
        "id": "lTtcyMwCr5m3"
      },
      "source": [
        "## Figures 5.5 and 5.6"
      ]
    },
    {
      "cell_type": "code",
      "execution_count": null,
      "metadata": {
        "id": "_xxClPBk1FlG"
      },
      "outputs": [],
      "source": [
        "d = 2"
      ]
    },
    {
      "cell_type": "code",
      "execution_count": null,
      "metadata": {
        "id": "TiT2aSOW1Onn"
      },
      "outputs": [],
      "source": [
        "def ed_diff_function(y):\n",
        "  return exp(-1/(2*d) * np.sum(y))"
      ]
    },
    {
      "cell_type": "code",
      "execution_count": null,
      "metadata": {
        "colab": {
          "base_uri": "https://localhost:8080/"
        },
        "id": "UCSl7ag8giyY",
        "outputId": "afb4a6ef-2854-4a79-8b01-3be16714b72e"
      },
      "outputs": [
        {
          "name": "stdout",
          "output_type": "stream",
          "text": [
            "9\n",
            "23\n",
            "43\n",
            "73\n",
            "93\n",
            "137\n",
            "169\n",
            "208\n",
            "252\n",
            "308\n",
            "328\n",
            "418\n",
            "454\n",
            "498\n",
            "566\n",
            "638\n",
            "670\n"
          ]
        }
      ],
      "source": [
        "for i in range(2,36,2):\n",
        "  print(eq.basis.Basis('hyperbolic-cross', orders=[i for _ in range(4)]).get_cardinality())"
      ]
    },
    {
      "cell_type": "code",
      "execution_count": null,
      "metadata": {
        "id": "HT3Buppc4srl"
      },
      "outputs": [],
      "source": [
        "s_HC = [eq.basis.Basis('hyperbolic-cross', orders=[i for _ in range(d)]).get_cardinality() for i in range(2,36,2)]\n",
        "ords = [i for i in range(2,36,2)]"
      ]
    },
    {
      "cell_type": "code",
      "execution_count": null,
      "metadata": {
        "colab": {
          "base_uri": "https://localhost:8080/"
        },
        "id": "5nVG_Ss85tI_",
        "outputId": "540928de-25db-4392-9c94-0186cd5e9489"
      },
      "outputs": [
        {
          "data": {
            "text/plain": [
              "[5, 10, 16, 23, 29, 37, 45, 52, 60, 70, 76, 87, 95, 103, 113, 123, 131]"
            ]
          },
          "execution_count": 36,
          "metadata": {},
          "output_type": "execute_result"
        }
      ],
      "source": [
        "s_HC"
      ]
    },
    {
      "cell_type": "code",
      "execution_count": null,
      "metadata": {
        "colab": {
          "base_uri": "https://localhost:8080/"
        },
        "id": "AIeVUWAN5QtY",
        "outputId": "854f0b39-02f9-40df-9497-d434434dcb4b"
      },
      "outputs": [
        {
          "data": {
            "text/plain": [
              "8.051052846742047e-12"
            ]
          },
          "execution_count": 29,
          "metadata": {},
          "output_type": "execute_result"
        }
      ],
      "source": [
        "get_average_rmse(120, 'least-squares', dim=d, simuls=1, ord=14)"
      ]
    },
    {
      "cell_type": "code",
      "execution_count": null,
      "metadata": {
        "id": "i12ZSNdGid67"
      },
      "outputs": [],
      "source": [
        "multiplier = [1, 1.5, 2] if d==2 else [1, 1.25, 1.5, 2]\n",
        "label = ['m=s', 'm=1.5s', 'm=2s', 'm=slog(s)', 'm=0.5s^2'] if d==2 else ['m=s', 'm=1.25s', 'm=1.5s', 'm=2s', 'm=slog(s)']"
      ]
    },
    {
      "cell_type": "code",
      "execution_count": null,
      "metadata": {
        "id": "bbB3cfP46Lym"
      },
      "outputs": [],
      "source": [
        "Y = []\n",
        "\n",
        "for a in multiplier:\n",
        "  y = []\n",
        "  for s in s_HC:\n",
        "    y.append(get_average_rmse(int(a*s), 'least-squares', dim=d, basis='hyperbolic-cross', ord=ords[s_HC.index(s)]))\n",
        "  Y.append(y)"
      ]
    },
    {
      "cell_type": "code",
      "execution_count": null,
      "metadata": {
        "id": "sJKsH_fh-QS2"
      },
      "outputs": [],
      "source": [
        "y_log = []\n",
        "for s in s_HC:\n",
        "  y_log.append(get_average_rmse(int(s*log(s)), 'least-squares', dim=d, basis='hyperbolic-cross', ord=ords[s_HC.index(s)]))\n",
        "Y.append(y_log)"
      ]
    },
    {
      "cell_type": "code",
      "execution_count": null,
      "metadata": {
        "id": "NwyMw-Nj-pUl"
      },
      "outputs": [],
      "source": [
        "y_sq = []\n",
        "for s in s_HC:\n",
        "  y_sq.append(get_average_rmse(int(0.5 * s**2), 'least-squares', dim=d, basis='hyperbolic-cross', ord=ords[s_HC.index(s)]))\n",
        "Y.append(y_sq)"
      ]
    },
    {
      "cell_type": "code",
      "execution_count": null,
      "metadata": {
        "colab": {
          "base_uri": "https://localhost:8080/",
          "height": 499
        },
        "id": "6huldywS86rT",
        "outputId": "ae659bc9-9bd3-46b7-caec-12c1be6c0275"
      },
      "outputs": [
        {
          "data": {
            "image/png": "[encoded data removed]",
            "text/plain": [
              "<Figure size 640x480 with 1 Axes>"
            ]
          },
          "metadata": {},
          "output_type": "display_data"
        }
      ],
      "source": [
        "color = ['blue', 'orange', 'yellow', 'purple', 'green']\n",
        "#label = ['m=s', 'm=1.25s', 'm=1.5s', 'm=2s', 'm=slog(s)']\n",
        "for i in range(len(Y)):\n",
        "  plt.plot(s_HC, Y[i], color[i], label=label[i], marker='o')\n",
        "  plt.xlabel('s')\n",
        "  plt.ylabel('Average RMSE')\n",
        "  plt.yscale('log')\n",
        "  plt.title('Least-squares, d={}, S=HC'.format(d))\n",
        "plt.legend()\n",
        "plt.show()"
      ]
    },
    {
      "cell_type": "markdown",
      "metadata": {
        "id": "Xa4dy1-Er6lu"
      },
      "source": [
        "## Figure 7.2"
      ]
    },
    {
      "cell_type": "code",
      "execution_count": null,
      "metadata": {
        "colab": {
          "base_uri": "https://localhost:8080/"
        },
        "id": "OATseuYmFXNY",
        "outputId": "8c63f6d8-2f4a-4e1b-b72c-b3dec2d0d22a"
      },
      "outputs": [
        {
          "name": "stdout",
          "output_type": "stream",
          "text": [
            "['CVXOPT', 'ECOS', 'ECOS_BB', 'GLPK', 'GLPK_MI', 'MOSEK', 'OSQP', 'SCIPY', 'SCS']\n"
          ]
        }
      ],
      "source": [
        "print(cp.installed_solvers())"
      ]
    },
    {
      "cell_type": "code",
      "execution_count": null,
      "metadata": {
        "colab": {
          "base_uri": "https://localhost:8080/"
        },
        "id": "_3Ub0u4YfNpz",
        "outputId": "cded7086-87e8-4e53-d373-cddfb89aed9f"
      },
      "outputs": [
        {
          "name": "stdout",
          "output_type": "stream",
          "text": [
            "1.3.4\n"
          ]
        }
      ],
      "source": [
        "print(cp.__version__)"
      ]
    },
    {
      "cell_type": "code",
      "execution_count": 19,
      "metadata": {
        "id": "z7SDevusiVdu"
      },
      "outputs": [],
      "source": [
        "solver = cp.ECOS"
      ]
    },
    {
      "cell_type": "code",
      "execution_count": 20,
      "metadata": {
        "id": "ZCKTlqt4LBMn"
      },
      "outputs": [],
      "source": [
        "## Example code from cvxpy documentation\n",
        "## https://www.cvxpy.org/\n",
        "\n",
        "'''\n",
        "# Construct the problem.\n",
        "x = cp.Variable(n)\n",
        "objective = cp.Minimize(cp.sum_squares(A @ x - b))\n",
        "constraints = [0 <= x, x <= 1]\n",
        "prob = cp.Problem(objective, constraints)\n",
        "\n",
        "# The optimal objective value is returned by `prob.solve()`.\n",
        "result = prob.solve()\n",
        "# The optimal value for x is stored in `x.value`.\n",
        "print(x.value)\n",
        "# The optimal Lagrange multiplier for a constraint is stored in\n",
        "# `constraint.dual_value`.\n",
        "print(constraints[0].dual_value)\n",
        "'''\n",
        "\n",
        "def qcbp(A, b, eta=10e-5, **kwargs):\n",
        "  n = A.shape[1]\n",
        "  z = cp.Variable(n)\n",
        "  b = np.reshape(b, (b.shape[0],))  # to avoid shape issues when defining the constraint\n",
        "  #b = (1/sqrt(A.shape[0])) * b\n",
        "  objective = cp.Minimize(cp.norm1(z))\n",
        "  constraints = [cp.norm2(A@z-b) <= eta]\n",
        "  prob = cp.Problem(objective, constraints)\n",
        "  result = prob.solve(solver=solver)  # MOSEK not working (install problem)\n",
        "\n",
        "  return z.value #.reshape((n,1))\n",
        "\n",
        "\n",
        "def lasso(A, b, lmbd=0.01, **kwargs):\n",
        "  n = A.shape[1]\n",
        "  z = cp.Variable(n)\n",
        "  b = np.reshape(b, (b.shape[0],))  # to avoid shape issues when defining the constraint\n",
        "  #b = (1/sqrt(A.shape[0])) * b\n",
        "  lmbd = 1/sqrt(25*A.shape[0])\n",
        "  objective = cp.Minimize(cp.norm2(A@z-b) + lmbd*cp.norm1(z))\n",
        "  prob = cp.Problem(objective)\n",
        "  result = prob.solve(solver=solver)\n",
        "\n",
        "  return z.value #.reshape((n,1))\n",
        "\n",
        "\n",
        "def weighted_qcbp(A, b, w, eta=10e-5, **kwargs):\n",
        "  n = A.shape[1]\n",
        "  z = cp.Variable(n)\n",
        "  b = np.reshape(b, (b.shape[0],))  # to avoid shape issues when defining the constraint\n",
        "  #b = (1/sqrt(A.shape[0])) * b\n",
        "  #w = np.reshape(w, (w.shape[0],))  # same for w\n",
        "  #w = np.abs(np.max(A, axis=0))\n",
        "  objective = cp.Minimize(w.T@cp.abs(z))\n",
        "  #objective = cp.Minimize(w*cp.norm1(z))\n",
        "  constraints = [cp.norm2(A@z-b) <= eta]\n",
        "  prob = cp.Problem(objective, constraints)\n",
        "  result = prob.solve(solver=solver)  # MOSEK not working (install problem)\n",
        "\n",
        "  return z.value #.reshape((n,1))\n",
        "\n",
        "\n",
        "def weighted_lasso(A, b, w, lmbd=0.01, **kwargs):\n",
        "  n = A.shape[1]\n",
        "  z = cp.Variable(n)\n",
        "  b = np.reshape(b, (b.shape[0],))  # to avoid shape issues when defining the constraint\n",
        "  #b = (1/sqrt(A.shape[0])) * b\n",
        "  #w = np.reshape(w, (w.shape[0],))  # same for w\n",
        "  #w = np.abs(np.max(A, axis=0))\n",
        "  lmbd = 1/sqrt(25*A.shape[0])\n",
        "  objective = cp.Minimize(cp.norm2(A@z-b) + lmbd*(w.T@cp.abs(z)))  # for p=2, weighted norm is the same as unweighted\n",
        "  #objective = cp.Minimize(0.5*cp.norm2(A@z-b) + lmbd*w*cp.norm1(z))\n",
        "  prob = cp.Problem(objective)\n",
        "  result = prob.solve(solver=solver)\n",
        "\n",
        "  return z.value #.reshape((n,1))"
      ]
    },
    {
      "cell_type": "code",
      "execution_count": 21,
      "metadata": {
        "colab": {
          "base_uri": "https://localhost:8080/"
        },
        "collapsed": true,
        "id": "eTaIWdwAQfcp",
        "outputId": "e3426f1d-f202-4e54-a90d-cc111baa94e3"
      },
      "outputs": [
        {
          "output_type": "execute_result",
          "data": {
            "text/plain": [
              "(15,)"
            ]
          },
          "metadata": {},
          "execution_count": 21
        }
      ],
      "source": [
        "A = np.random.randn(15,15)\n",
        "b = np.random.randn(15)\n",
        "\n",
        "qcbp(A, b).shape"
      ]
    },
    {
      "cell_type": "code",
      "execution_count": 22,
      "metadata": {
        "id": "VR6C0hvkaMJx"
      },
      "outputs": [],
      "source": [
        "def get_average_custom(m, dim=3, simuls=5, basis='total-order', ord=4, solv=qcbp):\n",
        "  errors = np.array([])\n",
        "  my_param_list = [eq.Parameter(distribution='uniform', order=ord, lower=-1.0, upper=1.0) for i in range(dim)]\n",
        "\n",
        "  if basis == 'hyperbolic-cross':\n",
        "    my_basis = eq.Basis(basis, orders=[ord for _ in range(dim)])\n",
        "  else:\n",
        "    my_basis = eq.Basis(basis)\n",
        "\n",
        "  I = my_basis.get_elements()\n",
        "  size_I = I.shape\n",
        "  weights = np.prod(np.sqrt(2 * I + np.ones(size_I)), axis=1)\n",
        "\n",
        "  for j in range(simuls):\n",
        "\n",
        "    X_train = np.random.uniform(-1, 1, size=(m, dim))\n",
        "    y_train = eq.evaluate_model(X_train, ed_diff_function)\n",
        "    if solv == qcbp or solv == weighted_qcbp:\n",
        "      my_poly_ref = eq.Poly(my_param_list, my_basis, method='custom-solver',\n",
        "            sampling_args={'mesh':'user-defined', 'sample-points':X_train, 'sample-outputs':y_train})\n",
        "      A = my_poly_ref.get_poly(X_train).T\n",
        "      #print(A.shape)\n",
        "      #print(c_ref.shape)\n",
        "      #print(y_train.shape)\n",
        "      eta_opt = np.linalg.norm(A@c_ref - y_train)\n",
        "      #print(eta_opt.shape)\n",
        "      if solv == qcbp:\n",
        "        my_poly = eq.Poly(my_param_list, my_basis, method='custom-solver',\n",
        "            sampling_args={'mesh':'user-defined', 'sample-points':X_train, 'sample-outputs':y_train},\n",
        "              solver_args={'solve':solv, 'eta':eta_opt, 'verbose':False})\n",
        "      else:\n",
        "        my_poly = eq.Poly(my_param_list, my_basis, method='custom-solver',\n",
        "            sampling_args={'mesh':'user-defined', 'sample-points':X_train, 'sample-outputs':y_train},\n",
        "              solver_args={'solve':solv, 'w':weights, 'eta':eta_opt, 'verbose':False})\n",
        "    else:\n",
        "      if solv == lasso:\n",
        "        my_poly = eq.Poly(my_param_list, my_basis, method='custom-solver',\n",
        "            sampling_args={'mesh':'user-defined', 'sample-points':X_train, 'sample-outputs':y_train},\n",
        "              solver_args={'solve':solv, 'verbose':False})\n",
        "      else:\n",
        "        my_poly = eq.Poly(my_param_list, my_basis, method='custom-solver',\n",
        "            sampling_args={'mesh':'user-defined', 'sample-points':X_train, 'sample-outputs':y_train},\n",
        "              solver_args={'solve':solv, 'w':weights, 'verbose':False})\n",
        "    my_poly.set_model()\n",
        "\n",
        "    test_pts = np.random.uniform(-1, 1, size=(1000, dim))\n",
        "    test_evals = eq.evaluate_model(test_pts, ed_diff_function)\n",
        "    train_r2, test_r2 = my_poly.get_polyscore(X_test=test_pts, y_test=test_evals, metric='rmse')\n",
        "    train_r2, test_r2\n",
        "\n",
        "    errors = np.append(errors, test_r2)\n",
        "\n",
        "  return np.mean(errors)"
      ]
    },
    {
      "cell_type": "code",
      "execution_count": 23,
      "metadata": {
        "id": "_4oHBfCsa8tO"
      },
      "outputs": [],
      "source": [
        "def conv_custom(x, dim=3, simuls=5, basis='total-order', ord=4, method=qcbp, verbose=False):\n",
        "  Y = []\n",
        "\n",
        "  for element in x:\n",
        "    if verbose:\n",
        "      start = time.time()\n",
        "    Y.append(get_average_custom(element, dim=dim, simuls=simuls, ord=ord, basis=basis, solv=method))\n",
        "    if verbose:\n",
        "      end = time.time()\n",
        "      print('m={} w/ {}, done: {} seconds.'.format(element, str(method), end-start))\n",
        "\n",
        "  return Y"
      ]
    },
    {
      "cell_type": "code",
      "execution_count": 24,
      "metadata": {
        "colab": {
          "base_uri": "https://localhost:8080/"
        },
        "id": "vongotBla0Jf",
        "outputId": "1d331c75-dfca-40cc-b51e-13bf84c0462f"
      },
      "outputs": [
        {
          "name": "stdout",
          "output_type": "stream",
          "text": [
            "16\n"
          ]
        }
      ],
      "source": [
        "d = int(input()) # 4, 8 or 16\n",
        "\n",
        "if d == 4:\n",
        "  def ed_diff_function(y):\n",
        "    return exp(-1/(2*d) * np.sum(y))\n",
        "\n",
        "  nb_samples = [10*i for i in range(1,26)]\n",
        "  order = 43\n",
        "elif d == 8:\n",
        "  def ed_diff_function(y):\n",
        "    num = np.prod(np.array([cos(16*y[i]/2**i) for i in range(ceil(d/2)+1, d)]))\n",
        "    dem = np.prod(np.array([1 - y[i]/4**i for i in range(ceil(d/2)+1, d)]))\n",
        "    return num/dem\n",
        "\n",
        "  nb_samples = [20*i for i in range(1,26)]\n",
        "  order = 22\n",
        "elif d == 16:\n",
        "  def ed_diff_function(y):\n",
        "    return exp(-2/d * sum([(y[i] - ((-1)**i/(i+1)))**2 for i in range(d)]))\n",
        "\n",
        "  nb_samples = [50*i for i in range(2,21)]\n",
        "  order = 14"
      ]
    },
    {
      "cell_type": "code",
      "execution_count": 25,
      "metadata": {
        "colab": {
          "base_uri": "https://localhost:8080/"
        },
        "id": "xzERHlcjSqBA",
        "outputId": "84645ad1-7aa7-441c-b0d4-a0d4645176c7"
      },
      "outputs": [
        {
          "output_type": "execute_result",
          "data": {
            "text/plain": [
              "16"
            ]
          },
          "metadata": {},
          "execution_count": 25
        }
      ],
      "source": [
        "d"
      ]
    },
    {
      "cell_type": "code",
      "execution_count": 26,
      "metadata": {
        "colab": {
          "base_uri": "https://localhost:8080/"
        },
        "id": "TuWLS92VhZow",
        "outputId": "c59046f9-32e0-44ae-859a-66238401ab97"
      },
      "outputs": [
        {
          "output_type": "stream",
          "name": "stdout",
          "text": [
            "4385\n",
            "WARNING: Method not declared.\n"
          ]
        }
      ],
      "source": [
        "### Construct error grid, error matrix and error vector\n",
        "\n",
        "err_grid_ratio = 0.1\n",
        "#M = ceil(err_grid_ratio * eq.basis.Basis('hyperbolic-cross', orders=[order for _ in range(d)]).get_cardinality())\n",
        "M = 10000\n",
        "err_grid = np.random.uniform(-1, 1, size=(M, d))\n",
        "\n",
        "# measurement matrix\n",
        "bas = eq.Basis('hyperbolic-cross', orders=[order for _ in range(d)])\n",
        "print(bas.get_cardinality())\n",
        "poly = eq.Poly([eq.Parameter(distribution='uniform', order=order, lower=-1.0, upper=1.0) for _ in range(d)], bas)\n",
        "A_err_grid = poly.get_poly(err_grid).T/sqrt(M)\n",
        "b_err_grid = eq.evaluate_model(err_grid, ed_diff_function)/sqrt(M)\n",
        "\n",
        "#print(A_err_grid.T@A_err_grid)\n",
        "\n",
        "c_ref, _, _, _ = np.linalg.lstsq(A_err_grid, b_err_grid)"
      ]
    },
    {
      "cell_type": "code",
      "execution_count": null,
      "metadata": {
        "colab": {
          "base_uri": "https://localhost:8080/"
        },
        "id": "edeGwH-uWnIj",
        "outputId": "cdc01855-05bd-4031-8c89-c29124517f6c"
      },
      "outputs": [
        {
          "name": "stdout",
          "output_type": "stream",
          "text": [
            "(100, 998)\n",
            "(998, 1)\n",
            "(100, 1)\n",
            "()\n"
          ]
        },
        {
          "data": {
            "text/plain": [
              "1.0195593793919935"
            ]
          },
          "execution_count": 43,
          "metadata": {},
          "output_type": "execute_result"
        }
      ],
      "source": [
        "get_average_custom(100, dim=d, simuls=1, basis='hyperbolic-cross', ord=order)"
      ]
    },
    {
      "cell_type": "code",
      "execution_count": 29,
      "metadata": {
        "id": "QW0LYff1b697"
      },
      "outputs": [],
      "source": [
        "y_1 = conv_custom(nb_samples, dim=d, simuls=1, basis='hyperbolic-cross', ord=order)\n",
        "y_2 = conv_custom(nb_samples, dim=d, simuls=1, basis='hyperbolic-cross', ord=order, method=lasso)\n",
        "y_3 = conv_custom(nb_samples, dim=d, simuls=1, basis='hyperbolic-cross', ord=order, method=weighted_qcbp)\n",
        "y_4 = conv_custom(nb_samples, dim=d, simuls=1, basis='hyperbolic-cross', ord=order, method=weighted_lasso)"
      ]
    },
    {
      "cell_type": "code",
      "execution_count": 30,
      "metadata": {
        "colab": {
          "base_uri": "https://localhost:8080/",
          "height": 472
        },
        "id": "r6kjlPC8bxeK",
        "outputId": "793cf18b-9b9d-4573-b625-e2845e2f21df"
      },
      "outputs": [
        {
          "output_type": "display_data",
          "data": {
            "text/plain": [
              "<Figure size 640x480 with 1 Axes>"
            ],
            "image/png": "[encoded data removed]"
          },
          "metadata": {
            "needs_background": "light"
          }
        }
      ],
      "source": [
        "plt.plot(nb_samples, y_1, 'royalblue', label='QCBP', marker='.')\n",
        "plt.plot(nb_samples, y_2, 'blue', label='Lasso', marker='o', linestyle='--')\n",
        "plt.plot(nb_samples, y_3, 'orange', label='wQCBP', marker='s')\n",
        "plt.plot(nb_samples, y_4, 'orangered', label='wLasso', marker='>', linestyle='--')\n",
        "plt.xlabel('m')\n",
        "plt.ylabel('Average RMSE')\n",
        "plt.yscale('log')\n",
        "#plt.title('Least-squares, d={}, S=HC'.format(d))\n",
        "plt.legend()\n",
        "plt.show()"
      ]
    },
    {
      "cell_type": "markdown",
      "metadata": {
        "id": "kzzWpkPyRgrh"
      },
      "source": [
        "## Custom solvers (testing LS solver from scipy)"
      ]
    },
    {
      "cell_type": "code",
      "execution_count": null,
      "metadata": {
        "id": "6qbFFRDxTVXl"
      },
      "outputs": [],
      "source": [
        "from scipy.linalg import lstsq"
      ]
    },
    {
      "cell_type": "code",
      "execution_count": null,
      "metadata": {
        "id": "FfbNXWyvRlia"
      },
      "outputs": [],
      "source": [
        "def scipy_ls(A, b, **kwargs):\n",
        "  x, _, _, _ = lstsq(A, b, lapack_driver='gelss')\n",
        "  return x"
      ]
    },
    {
      "cell_type": "code",
      "execution_count": null,
      "metadata": {
        "id": "nG-7k3m4VsmL"
      },
      "outputs": [],
      "source": [
        "def get_average_custom(m, dim=3, simuls=5, basis='total-order', ord=4):\n",
        "  errors = np.array([])\n",
        "  my_param_list = [eq.Parameter(distribution='uniform', order=ord, lower=-1.0, upper=1.0) for i in range(dim)]\n",
        "\n",
        "  for j in range(simuls):\n",
        "    if basis == 'hyperbolic-cross':\n",
        "      my_basis = eq.Basis(basis, orders=[ord for _ in range(dim)])\n",
        "    else:\n",
        "      my_basis = eq.Basis(basis)\n",
        "\n",
        "    X_train = np.random.uniform(-1, 1, size=(m, dim))\n",
        "    y_train = eq.evaluate_model(X_train, ed_diff_function)\n",
        "    my_poly = eq.Poly(my_param_list, my_basis, method='custom-solver',\n",
        "            sampling_args={'mesh':'user-defined', 'sample-points':X_train, 'sample-outputs':y_train},\n",
        "              solver_args={'solve':scipy_ls,'verbose':False})\n",
        "    my_poly.set_model()\n",
        "\n",
        "    test_pts = np.random.uniform(-1, 1, size=(1000, dim))\n",
        "    test_evals = eq.evaluate_model(test_pts, ed_diff_function)\n",
        "    train_r2, test_r2 = my_poly.get_polyscore(X_test=test_pts, y_test=test_evals, metric='rmse')\n",
        "    train_r2, test_r2\n",
        "\n",
        "    errors = np.append(errors, test_r2)\n",
        "\n",
        "  return np.mean(errors)"
      ]
    },
    {
      "cell_type": "code",
      "execution_count": null,
      "metadata": {
        "id": "qV2eVUPJXTbx"
      },
      "outputs": [],
      "source": [
        "d = 8"
      ]
    },
    {
      "cell_type": "code",
      "execution_count": null,
      "metadata": {
        "id": "WlZrLRw0XTb1"
      },
      "outputs": [],
      "source": [
        "def ed_diff_function(y):\n",
        "  return exp(-1/(2*d) * np.sum(y))"
      ]
    },
    {
      "cell_type": "code",
      "execution_count": null,
      "metadata": {
        "id": "srzhlZzHXTb2"
      },
      "outputs": [],
      "source": [
        "s_TD = [eq.basis.Basis('total-order', orders=[j for i in range(d)]).get_cardinality() for j in range(1,6)]"
      ]
    },
    {
      "cell_type": "code",
      "execution_count": null,
      "metadata": {
        "colab": {
          "base_uri": "https://localhost:8080/"
        },
        "id": "tHB2SL1aXTb4",
        "outputId": "6821b418-f67c-43c9-e8b4-8d6c10dd48f3"
      },
      "outputs": [
        {
          "data": {
            "text/plain": [
              "[9, 45, 165, 495, 1287]"
            ]
          },
          "execution_count": 28,
          "metadata": {},
          "output_type": "execute_result"
        }
      ],
      "source": [
        "s_TD"
      ]
    },
    {
      "cell_type": "code",
      "execution_count": null,
      "metadata": {
        "id": "SrSXExxPXTb5"
      },
      "outputs": [],
      "source": [
        "Y = []\n",
        "\n",
        "for a in [1, 1.25, 1.5, 2]:\n",
        "  y = []\n",
        "  for s in s_TD:\n",
        "    y.append(get_average_custom(int(a*s), dim=d, ord=s_TD.index(s)))\n",
        "  Y.append(y)"
      ]
    },
    {
      "cell_type": "code",
      "execution_count": null,
      "metadata": {
        "id": "CL6FKX0uXTb6"
      },
      "outputs": [],
      "source": [
        "y_log = []\n",
        "for s in s_TD:\n",
        "  y_log.append(get_average_custom(int(s*log(s)), dim=d, ord=s_TD.index(s)))\n",
        "Y.append(y_log)"
      ]
    },
    {
      "cell_type": "code",
      "execution_count": null,
      "metadata": {
        "id": "SPGGQDjYXTb6"
      },
      "outputs": [],
      "source": [
        "y_sq = []\n",
        "for s in s_TD:\n",
        "  y_sq.append(get_average_custom(int(0.5 * s**2), 'least-squares', dim=d, ord=s_TD.index(s)))\n",
        "Y.append(y_sq)"
      ]
    },
    {
      "cell_type": "code",
      "execution_count": null,
      "metadata": {
        "colab": {
          "base_uri": "https://localhost:8080/",
          "height": 499
        },
        "id": "XPy_hAjsZZ4A",
        "outputId": "ccf63319-0038-492c-b249-fe0d911e4ad7"
      },
      "outputs": [
        {
          "data": {
            "image/png": "[encoded data removed]",
            "text/plain": [
              "<Figure size 640x480 with 1 Axes>"
            ]
          },
          "metadata": {},
          "output_type": "display_data"
        }
      ],
      "source": [
        "color = ['blue', 'orange', 'yellow', 'purple', 'green']\n",
        "label = ['m=s', 'm=1.25s','m=1.5s', 'm=2s', 'm=slog(s)']\n",
        "for i in range(len(Y)):\n",
        "  plt.plot(s_TD, Y[i], color[i], label=label[i], marker='o')\n",
        "  plt.xlabel('s')\n",
        "  plt.ylabel('Average RMSE')\n",
        "  plt.yscale('log')\n",
        "  plt.title('Least-squares (w/ \"gelss\"), d={}, S=TD'.format(d))\n",
        "plt.legend()\n",
        "plt.show()"
      ]
    }
  ],
  "metadata": {
    "colab": {
      "collapsed_sections": [
        "rmfpr6YCfFUa",
        "3hKNNHH0fFz2",
        "ZwHqXBaDfGXF",
        "zOOIoeaYiFlv",
        "lTtcyMwCr5m3",
        "Xa4dy1-Er6lu",
        "9xBMNLDvNhg_",
        "kzzWpkPyRgrh"
      ],
      "provenance": []
    },
    "kernelspec": {
      "display_name": "Python 3",
      "name": "python3"
    },
    "language_info": {
      "name": "python"
    }
  },
  "nbformat": 4,
  "nbformat_minor": 0
}