{
  "cells": [
    {
      "cell_type": "markdown",
      "metadata": {
        "id": "rmfpr6YCfFUa"
      },
      "source": [
        "# Libraries"
      ]
    },
    {
      "cell_type": "code",
      "execution_count": 1,
      "metadata": {
        "id": "t6NlaxdNWYy0"
      },
      "outputs": [],
      "source": [
        "import networkx as nx\n",
        "import numpy as np\n",
        "import matplotlib.pyplot as plt\n",
        "from math import exp, sqrt, log\n",
        "from scipy.linalg import expm\n",
        "import itertools\n",
        "from math import cos, ceil\n",
        "import time"
      ]
    },
    {
      "cell_type": "code",
      "execution_count": 2,
      "metadata": {
        "id": "-8NzYAP9XASx"
      },
      "outputs": [],
      "source": [
        "from IPython.display import clear_output"
      ]
    },
    {
      "cell_type": "code",
      "execution_count": 3,
      "metadata": {
        "id": "58xTvo7mYYaw"
      },
      "outputs": [],
      "source": [
        "#from Diff import *"
      ]
    },
    {
      "cell_type": "code",
      "execution_count": 4,
      "metadata": {
        "id": "FGm3YIdKHCLA"
      },
      "outputs": [],
      "source": [
        "!git clone https://github.com/equadratures/equadratures\n",
        "clear_output()"
      ]
    },
    {
      "cell_type": "code",
      "execution_count": 5,
      "metadata": {
        "id": "DncfCbDB7Uin"
      },
      "outputs": [],
      "source": [
        "new_code = '''\n",
        "def hyperbolic_cross(orders):\n",
        "    dimensions = len(orders)\n",
        "    n = orders[0]\n",
        "    I = np.arange(n+1)\n",
        "    I = np.reshape(I, (1,-1))\n",
        "    for k in range(2, dimensions+1):\n",
        "        J = np.array([]).reshape((I.shape[0]+1, 0))\n",
        "        for i in range(n+1):\n",
        "            l = I.shape[1]\n",
        "            for j in range(l):\n",
        "                z = I[:,j]\n",
        "                #z = np.reshape(z, (I.shape[0], 1))\n",
        "                if (i+1)*np.prod(z+1) <= n+1:\n",
        "                    z = np.row_stack((z.reshape((-1,1)), np.array([i]).reshape(1,1)))\n",
        "                    J = np.hstack((J, z))\n",
        "        I = J\n",
        "    return I.T\n",
        "'''"
      ]
    },
    {
      "cell_type": "code",
      "execution_count": 6,
      "metadata": {
        "id": "fr5aI6Xd6I2w"
      },
      "outputs": [],
      "source": [
        "with open(\"/content/equadratures/equadratures/basis.py\", \"a\") as file:\n",
        "  file.write(new_code)"
      ]
    },
    {
      "cell_type": "code",
      "execution_count": 7,
      "metadata": {
        "id": "hCuxzXxr-I5U"
      },
      "outputs": [],
      "source": [
        "new_line_1 = '''        elif name == \"hyperbolic-cross\":\n",
        "            basis = hyperbolic_cross(self.orders)\n",
        "'''\n",
        "\n",
        "# Open the file in read mode to read its contents\n",
        "with open(\"/content/equadratures/equadratures/basis.py\", 'r') as file:\n",
        "    lines = file.readlines()\n",
        "\n",
        "lines.insert(179, new_line_1)\n",
        "\n",
        "# Open the file in write mode to overwrite its contents\n",
        "with open(\"/content/equadratures/equadratures/basis.py\", 'w') as file:\n",
        "    file.writelines(lines)\n",
        "\n",
        "new_line_2 = '''        elif name.lower() == \"hyperbolic-cross\":\n",
        "            basis = hyperbolic_cross(self.orders)\n",
        "'''\n",
        "\n",
        "# Open the file in read mode to read its contents\n",
        "with open(\"/content/equadratures/equadratures/basis.py\", 'r') as file:\n",
        "    lines = file.readlines()\n",
        "\n",
        "lines.insert(93, new_line_2)\n",
        "\n",
        "# Open the file in write mode to overwrite its contents\n",
        "with open(\"/content/equadratures/equadratures/basis.py\", 'w') as file:\n",
        "    file.writelines(lines)"
      ]
    },
    {
      "cell_type": "code",
      "execution_count": 8,
      "metadata": {
        "id": "Rqu62EMAH1NX"
      },
      "outputs": [],
      "source": [
        "with open(\"/content/equadratures/equadratures/optimisation.py\", \"r\") as file:\n",
        "    fix_1 = file.read()\n",
        "\n",
        "# Lines to modify in equadratures/optimisation.py\n",
        "\n",
        "fix_1 = fix_1.replace('objective = lambda x: k*np.asscalar(f(x))', 'objective = lambda x: k*f(x).item()')\n",
        "fix_1 = fix_1.replace('constraint = lambda x: np.asscalar(g(x))', 'constraint = lambda x: g(x).item()')\n",
        "fix_1 = fix_1.replace('self.f_old = np.asscalar(self.f[ind_min])', 'self.f_old = self.f[ind_min].item()')\n",
        "fix_1 = fix_1.replace('return np.asscalar(f)', 'return f.item()')\n",
        "fix_1 = fix_1.replace('np.asscalar(my_poly.get_polyfit(x))', 'my_poly.get_polyfit(x).item()')\n",
        "fix_1 = fix_1.replace('np.asscalar(my_poly.get_polyfit(np.dot(x,self.U)))', 'my_poly.get_polyfit(np.dot(x,self.U)).item()')\n",
        "fix_1 = fix_1.replace('del_m = np.asscalar(my_poly.get_polyfit(self.s_old)) - m_new', 'del_m = np.ndarray.item(my_poly.get_polyfit(self.s_old)) - m_new')\n",
        "fix_1 = fix_1.replace('del_m = np.asscalar(my_poly.get_polyfit(np.dot(self.s_old,self.U))) - m_new', 'del_m = np.ndarray.item(my_poly.get_polyfit(np.dot(self.s_old,self.U))) - m_new')\n",
        "\n",
        "with open(\"/content/equadratures/equadratures/optimisation.py\", \"w\") as file:\n",
        "    file.write(fix_1)"
      ]
    },
    {
      "cell_type": "code",
      "execution_count": 9,
      "metadata": {
        "id": "7-Pgu8AVIu3o"
      },
      "outputs": [],
      "source": [
        "with open(\"/content/equadratures/equadratures/sampling_methods/induced.py\", \"r\") as file:\n",
        "    fix_2 = file.read()\n",
        "\n",
        "# Lines to modify in equadratures/sampling_methods/induced.py\n",
        "\n",
        "fix_2 = fix_2.replace('F = np.asscalar(F)', 'F = F.item()')\n",
        "\n",
        "with open(\"/content/equadratures/equadratures/sampling_methods/induced.py\", \"w\") as file:\n",
        "    file.write(fix_2)"
      ]
    },
    {
      "cell_type": "code",
      "execution_count": 10,
      "metadata": {
        "id": "OlOc2P1CJQQQ"
      },
      "outputs": [],
      "source": [
        "with open(\"/content/equadratures/equadratures/solver.py\", \"r\") as file:\n",
        "    fix_3 = file.read()\n",
        "\n",
        "# Lines to modify in equadratures/solver.py\n",
        "\n",
        "fix_3 = fix_3.replace('fe = 0.5*(np.asscalar(np.dot(r.T,r)) - epsilon**2)', 'fe = 0.5*(np.dot(r.T,r).item() - epsilon**2)')\n",
        "fix_3 = fix_3.replace('cqe = np.asscalar(np.dot(r.T,r)) - epsilon**2', 'cqe = np.dot(r.T,r).item() - epsilon**2')\n",
        "\n",
        "with open(\"/content/equadratures/equadratures/solver.py\", \"w\") as file:\n",
        "    file.write(fix_3)"
      ]
    },
    {
      "cell_type": "code",
      "execution_count": 11,
      "metadata": {
        "id": "eLnhiiY-Jf4e"
      },
      "outputs": [],
      "source": [
        "with open(\"/content/equadratures/equadratures/subspaces.py\", \"r\") as file:\n",
        "    fix_4 = file.read()\n",
        "\n",
        "# Lines to modify in equadratures/subspaces.py\n",
        "\n",
        "fix_4 = fix_4.replace('dV[:,l,:,j] = np.asscalar(vectord[l])*(X.T*current[:,j])', 'dV[:,l,:,j] = vectord[l].item()*(X.T*current[:,j])')\n",
        "\n",
        "with open(\"/content/equadratures/equadratures/subspaces.py\", \"w\") as file:\n",
        "    file.write(fix_4)"
      ]
    },
    {
      "cell_type": "code",
      "execution_count": 12,
      "metadata": {
        "id": "qNonH3gRKcRG"
      },
      "outputs": [],
      "source": [
        "import sys\n",
        "sys.path.append('/content/equadratures')\n",
        "\n",
        "import equadratures as eq"
      ]
    },
    {
      "cell_type": "markdown",
      "metadata": {
        "id": "GZl-HRqdNUyU"
      },
      "source": [
        "# MOSEK installation"
      ]
    },
    {
      "cell_type": "code",
      "execution_count": 13,
      "metadata": {
        "id": "uMsZSAFDjFAo"
      },
      "outputs": [],
      "source": [
        "!pip install Mosek\n",
        "clear_output()"
      ]
    },
    {
      "cell_type": "code",
      "source": [
        "import os\n",
        "\n",
        "root_dir = '/root/'\n",
        "folder_name = 'mosek'\n",
        "\n",
        "folder_path = os.path.join(root_dir, folder_name)\n",
        "\n",
        "if not os.path.exists(folder_path):\n",
        "    os.makedirs(folder_path)\n",
        "    print(f\"Folder '{folder_name}' created in '{root_dir}'.\")\n",
        "else:\n",
        "    print(f\"Folder '{folder_name}' already exists in '{root_dir}'.\")"
      ],
      "metadata": {
        "colab": {
          "base_uri": "https://localhost:8080/"
        },
        "id": "EiEbw0nqbmAh",
        "outputId": "0b21278f-b3c4-48cf-dd20-e0f7747ee081"
      },
      "execution_count": 14,
      "outputs": [
        {
          "output_type": "stream",
          "name": "stdout",
          "text": [
            "Folder 'mosek' created in '/root/'.\n"
          ]
        }
      ]
    },
    {
      "cell_type": "code",
      "source": [
        "from google.colab import drive\n",
        "import shutil\n",
        "\n",
        "drive.mount('/content/drive')\n",
        "\n",
        "root_dir = '/root/'\n",
        "folder_name = 'mosek'\n",
        "\n",
        "file_path_in_drive = '/content/drive/MyDrive/mosek.lic'\n",
        "\n",
        "destination_path = os.path.join(root_dir, folder_name, os.path.basename(file_path_in_drive))\n",
        "\n",
        "# Copy the file from Google Drive to Colab\n",
        "shutil.copyfile(file_path_in_drive, destination_path)\n",
        "print(f\"File '{os.path.basename(file_path_in_drive)}' successfully copied to '{destination_path}'.\")\n",
        "\n",
        "# Unmount Google Drive\n",
        "drive.flush_and_unmount()\n",
        "print('Google Drive unmounted.')\n"
      ],
      "metadata": {
        "colab": {
          "base_uri": "https://localhost:8080/"
        },
        "id": "RmjyijNdei_Y",
        "outputId": "2bb08037-9af0-4573-d3e4-882cad84e4cc"
      },
      "execution_count": 15,
      "outputs": [
        {
          "output_type": "stream",
          "name": "stdout",
          "text": [
            "Mounted at /content/drive\n",
            "File 'mosek.lic' successfully copied to '/root/mosek/mosek.lic'.\n",
            "Google Drive unmounted.\n"
          ]
        }
      ]
    },
    {
      "cell_type": "code",
      "execution_count": 16,
      "metadata": {
        "id": "GjfjEyWnMust"
      },
      "outputs": [],
      "source": [
        "import cvxpy as cp\n",
        "import mosek"
      ]
    },
    {
      "cell_type": "markdown",
      "metadata": {
        "id": "a5tYxakW1Gyq"
      },
      "source": [
        "# Testing equadratures..."
      ]
    },
    {
      "cell_type": "markdown",
      "metadata": {
        "id": "lTtcyMwCr5m3"
      },
      "source": [
        "## Figures 5.5 and 5.6"
      ]
    },
    {
      "cell_type": "code",
      "execution_count": null,
      "metadata": {
        "id": "_xxClPBk1FlG"
      },
      "outputs": [],
      "source": [
        "d = 2"
      ]
    },
    {
      "cell_type": "code",
      "execution_count": null,
      "metadata": {
        "id": "TiT2aSOW1Onn"
      },
      "outputs": [],
      "source": [
        "def ed_diff_function(y):\n",
        "  return exp(-1/(2*d) * np.sum(y))"
      ]
    },
    {
      "cell_type": "code",
      "execution_count": null,
      "metadata": {
        "colab": {
          "base_uri": "https://localhost:8080/"
        },
        "id": "UCSl7ag8giyY",
        "outputId": "afb4a6ef-2854-4a79-8b01-3be16714b72e"
      },
      "outputs": [
        {
          "name": "stdout",
          "output_type": "stream",
          "text": [
            "9\n",
            "23\n",
            "43\n",
            "73\n",
            "93\n",
            "137\n",
            "169\n",
            "208\n",
            "252\n",
            "308\n",
            "328\n",
            "418\n",
            "454\n",
            "498\n",
            "566\n",
            "638\n",
            "670\n"
          ]
        }
      ],
      "source": [
        "for i in range(2,36,2):\n",
        "  print(eq.basis.Basis('hyperbolic-cross', orders=[i for _ in range(4)]).get_cardinality())"
      ]
    },
    {
      "cell_type": "code",
      "execution_count": null,
      "metadata": {
        "id": "HT3Buppc4srl"
      },
      "outputs": [],
      "source": [
        "s_HC = [eq.basis.Basis('hyperbolic-cross', orders=[i for _ in range(d)]).get_cardinality() for i in range(2,36,2)]\n",
        "ords = [i for i in range(2,36,2)]"
      ]
    },
    {
      "cell_type": "code",
      "execution_count": null,
      "metadata": {
        "colab": {
          "base_uri": "https://localhost:8080/"
        },
        "id": "5nVG_Ss85tI_",
        "outputId": "540928de-25db-4392-9c94-0186cd5e9489"
      },
      "outputs": [
        {
          "data": {
            "text/plain": [
              "[5, 10, 16, 23, 29, 37, 45, 52, 60, 70, 76, 87, 95, 103, 113, 123, 131]"
            ]
          },
          "execution_count": 36,
          "metadata": {},
          "output_type": "execute_result"
        }
      ],
      "source": [
        "s_HC"
      ]
    },
    {
      "cell_type": "code",
      "execution_count": null,
      "metadata": {
        "colab": {
          "base_uri": "https://localhost:8080/"
        },
        "id": "AIeVUWAN5QtY",
        "outputId": "854f0b39-02f9-40df-9497-d434434dcb4b"
      },
      "outputs": [
        {
          "data": {
            "text/plain": [
              "8.051052846742047e-12"
            ]
          },
          "execution_count": 29,
          "metadata": {},
          "output_type": "execute_result"
        }
      ],
      "source": [
        "get_average_rmse(120, 'least-squares', dim=d, simuls=1, ord=14)"
      ]
    },
    {
      "cell_type": "code",
      "execution_count": null,
      "metadata": {
        "id": "i12ZSNdGid67"
      },
      "outputs": [],
      "source": [
        "multiplier = [1, 1.5, 2] if d==2 else [1, 1.25, 1.5, 2]\n",
        "label = ['m=s', 'm=1.5s', 'm=2s', 'm=slog(s)', 'm=0.5s^2'] if d==2 else ['m=s', 'm=1.25s', 'm=1.5s', 'm=2s', 'm=slog(s)']"
      ]
    },
    {
      "cell_type": "code",
      "execution_count": null,
      "metadata": {
        "id": "bbB3cfP46Lym"
      },
      "outputs": [],
      "source": [
        "Y = []\n",
        "\n",
        "for a in multiplier:\n",
        "  y = []\n",
        "  for s in s_HC:\n",
        "    y.append(get_average_rmse(int(a*s), 'least-squares', dim=d, basis='hyperbolic-cross', ord=ords[s_HC.index(s)]))\n",
        "  Y.append(y)"
      ]
    },
    {
      "cell_type": "code",
      "execution_count": null,
      "metadata": {
        "id": "sJKsH_fh-QS2"
      },
      "outputs": [],
      "source": [
        "y_log = []\n",
        "for s in s_HC:\n",
        "  y_log.append(get_average_rmse(int(s*log(s)), 'least-squares', dim=d, basis='hyperbolic-cross', ord=ords[s_HC.index(s)]))\n",
        "Y.append(y_log)"
      ]
    },
    {
      "cell_type": "code",
      "execution_count": null,
      "metadata": {
        "id": "NwyMw-Nj-pUl"
      },
      "outputs": [],
      "source": [
        "y_sq = []\n",
        "for s in s_HC:\n",
        "  y_sq.append(get_average_rmse(int(0.5 * s**2), 'least-squares', dim=d, basis='hyperbolic-cross', ord=ords[s_HC.index(s)]))\n",
        "Y.append(y_sq)"
      ]
    },
    {
      "cell_type": "code",
      "execution_count": null,
      "metadata": {
        "colab": {
          "base_uri": "https://localhost:8080/",
          "height": 499
        },
        "id": "6huldywS86rT",
        "outputId": "ae659bc9-9bd3-46b7-caec-12c1be6c0275"
      },
      "outputs": [
        {
          "data": {
            "image/png": "[encoded data removed]",
            "text/plain": [
              "<Figure size 640x480 with 1 Axes>"
            ]
          },
          "metadata": {},
          "output_type": "display_data"
        }
      ],
      "source": [
        "color = ['blue', 'orange', 'yellow', 'purple', 'green']\n",
        "#label = ['m=s', 'm=1.25s', 'm=1.5s', 'm=2s', 'm=slog(s)']\n",
        "for i in range(len(Y)):\n",
        "  plt.plot(s_HC, Y[i], color[i], label=label[i], marker='o')\n",
        "  plt.xlabel('s')\n",
        "  plt.ylabel('Average RMSE')\n",
        "  plt.yscale('log')\n",
        "  plt.title('Least-squares, d={}, S=HC'.format(d))\n",
        "plt.legend()\n",
        "plt.show()"
      ]
    },
    {
      "cell_type": "markdown",
      "metadata": {
        "id": "Xa4dy1-Er6lu"
      },
      "source": [
        "## Figure 7.2"
      ]
    },
    {
      "cell_type": "code",
      "execution_count": null,
      "metadata": {
        "colab": {
          "base_uri": "https://localhost:8080/"
        },
        "id": "OATseuYmFXNY",
        "outputId": "8c63f6d8-2f4a-4e1b-b72c-b3dec2d0d22a"
      },
      "outputs": [
        {
          "name": "stdout",
          "output_type": "stream",
          "text": [
            "['CVXOPT', 'ECOS', 'ECOS_BB', 'GLPK', 'GLPK_MI', 'MOSEK', 'OSQP', 'SCIPY', 'SCS']\n"
          ]
        }
      ],
      "source": [
        "print(cp.installed_solvers())"
      ]
    },
    {
      "cell_type": "code",
      "execution_count": null,
      "metadata": {
        "colab": {
          "base_uri": "https://localhost:8080/"
        },
        "id": "_3Ub0u4YfNpz",
        "outputId": "cded7086-87e8-4e53-d373-cddfb89aed9f"
      },
      "outputs": [
        {
          "name": "stdout",
          "output_type": "stream",
          "text": [
            "1.3.4\n"
          ]
        }
      ],
      "source": [
        "print(cp.__version__)"
      ]
    },
    {
      "cell_type": "code",
      "execution_count": 17,
      "metadata": {
        "id": "z7SDevusiVdu"
      },
      "outputs": [],
      "source": [
        "solver = cp.SCS"
      ]
    },
    {
      "cell_type": "code",
      "execution_count": 33,
      "metadata": {
        "id": "ZCKTlqt4LBMn"
      },
      "outputs": [],
      "source": [
        "## Example code from cvxpy documentation\n",
        "## https://www.cvxpy.org/\n",
        "\n",
        "'''\n",
        "# Construct the problem.\n",
        "x = cp.Variable(n)\n",
        "objective = cp.Minimize(cp.sum_squares(A @ x - b))\n",
        "constraints = [0 <= x, x <= 1]\n",
        "prob = cp.Problem(objective, constraints)\n",
        "\n",
        "# The optimal objective value is returned by `prob.solve()`.\n",
        "result = prob.solve()\n",
        "# The optimal value for x is stored in `x.value`.\n",
        "print(x.value)\n",
        "# The optimal Lagrange multiplier for a constraint is stored in\n",
        "# `constraint.dual_value`.\n",
        "print(constraints[0].dual_value)\n",
        "'''\n",
        "\n",
        "def qcbp(A, b, eta=10e-5, **kwargs):\n",
        "  n = A.shape[1]\n",
        "  z = cp.Variable(n)\n",
        "  b = np.reshape(b, (b.shape[0],))  # to avoid shape issues when defining the constraint\n",
        "  #b = (1/sqrt(A.shape[0])) * b\n",
        "  objective = cp.Minimize(cp.norm1(z))\n",
        "  constraints = [cp.norm2(A@z-b) <= eta]\n",
        "  prob = cp.Problem(objective, constraints)\n",
        "  result = prob.solve(solver=solver)  # MOSEK not working (install problem)\n",
        "  print('QCBP completed.')\n",
        "\n",
        "  return z.value #.reshape((n,1))\n",
        "\n",
        "\n",
        "def weighted_qcbp(A, b, eta=10e-5, **kwargs):\n",
        "  n = A.shape[1]\n",
        "  z = cp.Variable(n)\n",
        "  b = np.reshape(b, (b.shape[0],))  # to avoid shape issues when defining the constraint\n",
        "  #b = (1/sqrt(A.shape[0])) * b\n",
        "  #print(w)\n",
        "  objective = cp.Minimize(cp.norm1(w*z))\n",
        "  constraints = [cp.norm2(A@z-b) <= eta]\n",
        "  prob = cp.Problem(objective, constraints)\n",
        "  result = prob.solve(solver=solver)  # MOSEK not working (install problem)\n",
        "  print('Weighted QCBP completed.')\n",
        "\n",
        "  return z.value #.reshape((n,1))\n",
        "\n",
        "\n",
        "def lasso(A, b, **kwargs):\n",
        "  n = A.shape[1]\n",
        "  z = cp.Variable(n)\n",
        "  b = np.reshape(b, (b.shape[0],))  # to avoid shape issues when defining the constraint\n",
        "  #b = (1/sqrt(A.shape[0])) * b\n",
        "  lmbd = 1/sqrt(25*A.shape[0])\n",
        "  objective = cp.Minimize(cp.norm2(A@z-b) + lmbd*cp.norm1(z))\n",
        "  prob = cp.Problem(objective)\n",
        "  result = prob.solve(solver=solver)\n",
        "  print('SR-LASSO completed.')\n",
        "\n",
        "  return z.value #.reshape((n,1))\n",
        "\n",
        "\n",
        "def weighted_lasso(A, b, **kwargs):\n",
        "  n = A.shape[1]\n",
        "  z = cp.Variable(n)\n",
        "  b = np.reshape(b, (b.shape[0],))  # to avoid shape issues when defining the constraint\n",
        "  #b = (1/sqrt(A.shape[0])) * b\n",
        "  lmbd = 1/sqrt(25*A.shape[0])\n",
        "  objective = cp.Minimize(cp.norm2(A@z-b) + lmbd*cp.norm1(w*z))\n",
        "  prob = cp.Problem(objective)\n",
        "  result = prob.solve(solver=solver)\n",
        "  print('Weighted SR-LASSO completed.')\n",
        "\n",
        "  return z.value #.reshape((n,1))"
      ]
    },
    {
      "cell_type": "code",
      "execution_count": 42,
      "metadata": {
        "collapsed": true,
        "id": "eTaIWdwAQfcp"
      },
      "outputs": [],
      "source": [
        "A = np.random.randn(15,15)\n",
        "b = np.random.randn(15)\n",
        "\n",
        "w = np.ones(15)"
      ]
    },
    {
      "cell_type": "code",
      "source": [
        "qcbp(A, b)"
      ],
      "metadata": {
        "colab": {
          "base_uri": "https://localhost:8080/"
        },
        "id": "PCpNtlh3qgKC",
        "outputId": "87121a6d-0478-40d6-a195-a4b92c51230c"
      },
      "execution_count": 43,
      "outputs": [
        {
          "output_type": "execute_result",
          "data": {
            "text/plain": [
              "array([-2.33211704,  0.82681929, -2.05153834,  2.1873507 ,  0.29579834,\n",
              "       -1.27220613,  1.44652539, -0.95346394, -0.16200937, -0.76990872,\n",
              "        1.37527571, -2.36755839,  1.15487128, -1.44917212,  3.22281925])"
            ]
          },
          "metadata": {},
          "execution_count": 43
        }
      ]
    },
    {
      "cell_type": "code",
      "source": [
        "weighted_qcbp(A, b, w)"
      ],
      "metadata": {
        "colab": {
          "base_uri": "https://localhost:8080/"
        },
        "id": "gC5R1unzqiEz",
        "outputId": "25b0dfbd-a836-4917-b6ee-5231aad85d2b"
      },
      "execution_count": 44,
      "outputs": [
        {
          "output_type": "execute_result",
          "data": {
            "text/plain": [
              "array([-2.33216764,  0.82685969, -2.05153553,  2.18738299,  0.29581166,\n",
              "       -1.2722017 ,  1.44657323, -0.95348859, -0.16198667, -0.76990357,\n",
              "        1.37528696, -2.36757082,  1.15489322, -1.44919095,  3.22286605])"
            ]
          },
          "metadata": {},
          "execution_count": 44
        }
      ]
    },
    {
      "cell_type": "code",
      "source": [
        "lasso(A, b)"
      ],
      "metadata": {
        "colab": {
          "base_uri": "https://localhost:8080/"
        },
        "id": "1Z8zsaPYq0Zs",
        "outputId": "9b5a7822-9fef-4a13-8071-0ab3a07c5aa4"
      },
      "execution_count": 45,
      "outputs": [
        {
          "output_type": "execute_result",
          "data": {
            "text/plain": [
              "array([-2.33214382,  0.82676935, -2.0518169 ,  2.18742548,  0.29580576,\n",
              "       -1.27238726,  1.44644087, -0.9534441 , -0.16204771, -0.77007957,\n",
              "        1.37545488, -2.36782121,  1.15486839, -1.44928752,  3.2229033 ])"
            ]
          },
          "metadata": {},
          "execution_count": 45
        }
      ]
    },
    {
      "cell_type": "code",
      "source": [
        "weighted_lasso(A, b, w)"
      ],
      "metadata": {
        "colab": {
          "base_uri": "https://localhost:8080/"
        },
        "id": "p_YvQPYUq90L",
        "outputId": "114e4834-de1a-4b57-e166-750fb06ffb17"
      },
      "execution_count": 46,
      "outputs": [
        {
          "output_type": "execute_result",
          "data": {
            "text/plain": [
              "array([-2.33214284,  0.8267687 , -2.05180258,  2.18740031,  0.29582904,\n",
              "       -1.2723911 ,  1.44644792, -0.95345717, -0.16211869, -0.77007285,\n",
              "        1.37543742, -2.36780928,  1.15486959, -1.44929449,  3.22290106])"
            ]
          },
          "metadata": {},
          "execution_count": 46
        }
      ]
    },
    {
      "cell_type": "code",
      "source": [
        "I1 = eq.Basis('hyperbolic-cross', orders=[4 for _ in range(3)])\n",
        "I1.get_elements().T"
      ],
      "metadata": {
        "colab": {
          "base_uri": "https://localhost:8080/"
        },
        "id": "i39r9b_6gQj-",
        "outputId": "c6e43ec5-dfd3-4e3c-ec7d-9561f5ee198a"
      },
      "execution_count": null,
      "outputs": [
        {
          "output_type": "execute_result",
          "data": {
            "text/plain": [
              "array([[0., 1., 2., 3., 4., 0., 1., 0., 0., 0., 0., 1., 0., 0., 0., 0.],\n",
              "       [0., 0., 0., 0., 0., 1., 1., 2., 3., 4., 0., 0., 1., 0., 0., 0.],\n",
              "       [0., 0., 0., 0., 0., 0., 0., 0., 0., 0., 1., 1., 1., 2., 3., 4.]])"
            ]
          },
          "metadata": {},
          "execution_count": 41
        }
      ]
    },
    {
      "cell_type": "code",
      "execution_count": 34,
      "metadata": {
        "id": "VR6C0hvkaMJx"
      },
      "outputs": [],
      "source": [
        "def get_average_custom(m, dim=3, simuls=5, basis='total-order', ord=4, solv=qcbp):\n",
        "  errors = np.array([])\n",
        "  my_param_list = [eq.Parameter(distribution='uniform', order=ord, lower=-1.0, upper=1.0) for i in range(dim)]\n",
        "\n",
        "  if basis == 'hyperbolic-cross':\n",
        "    my_basis = eq.Basis(basis, orders=[ord for _ in range(dim)])\n",
        "  else:\n",
        "    my_basis = eq.Basis(basis)\n",
        "\n",
        "  #I = my_basis.get_elements().T\n",
        "  #size_I = I.shape\n",
        "  #weights = np.prod(np.sqrt(2 * I + np.ones(size_I)), axis=0)\n",
        "  #w = np.ones(my_basis.get_cardinality())\n",
        "\n",
        "  for j in range(simuls):\n",
        "\n",
        "    X_train = np.random.uniform(-1, 1, size=(m, dim))\n",
        "    y_train = eq.evaluate_model(X_train, ed_diff_function)\n",
        "    if solv == qcbp or solv == weighted_qcbp:\n",
        "      my_poly_ref = eq.Poly(my_param_list, my_basis, method='custom-solver',\n",
        "            sampling_args={'mesh':'user-defined', 'sample-points':X_train, 'sample-outputs':y_train})\n",
        "      A = my_poly_ref.get_poly(X_train).T\n",
        "      eta_opt = np.linalg.norm(A@c_ref - y_train)\n",
        "      #print(eta_opt)\n",
        "      my_poly = eq.Poly(my_param_list, my_basis, method='custom-solver',\n",
        "          sampling_args={'mesh':'user-defined', 'sample-points':X_train, 'sample-outputs':y_train},\n",
        "            solver_args={'solve':solv, 'eta':eta_opt, 'verbose':False})\n",
        "    else:\n",
        "      my_poly = eq.Poly(my_param_list, my_basis, method='custom-solver',\n",
        "          sampling_args={'mesh':'user-defined', 'sample-points':X_train, 'sample-outputs':y_train},\n",
        "            solver_args={'solve':solv, 'verbose':False})\n",
        "\n",
        "    my_poly.set_model()\n",
        "\n",
        "    test_pts = np.random.uniform(-1, 1, size=(1000, dim))\n",
        "    test_evals = eq.evaluate_model(test_pts, ed_diff_function)\n",
        "    train_r2, test_r2 = my_poly.get_polyscore(X_test=test_pts, y_test=test_evals, metric='rmse')\n",
        "    train_r2, test_r2\n",
        "\n",
        "    errors = np.append(errors, test_r2)\n",
        "\n",
        "  return np.mean(errors)"
      ]
    },
    {
      "cell_type": "code",
      "execution_count": 35,
      "metadata": {
        "id": "_4oHBfCsa8tO"
      },
      "outputs": [],
      "source": [
        "def conv_custom(x, dim=3, simuls=5, basis='total-order', ord=4, method=qcbp, verbose=False):\n",
        "  Y = []\n",
        "\n",
        "  for element in x:\n",
        "    if verbose:\n",
        "      start = time.time()\n",
        "    Y.append(get_average_custom(element, dim=dim, simuls=simuls, ord=ord, basis=basis, solv=method))\n",
        "    if verbose:\n",
        "      end = time.time()\n",
        "      print('m={} w/ {}, done: {} seconds.'.format(element, str(method), end-start))\n",
        "\n",
        "  return Y"
      ]
    },
    {
      "cell_type": "code",
      "execution_count": 21,
      "metadata": {
        "colab": {
          "base_uri": "https://localhost:8080/"
        },
        "id": "vongotBla0Jf",
        "outputId": "3a3a5cd6-46c0-4569-8b84-2f134f99ca21"
      },
      "outputs": [
        {
          "name": "stdout",
          "output_type": "stream",
          "text": [
            "8\n"
          ]
        }
      ],
      "source": [
        "d = int(input()) # 4, 8 or 16\n",
        "\n",
        "if d == 4:\n",
        "  def ed_diff_function(y):\n",
        "    return exp(-1/(2*d) * np.sum(y))\n",
        "\n",
        "  nb_samples = [10*i for i in range(1,26)]\n",
        "  order = 43\n",
        "elif d == 8:\n",
        "  def ed_diff_function(y):\n",
        "    num = np.prod(np.array([cos(16*y[i]/2**i) for i in range(ceil(d/2)+1, d)]))\n",
        "    dem = np.prod(np.array([1 - y[i]/4**i for i in range(ceil(d/2)+1, d)]))\n",
        "    return num/dem\n",
        "\n",
        "  nb_samples = [20*i for i in range(1,26)]\n",
        "  order = 22\n",
        "elif d == 16:\n",
        "  def ed_diff_function(y):\n",
        "    return exp(-2/d * sum([(y[i] - ((-1)**i/(i+1)))**2 for i in range(d)]))\n",
        "\n",
        "  nb_samples = [50*i for i in range(2,21)]\n",
        "  order = 14"
      ]
    },
    {
      "cell_type": "code",
      "execution_count": 34,
      "metadata": {
        "colab": {
          "base_uri": "https://localhost:8080/"
        },
        "id": "xzERHlcjSqBA",
        "outputId": "abd98964-6176-4284-aa55-106297d22d61"
      },
      "outputs": [
        {
          "output_type": "execute_result",
          "data": {
            "text/plain": [
              "8"
            ]
          },
          "metadata": {},
          "execution_count": 34
        }
      ],
      "source": [
        "d"
      ]
    },
    {
      "cell_type": "code",
      "source": [
        "I = eq.Basis('hyperbolic-cross', orders=[order for _ in range(d)]).get_elements().T\n",
        "size_I = I.shape\n",
        "w = np.prod(np.sqrt(2 * I + np.ones(size_I)), axis=0)"
      ],
      "metadata": {
        "id": "_Mzub81VxbvN"
      },
      "execution_count": 22,
      "outputs": []
    },
    {
      "cell_type": "code",
      "source": [
        "w = np.ones(eq.Basis('hyperbolic-cross', orders=[order for _ in range(d)]).get_cardinality())"
      ],
      "metadata": {
        "id": "JjxAhpgGyBsO"
      },
      "execution_count": 36,
      "outputs": []
    },
    {
      "cell_type": "code",
      "execution_count": 23,
      "metadata": {
        "colab": {
          "base_uri": "https://localhost:8080/"
        },
        "id": "TuWLS92VhZow",
        "outputId": "769d7c76-ba24-4f59-b2fd-0173515c0cf3"
      },
      "outputs": [
        {
          "output_type": "stream",
          "name": "stdout",
          "text": [
            "1843\n",
            "WARNING: Method not declared.\n"
          ]
        }
      ],
      "source": [
        "### Construct error grid, error matrix and error vector\n",
        "\n",
        "err_grid_ratio = 0.1\n",
        "#M = ceil(err_grid_ratio * eq.basis.Basis('hyperbolic-cross', orders=[order for _ in range(d)]).get_cardinality())\n",
        "M = 10000\n",
        "err_grid = np.random.uniform(-1, 1, size=(M, d))\n",
        "\n",
        "# measurement matrix\n",
        "bas = eq.Basis('hyperbolic-cross', orders=[order for _ in range(d)])\n",
        "print(bas.get_cardinality())\n",
        "poly = eq.Poly([eq.Parameter(distribution='uniform', order=order, lower=-1.0, upper=1.0) for _ in range(d)], bas)\n",
        "A_err_grid = poly.get_poly(err_grid).T/sqrt(M)\n",
        "b_err_grid = eq.evaluate_model(err_grid, ed_diff_function)/sqrt(M)\n",
        "\n",
        "#print(A_err_grid.T@A_err_grid)\n",
        "\n",
        "c_ref, _, _, _ = np.linalg.lstsq(A_err_grid, b_err_grid)"
      ]
    },
    {
      "cell_type": "code",
      "execution_count": null,
      "metadata": {
        "colab": {
          "base_uri": "https://localhost:8080/"
        },
        "id": "edeGwH-uWnIj",
        "outputId": "cdc01855-05bd-4031-8c89-c29124517f6c"
      },
      "outputs": [
        {
          "name": "stdout",
          "output_type": "stream",
          "text": [
            "(100, 998)\n",
            "(998, 1)\n",
            "(100, 1)\n",
            "()\n"
          ]
        },
        {
          "data": {
            "text/plain": [
              "1.0195593793919935"
            ]
          },
          "execution_count": 43,
          "metadata": {},
          "output_type": "execute_result"
        }
      ],
      "source": [
        "get_average_custom(100, dim=d, simuls=1, basis='hyperbolic-cross', ord=order)"
      ]
    },
    {
      "cell_type": "code",
      "execution_count": 37,
      "metadata": {
        "id": "QW0LYff1b697",
        "colab": {
          "base_uri": "https://localhost:8080/"
        },
        "outputId": "6d8176de-c614-4cbd-de54-321edfba7d66"
      },
      "outputs": [
        {
          "output_type": "stream",
          "name": "stdout",
          "text": [
            "QCBP completed.\n",
            "QCBP completed.\n",
            "QCBP completed.\n",
            "QCBP completed.\n",
            "QCBP completed.\n",
            "QCBP completed.\n",
            "QCBP completed.\n",
            "QCBP completed.\n",
            "QCBP completed.\n",
            "QCBP completed.\n",
            "QCBP completed.\n",
            "QCBP completed.\n",
            "QCBP completed.\n",
            "QCBP completed.\n",
            "QCBP completed.\n",
            "QCBP completed.\n",
            "QCBP completed.\n",
            "QCBP completed.\n",
            "QCBP completed.\n",
            "QCBP completed.\n",
            "QCBP completed.\n",
            "QCBP completed.\n",
            "QCBP completed.\n",
            "QCBP completed.\n",
            "QCBP completed.\n"
          ]
        }
      ],
      "source": [
        "y_1 = conv_custom(nb_samples, dim=d, simuls=1, basis='hyperbolic-cross', ord=order)"
      ]
    },
    {
      "cell_type": "code",
      "source": [
        "y_2 = conv_custom(nb_samples, dim=d, simuls=1, basis='hyperbolic-cross', ord=order, method=lasso)"
      ],
      "metadata": {
        "id": "gYJyaCV5lDGV",
        "colab": {
          "base_uri": "https://localhost:8080/"
        },
        "outputId": "9f6ec0f3-db43-40bb-a77d-8da608af3347"
      },
      "execution_count": 38,
      "outputs": [
        {
          "output_type": "stream",
          "name": "stdout",
          "text": [
            "SR-LASSO completed.\n",
            "SR-LASSO completed.\n",
            "SR-LASSO completed.\n",
            "SR-LASSO completed.\n",
            "SR-LASSO completed.\n",
            "SR-LASSO completed.\n",
            "SR-LASSO completed.\n",
            "SR-LASSO completed.\n",
            "SR-LASSO completed.\n",
            "SR-LASSO completed.\n",
            "SR-LASSO completed.\n",
            "SR-LASSO completed.\n",
            "SR-LASSO completed.\n",
            "SR-LASSO completed.\n",
            "SR-LASSO completed.\n",
            "SR-LASSO completed.\n",
            "SR-LASSO completed.\n",
            "SR-LASSO completed.\n",
            "SR-LASSO completed.\n",
            "SR-LASSO completed.\n",
            "SR-LASSO completed.\n",
            "SR-LASSO completed.\n",
            "SR-LASSO completed.\n",
            "SR-LASSO completed.\n",
            "SR-LASSO completed.\n"
          ]
        }
      ]
    },
    {
      "cell_type": "code",
      "source": [
        "y_3 = conv_custom(nb_samples, dim=d, simuls=1, basis='hyperbolic-cross', ord=order, method=weighted_qcbp)"
      ],
      "metadata": {
        "colab": {
          "base_uri": "https://localhost:8080/"
        },
        "id": "t9FvYYcUlHVL",
        "outputId": "ac2fedc2-200a-445e-fcd9-91beee7b3030"
      },
      "execution_count": 39,
      "outputs": [
        {
          "output_type": "stream",
          "name": "stdout",
          "text": [
            "Weighted QCBP completed.\n",
            "Weighted QCBP completed.\n",
            "Weighted QCBP completed.\n",
            "Weighted QCBP completed.\n",
            "Weighted QCBP completed.\n",
            "Weighted QCBP completed.\n",
            "Weighted QCBP completed.\n",
            "Weighted QCBP completed.\n",
            "Weighted QCBP completed.\n",
            "Weighted QCBP completed.\n",
            "Weighted QCBP completed.\n",
            "Weighted QCBP completed.\n",
            "Weighted QCBP completed.\n",
            "Weighted QCBP completed.\n",
            "Weighted QCBP completed.\n",
            "Weighted QCBP completed.\n",
            "Weighted QCBP completed.\n",
            "Weighted QCBP completed.\n",
            "Weighted QCBP completed.\n",
            "Weighted QCBP completed.\n",
            "Weighted QCBP completed.\n",
            "Weighted QCBP completed.\n",
            "Weighted QCBP completed.\n",
            "Weighted QCBP completed.\n",
            "Weighted QCBP completed.\n"
          ]
        }
      ]
    },
    {
      "cell_type": "code",
      "source": [
        "y_4 = conv_custom(nb_samples, dim=d, simuls=1, basis='hyperbolic-cross', ord=order, method=weighted_lasso)"
      ],
      "metadata": {
        "id": "D45iVncTlI1r",
        "colab": {
          "base_uri": "https://localhost:8080/"
        },
        "outputId": "ed7bdaeb-71ff-4178-95c3-a47224087e74"
      },
      "execution_count": 40,
      "outputs": [
        {
          "output_type": "stream",
          "name": "stdout",
          "text": [
            "Weighted SR-LASSO completed.\n",
            "Weighted SR-LASSO completed.\n",
            "Weighted SR-LASSO completed.\n",
            "Weighted SR-LASSO completed.\n",
            "Weighted SR-LASSO completed.\n",
            "Weighted SR-LASSO completed.\n",
            "Weighted SR-LASSO completed.\n",
            "Weighted SR-LASSO completed.\n",
            "Weighted SR-LASSO completed.\n",
            "Weighted SR-LASSO completed.\n",
            "Weighted SR-LASSO completed.\n",
            "Weighted SR-LASSO completed.\n",
            "Weighted SR-LASSO completed.\n",
            "Weighted SR-LASSO completed.\n",
            "Weighted SR-LASSO completed.\n",
            "Weighted SR-LASSO completed.\n",
            "Weighted SR-LASSO completed.\n",
            "Weighted SR-LASSO completed.\n",
            "Weighted SR-LASSO completed.\n",
            "Weighted SR-LASSO completed.\n",
            "Weighted SR-LASSO completed.\n",
            "Weighted SR-LASSO completed.\n",
            "Weighted SR-LASSO completed.\n",
            "Weighted SR-LASSO completed.\n",
            "Weighted SR-LASSO completed.\n"
          ]
        }
      ]
    },
    {
      "cell_type": "code",
      "execution_count": 41,
      "metadata": {
        "colab": {
          "base_uri": "https://localhost:8080/",
          "height": 472
        },
        "id": "r6kjlPC8bxeK",
        "outputId": "b0c7508d-b687-4b23-e248-96eaed4bcce8"
      },
      "outputs": [
        {
          "output_type": "display_data",
          "data": {
            "text/plain": [
              "<Figure size 640x480 with 1 Axes>"
            ],
            "image/png": "[encoded data removed]"
          },
          "metadata": {
            "needs_background": "light"
          }
        }
      ],
      "source": [
        "plt.plot(nb_samples, y_1, 'royalblue', label='QCBP', marker='.')\n",
        "plt.plot(nb_samples, y_2, 'blue', label='Lasso', marker='o', linestyle='--')\n",
        "plt.plot(nb_samples, y_3, 'orange', label='wQCBP', marker='s')\n",
        "plt.plot(nb_samples, y_4, 'orangered', label='wLasso', marker='>', linestyle='--')\n",
        "plt.xlabel('m')\n",
        "plt.ylabel('Average RMSE')\n",
        "plt.yscale('log')\n",
        "#plt.title('Least-squares, d={}, S=HC'.format(d))\n",
        "plt.legend()\n",
        "plt.show()"
      ]
    },
    {
      "cell_type": "markdown",
      "metadata": {
        "id": "kzzWpkPyRgrh"
      },
      "source": [
        "## Custom solvers (testing LS solver from scipy)"
      ]
    },
    {
      "cell_type": "code",
      "execution_count": null,
      "metadata": {
        "id": "6qbFFRDxTVXl"
      },
      "outputs": [],
      "source": [
        "from scipy.linalg import lstsq"
      ]
    },
    {
      "cell_type": "code",
      "execution_count": null,
      "metadata": {
        "id": "FfbNXWyvRlia"
      },
      "outputs": [],
      "source": [
        "def scipy_ls(A, b, **kwargs):\n",
        "  x, _, _, _ = lstsq(A, b, lapack_driver='gelss')\n",
        "  return x"
      ]
    },
    {
      "cell_type": "code",
      "execution_count": null,
      "metadata": {
        "id": "nG-7k3m4VsmL"
      },
      "outputs": [],
      "source": [
        "def get_average_custom(m, dim=3, simuls=5, basis='total-order', ord=4):\n",
        "  errors = np.array([])\n",
        "  my_param_list = [eq.Parameter(distribution='uniform', order=ord, lower=-1.0, upper=1.0) for i in range(dim)]\n",
        "\n",
        "  for j in range(simuls):\n",
        "    if basis == 'hyperbolic-cross':\n",
        "      my_basis = eq.Basis(basis, orders=[ord for _ in range(dim)])\n",
        "    else:\n",
        "      my_basis = eq.Basis(basis)\n",
        "\n",
        "    X_train = np.random.uniform(-1, 1, size=(m, dim))\n",
        "    y_train = eq.evaluate_model(X_train, ed_diff_function)\n",
        "    my_poly = eq.Poly(my_param_list, my_basis, method='custom-solver',\n",
        "            sampling_args={'mesh':'user-defined', 'sample-points':X_train, 'sample-outputs':y_train},\n",
        "              solver_args={'solve':scipy_ls,'verbose':False})\n",
        "    my_poly.set_model()\n",
        "\n",
        "    test_pts = np.random.uniform(-1, 1, size=(1000, dim))\n",
        "    test_evals = eq.evaluate_model(test_pts, ed_diff_function)\n",
        "    train_r2, test_r2 = my_poly.get_polyscore(X_test=test_pts, y_test=test_evals, metric='rmse')\n",
        "    train_r2, test_r2\n",
        "\n",
        "    errors = np.append(errors, test_r2)\n",
        "\n",
        "  return np.mean(errors)"
      ]
    },
    {
      "cell_type": "code",
      "execution_count": null,
      "metadata": {
        "id": "qV2eVUPJXTbx"
      },
      "outputs": [],
      "source": [
        "d = 8"
      ]
    },
    {
      "cell_type": "code",
      "execution_count": null,
      "metadata": {
        "id": "WlZrLRw0XTb1"
      },
      "outputs": [],
      "source": [
        "def ed_diff_function(y):\n",
        "  return exp(-1/(2*d) * np.sum(y))"
      ]
    },
    {
      "cell_type": "code",
      "execution_count": null,
      "metadata": {
        "id": "srzhlZzHXTb2"
      },
      "outputs": [],
      "source": [
        "s_TD = [eq.basis.Basis('total-order', orders=[j for i in range(d)]).get_cardinality() for j in range(1,6)]"
      ]
    },
    {
      "cell_type": "code",
      "execution_count": null,
      "metadata": {
        "colab": {
          "base_uri": "https://localhost:8080/"
        },
        "id": "tHB2SL1aXTb4",
        "outputId": "6821b418-f67c-43c9-e8b4-8d6c10dd48f3"
      },
      "outputs": [
        {
          "data": {
            "text/plain": [
              "[9, 45, 165, 495, 1287]"
            ]
          },
          "execution_count": 28,
          "metadata": {},
          "output_type": "execute_result"
        }
      ],
      "source": [
        "s_TD"
      ]
    },
    {
      "cell_type": "code",
      "execution_count": null,
      "metadata": {
        "id": "SrSXExxPXTb5"
      },
      "outputs": [],
      "source": [
        "Y = []\n",
        "\n",
        "for a in [1, 1.25, 1.5, 2]:\n",
        "  y = []\n",
        "  for s in s_TD:\n",
        "    y.append(get_average_custom(int(a*s), dim=d, ord=s_TD.index(s)))\n",
        "  Y.append(y)"
      ]
    },
    {
      "cell_type": "code",
      "execution_count": null,
      "metadata": {
        "id": "CL6FKX0uXTb6"
      },
      "outputs": [],
      "source": [
        "y_log = []\n",
        "for s in s_TD:\n",
        "  y_log.append(get_average_custom(int(s*log(s)), dim=d, ord=s_TD.index(s)))\n",
        "Y.append(y_log)"
      ]
    },
    {
      "cell_type": "code",
      "execution_count": null,
      "metadata": {
        "id": "SPGGQDjYXTb6"
      },
      "outputs": [],
      "source": [
        "y_sq = []\n",
        "for s in s_TD:\n",
        "  y_sq.append(get_average_custom(int(0.5 * s**2), 'least-squares', dim=d, ord=s_TD.index(s)))\n",
        "Y.append(y_sq)"
      ]
    },
    {
      "cell_type": "code",
      "execution_count": null,
      "metadata": {
        "colab": {
          "base_uri": "https://localhost:8080/",
          "height": 499
        },
        "id": "XPy_hAjsZZ4A",
        "outputId": "ccf63319-0038-492c-b249-fe0d911e4ad7"
      },
      "outputs": [
        {
          "data": {
            "image/png": "[encoded data removed]",
            "text/plain": [
              "<Figure size 640x480 with 1 Axes>"
            ]
          },
          "metadata": {},
          "output_type": "display_data"
        }
      ],
      "source": [
        "color = ['blue', 'orange', 'yellow', 'purple', 'green']\n",
        "label = ['m=s', 'm=1.25s','m=1.5s', 'm=2s', 'm=slog(s)']\n",
        "for i in range(len(Y)):\n",
        "  plt.plot(s_TD, Y[i], color[i], label=label[i], marker='o')\n",
        "  plt.xlabel('s')\n",
        "  plt.ylabel('Average RMSE')\n",
        "  plt.yscale('log')\n",
        "  plt.title('Least-squares (w/ \"gelss\"), d={}, S=TD'.format(d))\n",
        "plt.legend()\n",
        "plt.show()"
      ]
    }
  ],
  "metadata": {
    "colab": {
      "collapsed_sections": [
        "rmfpr6YCfFUa",
        "GZl-HRqdNUyU",
        "lTtcyMwCr5m3",
        "kzzWpkPyRgrh"
      ],
      "provenance": [],
      "gpuType": "T4"
    },
    "kernelspec": {
      "display_name": "Python 3",
      "name": "python3"
    },
    "language_info": {
      "name": "python"
    },
    "accelerator": "GPU"
  },
  "nbformat": 4,
  "nbformat_minor": 0
}