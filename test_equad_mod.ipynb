{
  "cells": [
    {
      "cell_type": "markdown",
      "metadata": {
        "id": "rmfpr6YCfFUa"
      },
      "source": [
        "# Libraries"
      ]
    },
    {
      "cell_type": "code",
      "execution_count": 84,
      "metadata": {
        "id": "t6NlaxdNWYy0"
      },
      "outputs": [],
      "source": [
        "import networkx as nx\n",
        "import numpy as np\n",
        "import matplotlib.pyplot as plt\n",
        "from math import exp, sqrt, log\n",
        "from scipy.linalg import expm\n",
        "import itertools\n",
        "from math import cos, ceil\n",
        "import time"
      ]
    },
    {
      "cell_type": "code",
      "execution_count": 85,
      "metadata": {
        "id": "-8NzYAP9XASx"
      },
      "outputs": [],
      "source": [
        "from IPython.display import clear_output"
      ]
    },
    {
      "cell_type": "code",
      "execution_count": 3,
      "metadata": {
        "id": "58xTvo7mYYaw"
      },
      "outputs": [],
      "source": [
        "#from Diff import *"
      ]
    },
    {
      "cell_type": "code",
      "execution_count": 4,
      "metadata": {
        "id": "FGm3YIdKHCLA"
      },
      "outputs": [],
      "source": [
        "!git clone https://github.com/equadratures/equadratures\n",
        "clear_output()"
      ]
    },
    {
      "cell_type": "code",
      "execution_count": 5,
      "metadata": {
        "id": "DncfCbDB7Uin"
      },
      "outputs": [],
      "source": [
        "# A bit different from Alessio's version\n",
        "# Removed 'n' as argument and made it isotropic, otherwise more changes to make in the original code\n",
        "new_code = '''\n",
        "def hyperbolic_cross(orders):\n",
        "    dimensions = len(orders)\n",
        "    n = orders[0]\n",
        "    I = np.arange(n+1)\n",
        "    I = np.reshape(I, (1,-1))\n",
        "    for k in range(2, dimensions+1):\n",
        "        J = np.array([]).reshape((I.shape[0]+1, 0))\n",
        "        for i in range(n+1):\n",
        "            l = I.shape[1]\n",
        "            for j in range(l):\n",
        "                z = I[:,j]\n",
        "                #z = np.reshape(z, (I.shape[0], 1))\n",
        "                if (i+1)*np.prod(z+1) <= n+1:\n",
        "                    z = np.row_stack((z.reshape((-1,1)), np.array([i]).reshape(1,1)))\n",
        "                    J = np.hstack((J, z))\n",
        "        I = J\n",
        "    return I.T\n",
        "'''"
      ]
    },
    {
      "cell_type": "code",
      "execution_count": 6,
      "metadata": {
        "id": "fr5aI6Xd6I2w"
      },
      "outputs": [],
      "source": [
        "with open(\"content/equadratures/equadratures/basis.py\", \"a\") as file:\n",
        "  file.write(new_code)"
      ]
    },
    {
      "cell_type": "code",
      "execution_count": 7,
      "metadata": {
        "id": "hCuxzXxr-I5U"
      },
      "outputs": [],
      "source": [
        "new_line_1 = '''        elif name == \"hyperbolic-cross\":\n",
        "            basis = hyperbolic_cross(self.orders)\n",
        "'''\n",
        "\n",
        "# Open the file in read mode to read its contents\n",
        "with open(\"content/equadratures/equadratures/basis.py\", 'r') as file:\n",
        "    lines = file.readlines()\n",
        "\n",
        "lines.insert(179, new_line_1)\n",
        "\n",
        "# Open the file in write mode to overwrite its contents\n",
        "with open(\"content/equadratures/equadratures/basis.py\", 'w') as file:\n",
        "    file.writelines(lines)\n",
        "\n",
        "new_line_2 = '''        elif name.lower() == \"hyperbolic-cross\":\n",
        "            basis = hyperbolic_cross(self.orders)\n",
        "'''\n",
        "\n",
        "# Open the file in read mode to read its contents\n",
        "with open(\"content/equadratures/equadratures/basis.py\", 'r') as file:\n",
        "    lines = file.readlines()\n",
        "\n",
        "lines.insert(93, new_line_2)\n",
        "\n",
        "# Open the file in write mode to overwrite its contents\n",
        "with open(\"content/equadratures/equadratures/basis.py\", 'w') as file:\n",
        "    file.writelines(lines)"
      ]
    },
    {
      "cell_type": "code",
      "execution_count": 8,
      "metadata": {
        "id": "Rqu62EMAH1NX"
      },
      "outputs": [],
      "source": [
        "with open(\"content/equadratures/equadratures/optimisation.py\", \"r\") as file:\n",
        "    fix_1 = file.read()\n",
        "\n",
        "# Lines to modify in equadratures/optimisation.py\n",
        "\n",
        "fix_1 = fix_1.replace('objective = lambda x: k*np.asscalar(f(x))', 'objective = lambda x: k*f(x).item()')\n",
        "fix_1 = fix_1.replace('constraint = lambda x: np.asscalar(g(x))', 'constraint = lambda x: g(x).item()')\n",
        "fix_1 = fix_1.replace('self.f_old = np.asscalar(self.f[ind_min])', 'self.f_old = self.f[ind_min].item()')\n",
        "fix_1 = fix_1.replace('return np.asscalar(f)', 'return f.item()')\n",
        "fix_1 = fix_1.replace('np.asscalar(my_poly.get_polyfit(x))', 'my_poly.get_polyfit(x).item()')\n",
        "fix_1 = fix_1.replace('np.asscalar(my_poly.get_polyfit(np.dot(x,self.U)))', 'my_poly.get_polyfit(np.dot(x,self.U)).item()')\n",
        "fix_1 = fix_1.replace('del_m = np.asscalar(my_poly.get_polyfit(self.s_old)) - m_new', 'del_m = np.ndarray.item(my_poly.get_polyfit(self.s_old)) - m_new')\n",
        "fix_1 = fix_1.replace('del_m = np.asscalar(my_poly.get_polyfit(np.dot(self.s_old,self.U))) - m_new', 'del_m = np.ndarray.item(my_poly.get_polyfit(np.dot(self.s_old,self.U))) - m_new')\n",
        "\n",
        "with open(\"content/equadratures/equadratures/optimisation.py\", \"w\") as file:\n",
        "    file.write(fix_1)"
      ]
    },
    {
      "cell_type": "code",
      "execution_count": 9,
      "metadata": {
        "id": "7-Pgu8AVIu3o"
      },
      "outputs": [],
      "source": [
        "with open(\"content/equadratures/equadratures/sampling_methods/induced.py\", \"r\") as file:\n",
        "    fix_2 = file.read()\n",
        "\n",
        "# Lines to modify in equadratures/sampling_methods/induced.py\n",
        "\n",
        "fix_2 = fix_2.replace('F = np.asscalar(F)', 'F = F.item()')\n",
        "\n",
        "with open(\"content/equadratures/equadratures/sampling_methods/induced.py\", \"w\") as file:\n",
        "    file.write(fix_2)"
      ]
    },
    {
      "cell_type": "code",
      "execution_count": 10,
      "metadata": {
        "id": "OlOc2P1CJQQQ"
      },
      "outputs": [],
      "source": [
        "with open(\"content/equadratures/equadratures/solver.py\", \"r\") as file:\n",
        "    fix_3 = file.read()\n",
        "\n",
        "# Lines to modify in equadratures/solver.py\n",
        "\n",
        "fix_3 = fix_3.replace('fe = 0.5*(np.asscalar(np.dot(r.T,r)) - epsilon**2)', 'fe = 0.5*(np.dot(r.T,r).item() - epsilon**2)')\n",
        "fix_3 = fix_3.replace('cqe = np.asscalar(np.dot(r.T,r)) - epsilon**2', 'cqe = np.dot(r.T,r).item() - epsilon**2')\n",
        "\n",
        "with open(\"content/equadratures/equadratures/solver.py\", \"w\") as file:\n",
        "    file.write(fix_3)"
      ]
    },
    {
      "cell_type": "code",
      "execution_count": 11,
      "metadata": {
        "id": "eLnhiiY-Jf4e"
      },
      "outputs": [],
      "source": [
        "with open(\"content/equadratures/equadratures/subspaces.py\", \"r\") as file:\n",
        "    fix_4 = file.read()\n",
        "\n",
        "# Lines to modify in equadratures/subspaces.py\n",
        "\n",
        "fix_4 = fix_4.replace('dV[:,l,:,j] = np.asscalar(vectord[l])*(X.T*current[:,j])', 'dV[:,l,:,j] = vectord[l].item()*(X.T*current[:,j])')\n",
        "\n",
        "with open(\"content/equadratures/equadratures/subspaces.py\", \"w\") as file:\n",
        "    file.write(fix_4)"
      ]
    },
    {
      "cell_type": "code",
      "execution_count": 12,
      "metadata": {
        "id": "qNonH3gRKcRG"
      },
      "outputs": [],
      "source": [
        "import sys\n",
        "sys.path.append('content/equadratures')\n",
        "\n",
        "import equadratures as eq"
      ]
    },
    {
      "cell_type": "code",
      "execution_count": 13,
      "metadata": {
        "id": "GjfjEyWnMust"
      },
      "outputs": [],
      "source": [
        "import cvxpy as cp\n",
        "clear_output()\n",
        "import mosek"
      ]
    },
    {
      "cell_type": "markdown",
      "metadata": {
        "id": "3hKNNHH0fFz2"
      },
      "source": [
        "# Functions"
      ]
    },
    {
      "cell_type": "code",
      "execution_count": 14,
      "metadata": {
        "id": "6-GyFECnaNC6"
      },
      "outputs": [
        {
          "data": {
            "text/plain": [
              "'\\ndef ed_diff_function(y):\\n  y = (y+1)/2\\n  c_bar = construct_cbar(y)\\n\\n  C = construct_C(c_bar, sizes, n)\\n  D = construct_D(A, C, n)\\n  M = C*A - D\\n\\n  diff = ed_diffusion(M, x0, tau=0.01, T=1)\\n\\n  return diff[2,-1]\\n'"
            ]
          },
          "execution_count": 14,
          "metadata": {},
          "output_type": "execute_result"
        }
      ],
      "source": [
        "'''\n",
        "def ed_diff_function(y):\n",
        "  y = (y+1)/2\n",
        "  c_bar = construct_cbar(y)\n",
        "\n",
        "  C = construct_C(c_bar, sizes, n)\n",
        "  D = construct_D(A, C, n)\n",
        "  M = C*A - D\n",
        "\n",
        "  diff = ed_diffusion(M, x0, tau=0.01, T=1)\n",
        "\n",
        "  return diff[2,-1]\n",
        "'''"
      ]
    },
    {
      "cell_type": "code",
      "execution_count": 15,
      "metadata": {
        "id": "U9kjyrGM54qz"
      },
      "outputs": [
        {
          "data": {
            "text/plain": [
              "'\\ndef ted_diff_function(y):\\n  y = (y+1)/2\\n  c_bar = construct_cbar(y)\\n\\n  C = construct_C(c_bar, sizes, n)\\n  M_t = construct_Mt(A, C, sizes, alpha=[2,3,4])\\n\\n  diff = RK4_t(x0, 0.01, M_t)\\n\\n  return diff[2,-1]\\n'"
            ]
          },
          "execution_count": 15,
          "metadata": {},
          "output_type": "execute_result"
        }
      ],
      "source": [
        "'''\n",
        "def ted_diff_function(y):\n",
        "  y = (y+1)/2\n",
        "  c_bar = construct_cbar(y)\n",
        "\n",
        "  C = construct_C(c_bar, sizes, n)\n",
        "  M_t = construct_Mt(A, C, sizes, alpha=[2,3,4])\n",
        "\n",
        "  diff = RK4_t(x0, 0.01, M_t)\n",
        "\n",
        "  return diff[2,-1]\n",
        "'''"
      ]
    },
    {
      "cell_type": "code",
      "execution_count": 16,
      "metadata": {
        "id": "tgdfg9-yQkNQ"
      },
      "outputs": [],
      "source": [
        "def get_average_rmse(m, my_method, dim=3, simuls=5, basis='total-order', ord=4):\n",
        "  errors = np.array([])\n",
        "  my_param_list = [eq.Parameter(distribution='uniform', order=ord, lower=-1.0, upper=1.0) for _ in range(dim)]\n",
        "\n",
        "  for j in range(simuls):\n",
        "    if basis == 'hyperbolic-cross':\n",
        "      my_basis = eq.Basis(basis, orders=[ord for _ in range(dim)])\n",
        "    else:\n",
        "      my_basis = eq.Basis(basis)\n",
        "\n",
        "    X_train = np.random.uniform(-1, 1, size=(m, dim))\n",
        "    y_train = eq.evaluate_model(X_train, ed_diff_function)\n",
        "    my_poly = eq.Poly(parameters=my_param_list, basis=my_basis, method=my_method, \\\n",
        "                      sampling_args={'mesh':'user-defined', 'sample-points':X_train, \\\n",
        "                                    'sample-outputs':y_train})\n",
        "    my_poly.set_model()\n",
        "\n",
        "    test_pts = np.random.uniform(-1, 1, size=(1000, dim))\n",
        "    test_evals = eq.evaluate_model(test_pts, ed_diff_function)\n",
        "    train_r2, test_r2 = my_poly.get_polyscore(X_test=test_pts, y_test=test_evals, metric='rmse')\n",
        "    train_r2, test_r2\n",
        "\n",
        "    errors = np.append(errors, test_r2)\n",
        "\n",
        "  return np.mean(errors)"
      ]
    },
    {
      "cell_type": "code",
      "execution_count": 17,
      "metadata": {
        "id": "zy-rH-cfQvuH"
      },
      "outputs": [],
      "source": [
        "def get_average_rmse_TED(m, my_method, dim=3, simuls=5, basis='total-order', ord=4):\n",
        "  errors = np.array([])\n",
        "  my_param_list = [eq.Parameter(distribution='uniform', order=ord, lower=-1.0, upper=1.0) for _ in range(dim)]\n",
        "\n",
        "  for j in range(simuls):\n",
        "    if basis == 'hyperbolic-cross':\n",
        "      my_basis = eq.Basis(basis, orders=[ord for _ in range(dim)])\n",
        "    else:\n",
        "      my_basis = eq.Basis(basis)\n",
        "    X_train = np.random.uniform(-1, 1, size=(m, dim))\n",
        "    y_train = eq.evaluate_model(X_train, ted_diff_function)\n",
        "    my_poly = eq.Poly(parameters=my_param_list, basis=my_basis, method=my_method, \\\n",
        "                      sampling_args={'mesh':'user-defined', 'sample-points':X_train, \\\n",
        "                                    'sample-outputs':y_train})\n",
        "    my_poly.set_model()\n",
        "\n",
        "    test_pts = np.random.uniform(-1, 1, size=(500, dim))\n",
        "    test_evals = eq.evaluate_model(test_pts, ted_diff_function)\n",
        "    train_r2, test_r2 = my_poly.get_polyscore(X_test=test_pts, y_test=test_evals, metric='rmse')\n",
        "    train_r2, test_r2\n",
        "\n",
        "    errors = np.append(errors, test_r2)\n",
        "\n",
        "  return np.mean(errors)"
      ]
    },
    {
      "cell_type": "code",
      "execution_count": 18,
      "metadata": {
        "id": "kLQQTfkaRCJo"
      },
      "outputs": [],
      "source": [
        "def conv(x, method, dim=3, simuls=5, basis='total-order', ord=4, verbose=False):\n",
        "  Y = []\n",
        "\n",
        "  for element in x:\n",
        "    if verbose:\n",
        "      start = time.time()\n",
        "    Y.append(get_average_rmse(element, method, dim=dim, simuls=simuls, ord=ord, basis=basis))\n",
        "    if verbose:\n",
        "      end = time.time()\n",
        "      print('m={} w/ {}, done: {} seconds.'.format(element, method, end-start))\n",
        "\n",
        "  return Y"
      ]
    },
    {
      "cell_type": "code",
      "execution_count": 19,
      "metadata": {
        "id": "LiDjb4C0REfi"
      },
      "outputs": [],
      "source": [
        "def conv_TED(x, method, dim=3, simuls=5, basis='total-order', ord=4, verbose=False):\n",
        "  Y = []\n",
        "\n",
        "  for element in x:\n",
        "    if verbose:\n",
        "      start = time.time()\n",
        "    Y.append(get_average_rmse_TED(element, method, dim=dim, simuls=simuls, ord=ord, basis=basis))\n",
        "    if verbose:\n",
        "      end = time.time()\n",
        "      print('m={} w/ {}, done: {} seconds.'.format(element, method, end-start))\n",
        "\n",
        "  return Y"
      ]
    },
    {
      "cell_type": "markdown",
      "metadata": {
        "id": "a5tYxakW1Gyq"
      },
      "source": [
        "# Testing equadratures..."
      ]
    },
    {
      "cell_type": "markdown",
      "metadata": {
        "id": "lTtcyMwCr5m3"
      },
      "source": [
        "## Figures 5.5 and 5.6"
      ]
    },
    {
      "cell_type": "code",
      "execution_count": 20,
      "metadata": {
        "id": "_xxClPBk1FlG"
      },
      "outputs": [],
      "source": [
        "d = 2"
      ]
    },
    {
      "cell_type": "code",
      "execution_count": 21,
      "metadata": {
        "id": "TiT2aSOW1Onn"
      },
      "outputs": [],
      "source": [
        "def ed_diff_function(y):\n",
        "  return exp(-1/(2*d) * np.sum(y))"
      ]
    },
    {
      "cell_type": "code",
      "execution_count": 22,
      "metadata": {
        "id": "HT3Buppc4srl"
      },
      "outputs": [],
      "source": [
        "s_HC = [eq.basis.Basis('hyperbolic-cross', orders=[i for _ in range(d)]).get_cardinality() for i in range(2,36,2)]\n",
        "ords = [i for i in range(2,36,2)]"
      ]
    },
    {
      "cell_type": "code",
      "execution_count": 23,
      "metadata": {
        "colab": {
          "base_uri": "https://localhost:8080/"
        },
        "id": "5nVG_Ss85tI_",
        "outputId": "540928de-25db-4392-9c94-0186cd5e9489"
      },
      "outputs": [
        {
          "data": {
            "text/plain": [
              "[5, 10, 16, 23, 29, 37, 45, 52, 60, 70, 76, 87, 95, 103, 113, 123, 131]"
            ]
          },
          "execution_count": 23,
          "metadata": {},
          "output_type": "execute_result"
        }
      ],
      "source": [
        "s_HC"
      ]
    },
    {
      "cell_type": "code",
      "execution_count": 24,
      "metadata": {
        "id": "i12ZSNdGid67"
      },
      "outputs": [],
      "source": [
        "multiplier = [1, 1.5, 2] if d==2 else [1, 1.25, 1.5, 2]\n",
        "label = ['m=s', 'm=1.5s', 'm=2s', 'm=slog(s)', 'm=0.5s^2'] if d==2 else ['m=s', 'm=1.25s', 'm=1.5s', 'm=2s', 'm=slog(s)']"
      ]
    },
    {
      "cell_type": "code",
      "execution_count": 25,
      "metadata": {
        "id": "bbB3cfP46Lym"
      },
      "outputs": [],
      "source": [
        "Y = []\n",
        "\n",
        "for a in multiplier:\n",
        "  y = []\n",
        "  for s in s_HC:\n",
        "    y.append(get_average_rmse(int(a*s), 'least-squares', dim=d, basis='hyperbolic-cross', ord=ords[s_HC.index(s)]))\n",
        "  Y.append(y)"
      ]
    },
    {
      "cell_type": "code",
      "execution_count": 26,
      "metadata": {
        "id": "sJKsH_fh-QS2"
      },
      "outputs": [],
      "source": [
        "y_log = []\n",
        "for s in s_HC:\n",
        "  y_log.append(get_average_rmse(int(s*log(s)), 'least-squares', dim=d, basis='hyperbolic-cross', ord=ords[s_HC.index(s)]))\n",
        "Y.append(y_log)"
      ]
    },
    {
      "cell_type": "code",
      "execution_count": 27,
      "metadata": {
        "id": "NwyMw-Nj-pUl"
      },
      "outputs": [],
      "source": [
        "y_sq = []\n",
        "for s in s_HC:\n",
        "  y_sq.append(get_average_rmse(int(0.5 * s**2), 'least-squares', dim=d, basis='hyperbolic-cross', ord=ords[s_HC.index(s)]))\n",
        "Y.append(y_sq)"
      ]
    },
    {
      "cell_type": "code",
      "execution_count": 28,
      "metadata": {
        "colab": {
          "base_uri": "https://localhost:8080/",
          "height": 499
        },
        "id": "6huldywS86rT",
        "outputId": "ae659bc9-9bd3-46b7-caec-12c1be6c0275"
      },
      "outputs": [
        {
          "data": {
            "image/png": "[encoded data removed]",
            "text/plain": [
              "<Figure size 640x480 with 1 Axes>"
            ]
          },
          "metadata": {
            "needs_background": "light"
          },
          "output_type": "display_data"
        }
      ],
      "source": [
        "color = ['blue', 'orange', 'yellow', 'purple', 'green']\n",
        "#label = ['m=s', 'm=1.25s', 'm=1.5s', 'm=2s', 'm=slog(s)']\n",
        "for i in range(len(Y)):\n",
        "  plt.plot(s_HC, Y[i], color[i], label=label[i], marker='o')\n",
        "  plt.xlabel('s')\n",
        "  plt.ylabel('Average RMSE')\n",
        "  plt.yscale('log')\n",
        "  plt.title('Least-squares, d={}, S=HC'.format(d))\n",
        "plt.legend()\n",
        "plt.show()"
      ]
    },
    {
      "cell_type": "markdown",
      "metadata": {
        "id": "Xa4dy1-Er6lu"
      },
      "source": [
        "## Figure 7.2"
      ]
    },
    {
      "cell_type": "code",
      "execution_count": 29,
      "metadata": {
        "id": "KZDKz23NsIYd"
      },
      "outputs": [],
      "source": [
        "d = 4\n",
        "\n",
        "def ed_diff_function(y):\n",
        "  return exp(-1/(2*d) * np.sum(y))\n",
        "\n",
        "nb_samples = [10*i for i in range(1,26)]\n",
        "order = 43"
      ]
    },
    {
      "cell_type": "code",
      "execution_count": 30,
      "metadata": {
        "id": "CVWLWhboiQLU"
      },
      "outputs": [],
      "source": [
        "d = 8\n",
        "\n",
        "def ed_diff_function(y):\n",
        "  num = np.prod(np.array([cos(16*y[i]/2**i) for i in range(ceil(d/2)+1, d)]))\n",
        "  dem = np.prod(np.array([1 - y[i]/4**i for i in range(ceil(d/2)+1, d)]))\n",
        "  return num/dem\n",
        "\n",
        "nb_samples = [20*i for i in range(1,26)]\n",
        "order = 22"
      ]
    },
    {
      "cell_type": "code",
      "execution_count": 31,
      "metadata": {
        "id": "Ho2LKqhQjD_0"
      },
      "outputs": [],
      "source": [
        "d = 16\n",
        "\n",
        "def ed_diff_function(y):\n",
        "  return exp(-2/d * sum([(y[i] - ((-1)**i/(i+1)))**2 for i in range(d)]))\n",
        "\n",
        "nb_samples = [50*i for i in range(2,21)]\n",
        "order = 14"
      ]
    },
    {
      "cell_type": "code",
      "execution_count": 32,
      "metadata": {
        "colab": {
          "base_uri": "https://localhost:8080/"
        },
        "id": "uHl4HGC60Pqq",
        "outputId": "08529fd7-71bc-448b-aef7-a39b26764c51"
      },
      "outputs": [
        {
          "data": {
            "text/plain": [
              "4385"
            ]
          },
          "execution_count": 32,
          "metadata": {},
          "output_type": "execute_result"
        }
      ],
      "source": [
        "eq.basis.Basis('hyperbolic-cross', orders=[order for _ in range(d)]).get_cardinality()"
      ]
    },
    {
      "cell_type": "code",
      "execution_count": 33,
      "metadata": {
        "id": "tOIz_nmwssHL"
      },
      "outputs": [
        {
          "ename": "KeyboardInterrupt",
          "evalue": "",
          "output_type": "error",
          "traceback": [
            "\u001b[0;31m---------------------------------------------------------------------------\u001b[0m",
            "\u001b[0;31mKeyboardInterrupt\u001b[0m                         Traceback (most recent call last)",
            "\u001b[1;32m/Users/alessio/Desktop/Postdoc/Graph diffusion/polysurrogate_graph_diffusion/test_equad.ipynb Cella 38\u001b[0m line \u001b[0;36m1\n\u001b[0;32m----> <a href='vscode-notebook-cell:/Users/alessio/Desktop/Postdoc/Graph%20diffusion/polysurrogate_graph_diffusion/test_equad.ipynb#X52sZmlsZQ%3D%3D?line=0'>1</a>\u001b[0m y_1 \u001b[39m=\u001b[39m conv(nb_samples, \u001b[39m'\u001b[39;49m\u001b[39mcompressed-sensing\u001b[39;49m\u001b[39m'\u001b[39;49m, dim\u001b[39m=\u001b[39;49md, simuls\u001b[39m=\u001b[39;49m\u001b[39m1\u001b[39;49m, basis\u001b[39m=\u001b[39;49m\u001b[39m'\u001b[39;49m\u001b[39mhyperbolic-cross\u001b[39;49m\u001b[39m'\u001b[39;49m, \u001b[39mord\u001b[39;49m\u001b[39m=\u001b[39;49morder)\n\u001b[1;32m      <a href='vscode-notebook-cell:/Users/alessio/Desktop/Postdoc/Graph%20diffusion/polysurrogate_graph_diffusion/test_equad.ipynb#X52sZmlsZQ%3D%3D?line=1'>2</a>\u001b[0m y_2 \u001b[39m=\u001b[39m conv(nb_samples, \u001b[39m'\u001b[39m\u001b[39melastic-net\u001b[39m\u001b[39m'\u001b[39m, dim\u001b[39m=\u001b[39md, simuls\u001b[39m=\u001b[39m\u001b[39m1\u001b[39m, basis\u001b[39m=\u001b[39m\u001b[39m'\u001b[39m\u001b[39mhyperbolic-cross\u001b[39m\u001b[39m'\u001b[39m, \u001b[39mord\u001b[39m\u001b[39m=\u001b[39morder)\n",
            "\u001b[1;32m/Users/alessio/Desktop/Postdoc/Graph diffusion/polysurrogate_graph_diffusion/test_equad.ipynb Cella 38\u001b[0m line \u001b[0;36m7\n\u001b[1;32m      <a href='vscode-notebook-cell:/Users/alessio/Desktop/Postdoc/Graph%20diffusion/polysurrogate_graph_diffusion/test_equad.ipynb#X52sZmlsZQ%3D%3D?line=4'>5</a>\u001b[0m \u001b[39mif\u001b[39;00m verbose:\n\u001b[1;32m      <a href='vscode-notebook-cell:/Users/alessio/Desktop/Postdoc/Graph%20diffusion/polysurrogate_graph_diffusion/test_equad.ipynb#X52sZmlsZQ%3D%3D?line=5'>6</a>\u001b[0m   start \u001b[39m=\u001b[39m time\u001b[39m.\u001b[39mtime()\n\u001b[0;32m----> <a href='vscode-notebook-cell:/Users/alessio/Desktop/Postdoc/Graph%20diffusion/polysurrogate_graph_diffusion/test_equad.ipynb#X52sZmlsZQ%3D%3D?line=6'>7</a>\u001b[0m Y\u001b[39m.\u001b[39mappend(get_average_rmse(element, method, dim\u001b[39m=\u001b[39;49mdim, simuls\u001b[39m=\u001b[39;49msimuls, \u001b[39mord\u001b[39;49m\u001b[39m=\u001b[39;49m\u001b[39mord\u001b[39;49m, basis\u001b[39m=\u001b[39;49mbasis))\n\u001b[1;32m      <a href='vscode-notebook-cell:/Users/alessio/Desktop/Postdoc/Graph%20diffusion/polysurrogate_graph_diffusion/test_equad.ipynb#X52sZmlsZQ%3D%3D?line=7'>8</a>\u001b[0m \u001b[39mif\u001b[39;00m verbose:\n\u001b[1;32m      <a href='vscode-notebook-cell:/Users/alessio/Desktop/Postdoc/Graph%20diffusion/polysurrogate_graph_diffusion/test_equad.ipynb#X52sZmlsZQ%3D%3D?line=8'>9</a>\u001b[0m   end \u001b[39m=\u001b[39m time\u001b[39m.\u001b[39mtime()\n",
            "\u001b[1;32m/Users/alessio/Desktop/Postdoc/Graph diffusion/polysurrogate_graph_diffusion/test_equad.ipynb Cella 38\u001b[0m line \u001b[0;36m1\n\u001b[1;32m     <a href='vscode-notebook-cell:/Users/alessio/Desktop/Postdoc/Graph%20diffusion/polysurrogate_graph_diffusion/test_equad.ipynb#X52sZmlsZQ%3D%3D?line=11'>12</a>\u001b[0m y_train \u001b[39m=\u001b[39m eq\u001b[39m.\u001b[39mevaluate_model(X_train, ed_diff_function)\n\u001b[1;32m     <a href='vscode-notebook-cell:/Users/alessio/Desktop/Postdoc/Graph%20diffusion/polysurrogate_graph_diffusion/test_equad.ipynb#X52sZmlsZQ%3D%3D?line=12'>13</a>\u001b[0m my_poly \u001b[39m=\u001b[39m eq\u001b[39m.\u001b[39mPoly(parameters\u001b[39m=\u001b[39mmy_param_list, basis\u001b[39m=\u001b[39mmy_basis, method\u001b[39m=\u001b[39mmy_method, \\\n\u001b[1;32m     <a href='vscode-notebook-cell:/Users/alessio/Desktop/Postdoc/Graph%20diffusion/polysurrogate_graph_diffusion/test_equad.ipynb#X52sZmlsZQ%3D%3D?line=13'>14</a>\u001b[0m                   sampling_args\u001b[39m=\u001b[39m{\u001b[39m'\u001b[39m\u001b[39mmesh\u001b[39m\u001b[39m'\u001b[39m:\u001b[39m'\u001b[39m\u001b[39muser-defined\u001b[39m\u001b[39m'\u001b[39m, \u001b[39m'\u001b[39m\u001b[39msample-points\u001b[39m\u001b[39m'\u001b[39m:X_train, \\\n\u001b[1;32m     <a href='vscode-notebook-cell:/Users/alessio/Desktop/Postdoc/Graph%20diffusion/polysurrogate_graph_diffusion/test_equad.ipynb#X52sZmlsZQ%3D%3D?line=14'>15</a>\u001b[0m                                 \u001b[39m'\u001b[39m\u001b[39msample-outputs\u001b[39m\u001b[39m'\u001b[39m:y_train})\n\u001b[0;32m---> <a href='vscode-notebook-cell:/Users/alessio/Desktop/Postdoc/Graph%20diffusion/polysurrogate_graph_diffusion/test_equad.ipynb#X52sZmlsZQ%3D%3D?line=15'>16</a>\u001b[0m my_poly\u001b[39m.\u001b[39;49mset_model()\n\u001b[1;32m     <a href='vscode-notebook-cell:/Users/alessio/Desktop/Postdoc/Graph%20diffusion/polysurrogate_graph_diffusion/test_equad.ipynb#X52sZmlsZQ%3D%3D?line=17'>18</a>\u001b[0m test_pts \u001b[39m=\u001b[39m np\u001b[39m.\u001b[39mrandom\u001b[39m.\u001b[39muniform(\u001b[39m-\u001b[39m\u001b[39m1\u001b[39m, \u001b[39m1\u001b[39m, size\u001b[39m=\u001b[39m(\u001b[39m1000\u001b[39m, dim))\n\u001b[1;32m     <a href='vscode-notebook-cell:/Users/alessio/Desktop/Postdoc/Graph%20diffusion/polysurrogate_graph_diffusion/test_equad.ipynb#X52sZmlsZQ%3D%3D?line=18'>19</a>\u001b[0m test_evals \u001b[39m=\u001b[39m eq\u001b[39m.\u001b[39mevaluate_model(test_pts, ed_diff_function)\n",
            "File \u001b[0;32m~/Desktop/Postdoc/Graph diffusion/polysurrogate_graph_diffusion/content/equadratures/equadratures/poly.py:491\u001b[0m, in \u001b[0;36mPoly.set_model\u001b[0;34m(self, model, model_grads)\u001b[0m\n\u001b[1;32m    489\u001b[0m         \u001b[39mdel\u001b[39;00m grad_values\n\u001b[1;32m    490\u001b[0m \u001b[39mself\u001b[39m\u001b[39m.\u001b[39mstatistics_object \u001b[39m=\u001b[39m \u001b[39mNone\u001b[39;00m\n\u001b[0;32m--> 491\u001b[0m \u001b[39mself\u001b[39;49m\u001b[39m.\u001b[39;49m_set_coefficients()\n",
            "File \u001b[0;32m~/Desktop/Postdoc/Graph diffusion/polysurrogate_graph_diffusion/content/equadratures/equadratures/poly.py:567\u001b[0m, in \u001b[0;36mPoly._set_coefficients\u001b[0;34m(self, user_defined_coefficients)\u001b[0m\n\u001b[1;32m    565\u001b[0m     \u001b[39mself\u001b[39m\u001b[39m.\u001b[39mcoefficients \u001b[39m=\u001b[39m \u001b[39mself\u001b[39m\u001b[39m.\u001b[39msolver\u001b[39m.\u001b[39mget_coefficients(A, b, C, \u001b[39mself\u001b[39m\u001b[39m.\u001b[39m_gradient_evaluations)\n\u001b[1;32m    566\u001b[0m \u001b[39melse\u001b[39;00m:\n\u001b[0;32m--> 567\u001b[0m     \u001b[39mself\u001b[39m\u001b[39m.\u001b[39mcoefficients \u001b[39m=\u001b[39m \u001b[39mself\u001b[39;49m\u001b[39m.\u001b[39;49msolver\u001b[39m.\u001b[39;49mget_coefficients(A, b)\n",
            "File \u001b[0;32m~/Desktop/Postdoc/Graph diffusion/polysurrogate_graph_diffusion/content/equadratures/equadratures/solver.py:157\u001b[0m, in \u001b[0;36mSolver.get_coefficients\u001b[0;34m(self, *args)\u001b[0m\n\u001b[1;32m    155\u001b[0m \u001b[39mif\u001b[39;00m \u001b[39mlen\u001b[39m(args)\u001b[39m==\u001b[39m\u001b[39m2\u001b[39m:\n\u001b[1;32m    156\u001b[0m     \u001b[39mif\u001b[39;00m (args[\u001b[39m0\u001b[39m]\u001b[39m.\u001b[39mndim\u001b[39m==\u001b[39m\u001b[39m2\u001b[39m):\n\u001b[0;32m--> 157\u001b[0m         \u001b[39mself\u001b[39;49m\u001b[39m.\u001b[39;49msolve(args[\u001b[39m0\u001b[39;49m],args[\u001b[39m1\u001b[39;49m])\n\u001b[1;32m    158\u001b[0m     \u001b[39melse\u001b[39;00m:\n\u001b[1;32m    159\u001b[0m         \u001b[39mraise\u001b[39;00m \u001b[39mValueError\u001b[39;00m(\u001b[39m'\u001b[39m\u001b[39mA should be two dimensional but has \u001b[39m\u001b[39m%d\u001b[39;00m\u001b[39m dimensions.\u001b[39m\u001b[39m'\u001b[39m \u001b[39m%\u001b[39margs[\u001b[39m0\u001b[39m]\u001b[39m.\u001b[39mndim)\n",
            "File \u001b[0;32m~/Desktop/Postdoc/Graph diffusion/polysurrogate_graph_diffusion/content/equadratures/equadratures/solver.py:283\u001b[0m, in \u001b[0;36mcompressed_sensing.solve\u001b[0;34m(self, Ao, bo)\u001b[0m\n\u001b[1;32m    280\u001b[0m     \u001b[39mcontinue\u001b[39;00m\n\u001b[1;32m    281\u001b[0m y_train \u001b[39m=\u001b[39m np\u001b[39m.\u001b[39mdelete(y, indices)\u001b[39m.\u001b[39mflatten()\n\u001b[0;32m--> 283\u001b[0m x_train \u001b[39m=\u001b[39m compressed_sensing\u001b[39m.\u001b[39;49m_bp_denoise(A_train, y_train, eta[e], x0\u001b[39m=\u001b[39;49mx0)\n\u001b[1;32m    284\u001b[0m y_trained \u001b[39m=\u001b[39m np\u001b[39m.\u001b[39mreshape(np\u001b[39m.\u001b[39mdot(A_ver, x_train), \u001b[39mlen\u001b[39m(y_ver))\n\u001b[1;32m    286\u001b[0m \u001b[39massert\u001b[39;00m y_trained\u001b[39m.\u001b[39mshape \u001b[39m==\u001b[39m y_ver\u001b[39m.\u001b[39mshape\n",
            "File \u001b[0;32m~/Desktop/Postdoc/Graph diffusion/polysurrogate_graph_diffusion/content/equadratures/equadratures/solver.py:471\u001b[0m, in \u001b[0;36mcompressed_sensing._bp_denoise\u001b[0;34m(A, b, epsilon, verbose, **kwargs)\u001b[0m\n\u001b[1;32m    469\u001b[0m totaliter \u001b[39m=\u001b[39m \u001b[39m0\u001b[39m\n\u001b[1;32m    470\u001b[0m \u001b[39mfor\u001b[39;00m ii \u001b[39min\u001b[39;00m \u001b[39mrange\u001b[39m(lbiter\u001b[39m+\u001b[39m\u001b[39m1\u001b[39m):\n\u001b[0;32m--> 471\u001b[0m     xp, up, ntiter \u001b[39m=\u001b[39m  compressed_sensing\u001b[39m.\u001b[39;49m_l1qc_newton(x, u, A, b, epsilon, tau, newtontol, newtonmaxiter, cgtol, cgmaxiter, verbose, use_CG)\n\u001b[1;32m    472\u001b[0m     totaliter \u001b[39m+\u001b[39m\u001b[39m=\u001b[39m ntiter\n\u001b[1;32m    473\u001b[0m     \u001b[39mif\u001b[39;00m verbose:\n",
            "File \u001b[0;32m~/Desktop/Postdoc/Graph diffusion/polysurrogate_graph_diffusion/content/equadratures/equadratures/solver.py:516\u001b[0m, in \u001b[0;36mcompressed_sensing._l1qc_newton\u001b[0;34m(x0, u0, A, b, epsilon, tau, newtontol, newtonmaxiter, cgtol, cgmaxiter, verbose, use_CG)\u001b[0m\n\u001b[1;32m    514\u001b[0m     dx, cgres, cgiter \u001b[39m=\u001b[39m  compressed_sensing\u001b[39m.\u001b[39m_CG_solve(H11p, w1p, cgmaxiter, cgtol)\n\u001b[1;32m    515\u001b[0m \u001b[39melse\u001b[39;00m:\n\u001b[0;32m--> 516\u001b[0m     dx \u001b[39m=\u001b[39m np\u001b[39m.\u001b[39;49mlinalg\u001b[39m.\u001b[39;49msolve(H11p, w1p)\u001b[39m.\u001b[39mflatten()\n\u001b[1;32m    517\u001b[0m     cgres \u001b[39m=\u001b[39m np\u001b[39m.\u001b[39mlinalg\u001b[39m.\u001b[39mnorm(np\u001b[39m.\u001b[39mdot(H11p, dx)\u001b[39m.\u001b[39mflatten() \u001b[39m-\u001b[39m w1p\u001b[39m.\u001b[39mflatten()) \u001b[39m/\u001b[39m np\u001b[39m.\u001b[39mlinalg\u001b[39m.\u001b[39mnorm(w1p)\n\u001b[1;32m    518\u001b[0m     cgiter \u001b[39m=\u001b[39m \u001b[39m-\u001b[39m\u001b[39m1\u001b[39m\n",
            "File \u001b[0;32m<__array_function__ internals>:180\u001b[0m, in \u001b[0;36msolve\u001b[0;34m(*args, **kwargs)\u001b[0m\n",
            "File \u001b[0;32m~/opt/anaconda3/envs/gnn_id/lib/python3.9/site-packages/numpy/linalg/linalg.py:400\u001b[0m, in \u001b[0;36msolve\u001b[0;34m(a, b)\u001b[0m\n\u001b[1;32m    398\u001b[0m signature \u001b[39m=\u001b[39m \u001b[39m'\u001b[39m\u001b[39mDD->D\u001b[39m\u001b[39m'\u001b[39m \u001b[39mif\u001b[39;00m isComplexType(t) \u001b[39melse\u001b[39;00m \u001b[39m'\u001b[39m\u001b[39mdd->d\u001b[39m\u001b[39m'\u001b[39m\n\u001b[1;32m    399\u001b[0m extobj \u001b[39m=\u001b[39m get_linalg_error_extobj(_raise_linalgerror_singular)\n\u001b[0;32m--> 400\u001b[0m r \u001b[39m=\u001b[39m gufunc(a, b, signature\u001b[39m=\u001b[39;49msignature, extobj\u001b[39m=\u001b[39;49mextobj)\n\u001b[1;32m    402\u001b[0m \u001b[39mreturn\u001b[39;00m wrap(r\u001b[39m.\u001b[39mastype(result_t, copy\u001b[39m=\u001b[39m\u001b[39mFalse\u001b[39;00m))\n",
            "\u001b[0;31mKeyboardInterrupt\u001b[0m: "
          ]
        }
      ],
      "source": [
        "y_1 = conv(nb_samples, 'compressed-sensing', dim=d, simuls=1, basis='hyperbolic-cross', ord=order)\n",
        "y_2 = conv(nb_samples, 'elastic-net', dim=d, simuls=1, basis='hyperbolic-cross', ord=order)"
      ]
    },
    {
      "cell_type": "code",
      "execution_count": null,
      "metadata": {
        "colab": {
          "base_uri": "https://localhost:8080/",
          "height": 482
        },
        "id": "2kEYzmOjnYnf",
        "outputId": "0a5ac900-f52c-4a64-e530-d112f65094a6"
      },
      "outputs": [
        {
          "data": {
            "image/png": "[encoded data removed]",
            "text/plain": [
              "<Figure size 640x480 with 1 Axes>"
            ]
          },
          "metadata": {
            "needs_background": "light"
          },
          "output_type": "display_data"
        }
      ],
      "source": [
        "plt.plot(nb_samples, y_1, 'blue', label='QCBP', marker='o')\n",
        "plt.plot(nb_samples, y_2, 'orange', label='Lasso', marker='o')\n",
        "plt.xlabel('m')\n",
        "plt.ylabel('Average RMSE')\n",
        "plt.yscale('log')\n",
        "#plt.title('Least-squares, d={}, S=HC'.format(d))\n",
        "plt.legend()\n",
        "plt.show()"
      ]
    },
    {
      "cell_type": "markdown",
      "metadata": {
        "id": "9xBMNLDvNhg_"
      },
      "source": [
        "## Is 'sparse-grid' the same as HC?"
      ]
    },
    {
      "cell_type": "code",
      "execution_count": null,
      "metadata": {
        "id": "cx7bVi75NfkS"
      },
      "outputs": [],
      "source": [
        "basis_1 = eq.Basis('sparse-grid', growth_rule='linear', orders=[4,4], level=3)\n",
        "basis_2 = eq.Basis('sparse-grid', growth_rule='exponential', orders=[4,4], level=3)\n",
        "basis_3 = eq.Basis('hyperbolic-basis', orders=[4,4], q=0.5)"
      ]
    },
    {
      "cell_type": "code",
      "execution_count": null,
      "metadata": {
        "id": "QW7icz21PLbP"
      },
      "outputs": [],
      "source": [
        "B = [basis_1, basis_2, basis_3]\n",
        "fig, axs = plt.subplots(1, 3)\n",
        "for ax in axs:\n",
        "  B[axs.index(ax)].plot_index_set()"
      ]
    },
    {
      "cell_type": "code",
      "execution_count": null,
      "metadata": {
        "id": "RsMknt9lEk_g"
      },
      "outputs": [],
      "source": [
        "basis = eq.Basis('hyperbolic-cross', orders=[4,4,4])"
      ]
    },
    {
      "cell_type": "code",
      "execution_count": null,
      "metadata": {
        "colab": {
          "base_uri": "https://localhost:8080/"
        },
        "id": "ymcezv5m_-te",
        "outputId": "d33e9596-5629-472b-a32f-838c7c9cf4ff"
      },
      "outputs": [
        {
          "data": {
            "text/plain": [
              "array([[0., 1.],\n",
              "       [0., 0.],\n",
              "       [0., 0.]])"
            ]
          },
          "execution_count": 26,
          "metadata": {},
          "output_type": "execute_result"
        }
      ],
      "source": [
        "basis.get_elements()"
      ]
    },
    {
      "cell_type": "code",
      "execution_count": null,
      "metadata": {
        "colab": {
          "base_uri": "https://localhost:8080/"
        },
        "id": "2kz-NBai_iyt",
        "outputId": "6ce8e124-91bb-49d7-b8d8-a67db6c2b0bf"
      },
      "outputs": [
        {
          "name": "stdout",
          "output_type": "stream",
          "text": [
            "[3, 3, 3, 3, 3, 3, 3, 3, 3, 3, 3, 3, 3, 3, 3, 3]\n"
          ]
        }
      ],
      "source": [
        "print([eq.Basis('hyperbolic-cross', orders=[i,i,i]).get_cardinality() for i in range(4,20)])"
      ]
    },
    {
      "cell_type": "code",
      "execution_count": null,
      "metadata": {
        "colab": {
          "base_uri": "https://localhost:8080/",
          "height": 482
        },
        "id": "h9fB10IOEvLR",
        "outputId": "0d0a8bc5-9b23-43a2-d45e-019b1a880b74"
      },
      "outputs": [
        {
          "data": {
            "image/png": "[encoded data removed]",
            "text/plain": [
              "<Figure size 500x500 with 1 Axes>"
            ]
          },
          "metadata": {
            "needs_background": "light"
          },
          "output_type": "display_data"
        }
      ],
      "source": [
        "basis.plot_index_set()"
      ]
    },
    {
      "cell_type": "markdown",
      "metadata": {
        "id": "q19wieZQQdFR"
      },
      "source": [
        "Doesn't look like a HC..."
      ]
    },
    {
      "cell_type": "code",
      "execution_count": null,
      "metadata": {
        "colab": {
          "base_uri": "https://localhost:8080/",
          "height": 482
        },
        "id": "SDoRHT32OgGM",
        "outputId": "97609105-133c-4d9a-b5c4-67afd1a7233e"
      },
      "outputs": [
        {
          "data": {
            "image/png": "[encoded data removed]",
            "text/plain": [
              "<Figure size 500x500 with 1 Axes>"
            ]
          },
          "metadata": {
            "needs_background": "light"
          },
          "output_type": "display_data"
        }
      ],
      "source": [
        "basis_2.plot_index_set()"
      ]
    },
    {
      "cell_type": "code",
      "execution_count": null,
      "metadata": {
        "colab": {
          "base_uri": "https://localhost:8080/",
          "height": 482
        },
        "id": "sj8OUj8irAqY",
        "outputId": "76a75eff-766b-4c47-d8d3-1f10cf8c082a"
      },
      "outputs": [
        {
          "data": {
            "image/png": "[encoded data removed]",
            "text/plain": [
              "<Figure size 500x500 with 1 Axes>"
            ]
          },
          "metadata": {
            "needs_background": "light"
          },
          "output_type": "display_data"
        }
      ],
      "source": [
        "eq.Basis('sparse-grid', growth_rule='linear', orders=[20,20], level=3).plot_index_set()"
      ]
    },
    {
      "cell_type": "code",
      "execution_count": null,
      "metadata": {
        "id": "Pn7pYO_FpoGA"
      },
      "outputs": [],
      "source": [
        "d = 2"
      ]
    },
    {
      "cell_type": "code",
      "execution_count": null,
      "metadata": {
        "id": "HJInPieppoGC"
      },
      "outputs": [],
      "source": [
        "def ed_diff_function(y):\n",
        "  return exp(-1/(2*d) * np.sum(y))"
      ]
    },
    {
      "cell_type": "code",
      "execution_count": null,
      "metadata": {
        "id": "TEFYy1IGpN9e"
      },
      "outputs": [],
      "source": [
        "def get_average_rmse_sparse(m, my_method, dim=3, simuls=5, ord=4):\n",
        "  errors = np.array([])\n",
        "  my_param_list = [eq.Parameter(distribution='uniform', order=ord, lower=-1.0, upper=1.0) for i in range(dim)]\n",
        "  my_basis = eq.Basis('sparse-grid', growth_rule='exponential', level=3)\n",
        "\n",
        "  for j in range(simuls):\n",
        "    X_train = np.random.uniform(-1, 1, size=(m, dim))\n",
        "    y_train = eq.evaluate_model(X_train, ed_diff_function)\n",
        "    my_poly = eq.Poly(parameters=my_param_list, basis=my_basis, method=my_method, \\\n",
        "                      sampling_args={'mesh':'user-defined', 'sample-points':X_train, \\\n",
        "                                    'sample-outputs':y_train})\n",
        "    my_poly.set_model()\n",
        "\n",
        "    test_pts = np.random.uniform(-1, 1, size=(1000, dim))\n",
        "    test_evals = eq.evaluate_model(test_pts, ed_diff_function)\n",
        "    train_r2, test_r2 = my_poly.get_polyscore(X_test=test_pts, y_test=test_evals, metric='rmse')\n",
        "    train_r2, test_r2\n",
        "\n",
        "    errors = np.append(errors, test_r2)\n",
        "\n",
        "  return np.mean(errors)"
      ]
    },
    {
      "cell_type": "code",
      "execution_count": null,
      "metadata": {
        "id": "W9VJElfiqZDi"
      },
      "outputs": [],
      "source": [
        "s_SG = [eq.basis.Basis('sparse-grid', orders=[j for i in range(d)], growth_rule='exponential', level=3).get_cardinality() for j in range(1,17)]"
      ]
    },
    {
      "cell_type": "code",
      "execution_count": null,
      "metadata": {
        "colab": {
          "base_uri": "https://localhost:8080/"
        },
        "id": "CMPRDRdLqZDk",
        "outputId": "072c9bd9-8f76-4b74-bb1c-f7f8de81b2e2"
      },
      "outputs": [
        {
          "data": {
            "text/plain": [
              "[69, 69, 69, 69, 69, 69, 69, 69, 69, 69, 69, 69, 69, 69, 69, 69]"
            ]
          },
          "execution_count": 18,
          "metadata": {},
          "output_type": "execute_result"
        }
      ],
      "source": [
        "s_SG"
      ]
    },
    {
      "cell_type": "code",
      "execution_count": null,
      "metadata": {
        "id": "PDhNJvucqZDk"
      },
      "outputs": [],
      "source": [
        "Y = []\n",
        "\n",
        "for a in [1, 1.5, 2]:\n",
        "  y = []\n",
        "  for s in s_SG:\n",
        "    y.append(get_average_rmse_sparse(int(a*s), 'least-squares', dim=d, ord=s_SG.index(s)))\n",
        "  Y.append(y)"
      ]
    },
    {
      "cell_type": "markdown",
      "metadata": {
        "id": "kzzWpkPyRgrh"
      },
      "source": [
        "## Custom solvers (testing LS solver from scipy)"
      ]
    },
    {
      "cell_type": "code",
      "execution_count": 86,
      "metadata": {
        "id": "6qbFFRDxTVXl"
      },
      "outputs": [],
      "source": [
        "from scipy.linalg import lstsq"
      ]
    },
    {
      "cell_type": "code",
      "execution_count": null,
      "metadata": {
        "id": "FfbNXWyvRlia"
      },
      "outputs": [],
      "source": [
        "def scipy_ls(A, b, **kwargs):\n",
        "  x, _, _, _ = lstsq(A, b, lapack_driver='gelss')\n",
        "  return x"
      ]
    },
    {
      "cell_type": "code",
      "execution_count": null,
      "metadata": {
        "id": "nG-7k3m4VsmL"
      },
      "outputs": [],
      "source": [
        "def get_average_custom(m, dim=3, simuls=5, basis='total-order', ord=4):\n",
        "  errors = np.array([])\n",
        "  my_param_list = [eq.Parameter(distribution='uniform', order=ord, lower=-1.0, upper=1.0) for i in range(dim)]\n",
        "\n",
        "  for j in range(simuls):\n",
        "    if basis == 'hyperbolic-cross':\n",
        "      my_basis = eq.Basis(basis, orders=[ord for _ in range(dim)])\n",
        "    else:\n",
        "      my_basis = eq.Basis(basis)\n",
        "\n",
        "    X_train = np.random.uniform(-1, 1, size=(m, dim))\n",
        "    y_train = eq.evaluate_model(X_train, ed_diff_function)\n",
        "    my_poly = eq.Poly(my_param_list, my_basis, method='custom-solver',\n",
        "            sampling_args={'mesh':'user-defined', 'sample-points':X_train, 'sample-outputs':y_train},\n",
        "              solver_args={'solve':scipy_ls,'verbose':False})\n",
        "    my_poly.set_model()\n",
        "\n",
        "    test_pts = np.random.uniform(-1, 1, size=(1000, dim))\n",
        "    test_evals = eq.evaluate_model(test_pts, ed_diff_function)\n",
        "    train_r2, test_r2 = my_poly.get_polyscore(X_test=test_pts, y_test=test_evals, metric='rmse')\n",
        "    train_r2, test_r2\n",
        "\n",
        "    errors = np.append(errors, test_r2)\n",
        "\n",
        "  return np.mean(errors)"
      ]
    },
    {
      "cell_type": "code",
      "execution_count": null,
      "metadata": {
        "id": "qV2eVUPJXTbx"
      },
      "outputs": [],
      "source": [
        "d = 8"
      ]
    },
    {
      "cell_type": "code",
      "execution_count": null,
      "metadata": {
        "id": "WlZrLRw0XTb1"
      },
      "outputs": [],
      "source": [
        "def ed_diff_function(y):\n",
        "  return exp(-1/(2*d) * np.sum(y))"
      ]
    },
    {
      "cell_type": "code",
      "execution_count": null,
      "metadata": {
        "id": "srzhlZzHXTb2"
      },
      "outputs": [],
      "source": [
        "s_TD = [eq.basis.Basis('total-order', orders=[j for i in range(d)]).get_cardinality() for j in range(1,6)]"
      ]
    },
    {
      "cell_type": "code",
      "execution_count": null,
      "metadata": {
        "colab": {
          "base_uri": "https://localhost:8080/"
        },
        "id": "tHB2SL1aXTb4",
        "outputId": "6821b418-f67c-43c9-e8b4-8d6c10dd48f3"
      },
      "outputs": [
        {
          "data": {
            "text/plain": [
              "[9, 45, 165, 495, 1287]"
            ]
          },
          "execution_count": 28,
          "metadata": {},
          "output_type": "execute_result"
        }
      ],
      "source": [
        "s_TD"
      ]
    },
    {
      "cell_type": "code",
      "execution_count": null,
      "metadata": {
        "id": "SrSXExxPXTb5"
      },
      "outputs": [],
      "source": [
        "Y = []\n",
        "\n",
        "for a in [1, 1.25, 1.5, 2]:\n",
        "  y = []\n",
        "  for s in s_TD:\n",
        "    y.append(get_average_custom(int(a*s), dim=d, ord=s_TD.index(s)))\n",
        "  Y.append(y)"
      ]
    },
    {
      "cell_type": "code",
      "execution_count": null,
      "metadata": {
        "id": "CL6FKX0uXTb6"
      },
      "outputs": [],
      "source": [
        "y_log = []\n",
        "for s in s_TD:\n",
        "  y_log.append(get_average_custom(int(s*log(s)), dim=d, ord=s_TD.index(s)))\n",
        "Y.append(y_log)"
      ]
    },
    {
      "cell_type": "code",
      "execution_count": null,
      "metadata": {
        "id": "SPGGQDjYXTb6"
      },
      "outputs": [],
      "source": [
        "y_sq = []\n",
        "for s in s_TD:\n",
        "  y_sq.append(get_average_custom(int(0.5 * s**2), 'least-squares', dim=d, ord=s_TD.index(s)))\n",
        "Y.append(y_sq)"
      ]
    },
    {
      "cell_type": "code",
      "execution_count": null,
      "metadata": {
        "colab": {
          "base_uri": "https://localhost:8080/",
          "height": 499
        },
        "id": "XPy_hAjsZZ4A",
        "outputId": "ccf63319-0038-492c-b249-fe0d911e4ad7"
      },
      "outputs": [
        {
          "data": {
            "image/png": "[encoded data removed]",
            "text/plain": [
              "<Figure size 640x480 with 1 Axes>"
            ]
          },
          "metadata": {
            "needs_background": "light"
          },
          "output_type": "display_data"
        }
      ],
      "source": [
        "color = ['blue', 'orange', 'yellow', 'purple', 'green']\n",
        "label = ['m=s', 'm=1.25s','m=1.5s', 'm=2s', 'm=slog(s)']\n",
        "for i in range(len(Y)):\n",
        "  plt.plot(s_TD, Y[i], color[i], label=label[i], marker='o')\n",
        "  plt.xlabel('s')\n",
        "  plt.ylabel('Average RMSE')\n",
        "  plt.yscale('log')\n",
        "  plt.title('Least-squares (w/ \"gelss\"), d={}, S=TD'.format(d))\n",
        "plt.legend()\n",
        "plt.show()"
      ]
    },
    {
      "cell_type": "markdown",
      "metadata": {
        "id": "6Gc_v_JOLE0F"
      },
      "source": [
        "## Custom solver w/ cvxpy"
      ]
    },
    {
      "cell_type": "code",
      "execution_count": 135,
      "metadata": {
        "id": "ZCKTlqt4LBMn"
      },
      "outputs": [],
      "source": [
        "## Example code from cvxpy documentation\n",
        "## https://www.cvxpy.org/\n",
        "\n",
        "'''\n",
        "# Construct the problem.\n",
        "x = cp.Variable(n)\n",
        "objective = cp.Minimize(cp.sum_squares(A @ x - b))\n",
        "constraints = [0 <= x, x <= 1]\n",
        "prob = cp.Problem(objective, constraints)\n",
        "\n",
        "# The optimal objective value is returned by `prob.solve()`.\n",
        "result = prob.solve()\n",
        "# The optimal value for x is stored in `x.value`.\n",
        "print(x.value)\n",
        "# The optimal Lagrange multiplier for a constraint is stored in\n",
        "# `constraint.dual_value`.\n",
        "print(constraints[0].dual_value)\n",
        "'''\n",
        "\n",
        "def qcbp(A, b, eta=10e-5, **kwargs):\n",
        "  n = A.shape[1]\n",
        "  print(A.shape)\n",
        "  print(b.shape)\n",
        "  z = cp.Variable(n)\n",
        "  b = np.reshape(b, (b.shape[0],))  # to avoid shape issues when defining the constraint\n",
        "  objective = cp.Minimize(cp.norm1(z))\n",
        "  constraints = [cp.norm2(A@z-b) <= eta]\n",
        "  prob = cp.Problem(objective, constraints)\n",
        "  prob.solve(solver='MOSEK', verbose = True)  # MOSEK not working (install problem)\n",
        "  print(z.value)\n",
        "  return z.value"
      ]
    },
    {
      "cell_type": "code",
      "execution_count": 126,
      "metadata": {},
      "outputs": [
        {
          "name": "stdout",
          "output_type": "stream",
          "text": [
            "[-17.37176063  11.47159699 -11.01301717 -10.04748307  -3.64496624\n",
            "   5.78564563  75.99827799  54.69831053 -19.37044477  -9.83330404\n",
            " -10.92220715 -39.53370343  47.44794854  13.01793209 -23.61690522]\n"
          ]
        }
      ],
      "source": [
        "A = np.random.randn(15,15)\n",
        "b = np.random.randn(15)\n",
        "eta = 1e-5\n",
        "n = A.shape[1]\n",
        "z = cp.Variable(n)\n",
        "b = np.reshape(b, (b.shape[0],))  # to avoid shape issues when defining the constraint\n",
        "objective = cp.Minimize(cp.norm1(z))\n",
        "constraints = [cp.norm2(A@z-b) <= eta]\n",
        "prob = cp.Problem(objective, constraints)\n",
        "prob.solve(solver='MOSEK')  # MOSEK not working (install problem)\n",
        "print(z.value)\n"
      ]
    },
    {
      "cell_type": "code",
      "execution_count": 127,
      "metadata": {
        "id": "LJsuqjTMR4t6"
      },
      "outputs": [],
      "source": [
        "def lasso():\n",
        "  pass"
      ]
    },
    {
      "cell_type": "code",
      "execution_count": 128,
      "metadata": {
        "colab": {
          "base_uri": "https://localhost:8080/"
        },
        "id": "eTaIWdwAQfcp",
        "outputId": "ce46b492-4798-474f-daed-fdbef8c1d40f"
      },
      "outputs": [
        {
          "name": "stdout",
          "output_type": "stream",
          "text": [
            "(15, 15)\n",
            "(15,)\n",
            "[-8.00899034e-10 -2.46882866e-01  1.09260042e-10  1.06459696e-01\n",
            " -2.16337303e-02  1.15178008e-01  3.19960676e-01 -1.95429991e-02\n",
            "  7.50650693e-10 -6.35422621e-01 -6.07885354e-01  9.93391630e-09\n",
            " -1.54488551e-10 -1.60926831e-01 -7.27311833e-02]\n"
          ]
        },
        {
          "data": {
            "text/plain": [
              "(15,)"
            ]
          },
          "execution_count": 128,
          "metadata": {},
          "output_type": "execute_result"
        }
      ],
      "source": [
        "A = np.random.randn(15,15)\n",
        "b = np.random.randn(15)\n",
        "\n",
        "qcbp(A, b, 1).shape"
      ]
    },
    {
      "cell_type": "code",
      "execution_count": 136,
      "metadata": {
        "id": "VR6C0hvkaMJx"
      },
      "outputs": [],
      "source": [
        "def get_average_custom(m, dim=3, simuls=5, basis='total-order', ord=4, solv=qcbp):\n",
        "  errors = np.array([])\n",
        "  my_param_list = [eq.Parameter(distribution='uniform', order=ord, lower=-1.0, upper=1.0) for i in range(dim)]\n",
        "\n",
        "  for j in range(simuls):\n",
        "    if basis == 'hyperbolic-cross':\n",
        "      my_basis = eq.Basis(basis, orders=[ord for _ in range(dim)])\n",
        "    else:\n",
        "      my_basis = eq.Basis(basis)\n",
        "\n",
        "    X_train = np.random.uniform(-1, 1, size=(m, dim))\n",
        "    y_train = eq.evaluate_model(X_train, ed_diff_function).squeeze()\n",
        "    my_poly = eq.Poly(my_param_list, my_basis, method='custom-solver',\n",
        "            sampling_args={'mesh':'user-defined', 'sample-points':X_train, 'sample-outputs':y_train},\n",
        "              solver_args={'solve':solv,'verbose':False})\n",
        "    my_poly.set_model()\n",
        "    print(my_poly.coefficients)\n",
        "\n",
        "    test_pts = np.random.uniform(-1, 1, size=(1000, dim))\n",
        "    test_evals = eq.evaluate_model(test_pts, ed_diff_function)\n",
        "    train_r2, test_r2 = my_poly.get_polyscore(X_test=test_pts, y_test=test_evals, metric='rmse')\n",
        "    train_r2, test_r2\n",
        "\n",
        "    errors = np.append(errors, test_r2)\n",
        "\n",
        "  return np.mean(errors)"
      ]
    },
    {
      "cell_type": "code",
      "execution_count": 137,
      "metadata": {
        "colab": {
          "base_uri": "https://localhost:8080/"
        },
        "collapsed": true,
        "id": "edeGwH-uWnIj",
        "outputId": "356afb8d-882b-4020-c74a-4b3dea46133a"
      },
      "outputs": [
        {
          "name": "stdout",
          "output_type": "stream",
          "text": [
            "(100, 23)\n",
            "(100,)\n",
            "===============================================================================\n",
            "                                     CVXPY                                     \n",
            "                                    v1.1.19                                    \n",
            "===============================================================================\n",
            "(CVXPY) May 28 08:45:46 AM: Your problem has 23 variables, 1 constraints, and 0 parameters.\n",
            "(CVXPY) May 28 08:45:46 AM: It is compliant with the following grammars: DCP, DQCP\n",
            "(CVXPY) May 28 08:45:46 AM: (If you need to solve this problem multiple times, but with different data, consider using parameters.)\n",
            "(CVXPY) May 28 08:45:46 AM: CVXPY will first compile your problem; then, it will invoke a numerical solver to obtain a solution.\n",
            "-------------------------------------------------------------------------------\n",
            "                                  Compilation                                  \n",
            "-------------------------------------------------------------------------------\n",
            "(CVXPY) May 28 08:45:46 AM: Compiling problem (target solver=MOSEK).\n",
            "(CVXPY) May 28 08:45:46 AM: Reduction chain: Dcp2Cone -> CvxAttr2Constr -> ConeMatrixStuffing -> MOSEK\n",
            "(CVXPY) May 28 08:45:46 AM: Applying reduction Dcp2Cone\n",
            "(CVXPY) May 28 08:45:46 AM: Applying reduction CvxAttr2Constr\n",
            "(CVXPY) May 28 08:45:46 AM: Applying reduction ConeMatrixStuffing\n",
            "(CVXPY) May 28 08:45:46 AM: Applying reduction MOSEK\n"
          ]
        },
        {
          "name": "stdout",
          "output_type": "stream",
          "text": [
            "(CVXPY) May 28 08:45:46 AM: Finished problem compilation (took 2.543e-02 seconds).\n",
            "-------------------------------------------------------------------------------\n",
            "                                Numerical solver                               \n",
            "-------------------------------------------------------------------------------\n",
            "(CVXPY) May 28 08:45:46 AM: Invoking solver MOSEK  to obtain a solution.\n",
            "\n",
            "\n",
            "(CVXPY) May 28 08:45:46 AM: Problem\n",
            "(CVXPY) May 28 08:45:46 AM:   Name                   :                 \n",
            "(CVXPY) May 28 08:45:46 AM:   Objective sense        : maximize        \n",
            "(CVXPY) May 28 08:45:46 AM:   Type                   : CONIC (conic optimization problem)\n",
            "(CVXPY) May 28 08:45:46 AM:   Constraints            : 47              \n",
            "(CVXPY) May 28 08:45:46 AM:   Affine conic cons.     : 0               \n",
            "(CVXPY) May 28 08:45:46 AM:   Disjunctive cons.      : 0               \n",
            "(CVXPY) May 28 08:45:46 AM:   Cones                  : 1               \n",
            "(CVXPY) May 28 08:45:46 AM:   Scalar variables       : 148             \n",
            "(CVXPY) May 28 08:45:46 AM:   Matrix variables       : 0               \n",
            "(CVXPY) May 28 08:45:46 AM:   Integer variables      : 0               \n",
            "(CVXPY) May 28 08:45:46 AM: \n",
            "(CVXPY) May 28 08:45:46 AM: Optimizer started.\n",
            "(CVXPY) May 28 08:45:46 AM: Presolve started.\n",
            "(CVXPY) May 28 08:45:46 AM: Linear dependency checker started.\n",
            "(CVXPY) May 28 08:45:46 AM: Linear dependency checker terminated.\n",
            "(CVXPY) May 28 08:45:46 AM: Eliminator started.\n",
            "(CVXPY) May 28 08:45:46 AM: Freed constraints in eliminator : 23\n",
            "(CVXPY) May 28 08:45:46 AM: Eliminator terminated.\n",
            "(CVXPY) May 28 08:45:46 AM: Eliminator started.\n",
            "(CVXPY) May 28 08:45:46 AM: Freed constraints in eliminator : 0\n",
            "(CVXPY) May 28 08:45:46 AM: Eliminator terminated.\n",
            "(CVXPY) May 28 08:45:46 AM: Eliminator - tries                  : 2                 time                   : 0.00            \n",
            "(CVXPY) May 28 08:45:46 AM: Lin. dep.  - tries                  : 1                 time                   : 0.00            \n",
            "(CVXPY) May 28 08:45:46 AM: Lin. dep.  - primal attempts        : 1                 successes              : 1               \n",
            "(CVXPY) May 28 08:45:46 AM: Lin. dep.  - dual attempts          : 0                 successes              : 0               \n",
            "(CVXPY) May 28 08:45:46 AM: Lin. dep.  - primal deps.           : 0                 dual deps.             : 0               \n",
            "(CVXPY) May 28 08:45:46 AM: Presolve terminated. Time: 0.01    \n",
            "(CVXPY) May 28 08:45:46 AM: Optimizer  - threads                : 10              \n",
            "(CVXPY) May 28 08:45:46 AM: Optimizer  - solved problem         : the primal      \n",
            "(CVXPY) May 28 08:45:46 AM: Optimizer  - Constraints            : 23              \n",
            "(CVXPY) May 28 08:45:46 AM: Optimizer  - Cones                  : 1               \n",
            "(CVXPY) May 28 08:45:46 AM: Optimizer  - Scalar variables       : 124               conic                  : 101             \n",
            "(CVXPY) May 28 08:45:46 AM: Optimizer  - Semi-definite variables: 0                 scalarized             : 0               \n",
            "(CVXPY) May 28 08:45:46 AM: Factor     - setup time             : 0.00            \n",
            "(CVXPY) May 28 08:45:46 AM: Factor     - dense det. time        : 0.00              GP order time          : 0.00            \n",
            "(CVXPY) May 28 08:45:46 AM: Factor     - nonzeros before factor : 276               after factor           : 276             \n",
            "(CVXPY) May 28 08:45:46 AM: Factor     - dense dim.             : 0                 flops                  : 6.01e+04        \n",
            "(CVXPY) May 28 08:45:46 AM: ITE PFEAS    DFEAS    GFEAS    PRSTATUS   POBJ              DOBJ              MU       TIME  \n",
            "(CVXPY) May 28 08:45:46 AM: 0   1.5e+01  1.0e+00  1.0e+00  0.00e+00   -1.000000000e-04  -0.000000000e+00  1.0e+00  0.01  \n",
            "(CVXPY) May 28 08:45:46 AM: 1   2.8e-01  1.9e-02  4.1e-02  -7.49e-01  2.017519128e-02   -4.596643944e+00  1.9e-02  0.02  \n",
            "(CVXPY) May 28 08:45:46 AM: 2   1.9e-02  1.3e-03  6.5e-04  7.88e-01   8.644594128e-01   6.135106053e-01   1.3e-03  0.02  \n",
            "(CVXPY) May 28 08:45:46 AM: 3   2.1e-03  1.4e-04  2.2e-05  9.81e-01   1.236128624e+00   1.212745759e+00   1.4e-04  0.02  \n",
            "(CVXPY) May 28 08:45:46 AM: 4   9.4e-04  6.3e-05  6.4e-06  9.77e-01   1.293098432e+00   1.283139759e+00   6.3e-05  0.02  \n",
            "(CVXPY) May 28 08:45:46 AM: 5   7.5e-04  5.0e-05  1.1e-05  2.15e-01   1.540315594e+00   1.496800329e+00   5.0e-05  0.02  \n",
            "(CVXPY) May 28 08:45:46 AM: 6   8.7e-05  5.8e-06  2.1e-06  -1.54e-01  3.304389935e+00   3.170035153e+00   5.8e-06  0.02  \n",
            "(CVXPY) May 28 08:45:46 AM: 7   1.3e-05  8.7e-07  7.9e-07  -9.47e-01  1.639267308e+01   1.557461070e+01   8.7e-07  0.02  \n",
            "(CVXPY) May 28 08:45:46 AM: 8   2.4e-06  1.6e-07  3.4e-07  -9.93e-01  8.563872620e+01   8.131817834e+01   1.6e-07  0.02  \n",
            "(CVXPY) May 28 08:45:46 AM: 9   1.5e-07  1.0e-08  7.7e-08  -9.99e-01  1.216564997e+03   1.157433946e+03   1.0e-08  0.02  \n",
            "(CVXPY) May 28 08:45:46 AM: 10  6.2e-11  5.2e-14  1.8e-10  -1.00e+00  2.332634624e+08   2.219218981e+08   5.2e-14  0.02  \n",
            "(CVXPY) May 28 08:45:46 AM: 11  9.2e-15  1.4e-18  5.1e-12  -1.00e+00  2.270608069e-02   2.160208236e-02   5.0e-21  0.02  \n",
            "(CVXPY) May 28 08:45:46 AM: Optimizer terminated. Time: 0.04    \n",
            "(CVXPY) May 28 08:45:46 AM: \n",
            "(CVXPY) May 28 08:45:46 AM: \n",
            "(CVXPY) May 28 08:45:46 AM: Interior-point solution summary\n",
            "(CVXPY) May 28 08:45:46 AM:   Problem status  : DUAL_INFEASIBLE\n",
            "(CVXPY) May 28 08:45:46 AM:   Solution status : DUAL_INFEASIBLE_CER\n",
            "(CVXPY) May 28 08:45:46 AM:   Primal.  obj: 2.2706080688e-02    nrm: 5e+01    Viol.  con: 2e-15    var: 6e-18    cones: 0e+00  \n",
            "-------------------------------------------------------------------------------\n",
            "                                    Summary                                    \n",
            "-------------------------------------------------------------------------------\n",
            "(CVXPY) May 28 08:45:46 AM: Problem status: infeasible\n",
            "(CVXPY) May 28 08:45:46 AM: Optimal value: inf\n",
            "(CVXPY) May 28 08:45:46 AM: Compilation took 2.543e-02 seconds\n",
            "(CVXPY) May 28 08:45:46 AM: Solver (including time spent in interface) took 6.267e-02 seconds\n",
            "None\n",
            "None\n"
          ]
        },
        {
          "ename": "TypeError",
          "evalue": "object of type 'NoneType' has no len()",
          "output_type": "error",
          "traceback": [
            "\u001b[0;31m---------------------------------------------------------------------------\u001b[0m",
            "\u001b[0;31mTypeError\u001b[0m                                 Traceback (most recent call last)",
            "\u001b[1;32m/Users/alessio/Desktop/Postdoc/Graph diffusion/polysurrogate_graph_diffusion/test_equad.ipynb Cella 74\u001b[0m line \u001b[0;36m1\n\u001b[0;32m----> <a href='vscode-notebook-cell:/Users/alessio/Desktop/Postdoc/Graph%20diffusion/polysurrogate_graph_diffusion/test_equad.ipynb#Y132sZmlsZQ%3D%3D?line=0'>1</a>\u001b[0m get_average_custom(\u001b[39m100\u001b[39;49m, dim\u001b[39m=\u001b[39;49md, simuls\u001b[39m=\u001b[39;49m\u001b[39m1\u001b[39;49m, basis\u001b[39m=\u001b[39;49m\u001b[39m'\u001b[39;49m\u001b[39mhyperbolic-cross\u001b[39;49m\u001b[39m'\u001b[39;49m)\n",
            "\u001b[1;32m/Users/alessio/Desktop/Postdoc/Graph diffusion/polysurrogate_graph_diffusion/test_equad.ipynb Cella 74\u001b[0m line \u001b[0;36m2\n\u001b[1;32m     <a href='vscode-notebook-cell:/Users/alessio/Desktop/Postdoc/Graph%20diffusion/polysurrogate_graph_diffusion/test_equad.ipynb#Y132sZmlsZQ%3D%3D?line=18'>19</a>\u001b[0m test_pts \u001b[39m=\u001b[39m np\u001b[39m.\u001b[39mrandom\u001b[39m.\u001b[39muniform(\u001b[39m-\u001b[39m\u001b[39m1\u001b[39m, \u001b[39m1\u001b[39m, size\u001b[39m=\u001b[39m(\u001b[39m1000\u001b[39m, dim))\n\u001b[1;32m     <a href='vscode-notebook-cell:/Users/alessio/Desktop/Postdoc/Graph%20diffusion/polysurrogate_graph_diffusion/test_equad.ipynb#Y132sZmlsZQ%3D%3D?line=19'>20</a>\u001b[0m test_evals \u001b[39m=\u001b[39m eq\u001b[39m.\u001b[39mevaluate_model(test_pts, ed_diff_function)\n\u001b[0;32m---> <a href='vscode-notebook-cell:/Users/alessio/Desktop/Postdoc/Graph%20diffusion/polysurrogate_graph_diffusion/test_equad.ipynb#Y132sZmlsZQ%3D%3D?line=20'>21</a>\u001b[0m train_r2, test_r2 \u001b[39m=\u001b[39m my_poly\u001b[39m.\u001b[39;49mget_polyscore(X_test\u001b[39m=\u001b[39;49mtest_pts, y_test\u001b[39m=\u001b[39;49mtest_evals, metric\u001b[39m=\u001b[39;49m\u001b[39m'\u001b[39;49m\u001b[39mrmse\u001b[39;49m\u001b[39m'\u001b[39;49m)\n\u001b[1;32m     <a href='vscode-notebook-cell:/Users/alessio/Desktop/Postdoc/Graph%20diffusion/polysurrogate_graph_diffusion/test_equad.ipynb#Y132sZmlsZQ%3D%3D?line=21'>22</a>\u001b[0m train_r2, test_r2\n\u001b[1;32m     <a href='vscode-notebook-cell:/Users/alessio/Desktop/Postdoc/Graph%20diffusion/polysurrogate_graph_diffusion/test_equad.ipynb#Y132sZmlsZQ%3D%3D?line=23'>24</a>\u001b[0m errors \u001b[39m=\u001b[39m np\u001b[39m.\u001b[39mappend(errors, test_r2)\n",
            "File \u001b[0;32m~/Desktop/Postdoc/Graph diffusion/polysurrogate_graph_diffusion/content/equadratures/equadratures/poly.py:909\u001b[0m, in \u001b[0;36mPoly.get_polyscore\u001b[0;34m(self, X_test, y_test, metric)\u001b[0m\n\u001b[1;32m    888\u001b[0m \u001b[39m\u001b[39m\u001b[39m\"\"\" Evaluates the accuracy of the polynomial approximation using the selected accuracy metric. \u001b[39;00m\n\u001b[1;32m    889\u001b[0m \n\u001b[1;32m    890\u001b[0m \u001b[39mTraining accuracy is evaluated on the data used for fitting the polynomial. Testing accuracy is evaluated on new data if it is provided by the ``X_test`` and ``y_test`` arguments (both must be provided together).\u001b[39;00m\n\u001b[0;32m   (...)\u001b[0m\n\u001b[1;32m    906\u001b[0m \u001b[39m    If ``X_test`` and ``y_test`` are given. Tuple containing the train and test scores of the model.\u001b[39;00m\n\u001b[1;32m    907\u001b[0m \u001b[39m\"\"\"\u001b[39;00m\n\u001b[1;32m    908\u001b[0m X \u001b[39m=\u001b[39m \u001b[39mself\u001b[39m\u001b[39m.\u001b[39mget_points()\n\u001b[0;32m--> 909\u001b[0m y_pred \u001b[39m=\u001b[39m \u001b[39mself\u001b[39;49m\u001b[39m.\u001b[39;49mget_polyfit(X)\n\u001b[1;32m    910\u001b[0m train_score \u001b[39m=\u001b[39m score(\u001b[39mself\u001b[39m\u001b[39m.\u001b[39m_model_evaluations, y_pred,metric, X\u001b[39m=\u001b[39mX)\n\u001b[1;32m    911\u001b[0m \u001b[39mif\u001b[39;00m X_test \u001b[39mis\u001b[39;00m \u001b[39mnot\u001b[39;00m \u001b[39mNone\u001b[39;00m \u001b[39mand\u001b[39;00m y_test \u001b[39mis\u001b[39;00m \u001b[39mnot\u001b[39;00m \u001b[39mNone\u001b[39;00m:\n",
            "File \u001b[0;32m~/Desktop/Postdoc/Graph diffusion/polysurrogate_graph_diffusion/content/equadratures/equadratures/poly.py:634\u001b[0m, in \u001b[0;36mPoly.get_polyfit\u001b[0;34m(self, stack_of_points, uq)\u001b[0m\n\u001b[1;32m    619\u001b[0m \u001b[39mdef\u001b[39;00m \u001b[39mget_polyfit\u001b[39m(\u001b[39mself\u001b[39m, stack_of_points, uq\u001b[39m=\u001b[39m\u001b[39mFalse\u001b[39;00m):\n\u001b[1;32m    620\u001b[0m \u001b[39m    \u001b[39m\u001b[39m\"\"\" Evaluates the /polynomial approximation of a function (or model data) at prescribed points.\u001b[39;00m\n\u001b[1;32m    621\u001b[0m \u001b[39m    \u001b[39;00m\n\u001b[1;32m    622\u001b[0m \u001b[39m    Parameters\u001b[39;00m\n\u001b[0;32m   (...)\u001b[0m\n\u001b[1;32m    632\u001b[0m \u001b[39m        Array with shape (1, number_of_observations) corresponding to the polynomial approximation of the model.\u001b[39;00m\n\u001b[1;32m    633\u001b[0m \u001b[39m    \"\"\"\u001b[39;00m\n\u001b[0;32m--> 634\u001b[0m     N \u001b[39m=\u001b[39m \u001b[39mlen\u001b[39;49m(\u001b[39mself\u001b[39;49m\u001b[39m.\u001b[39;49mcoefficients)\n\u001b[1;32m    635\u001b[0m     \u001b[39mif\u001b[39;00m uq:\n\u001b[1;32m    636\u001b[0m         \u001b[39mreturn\u001b[39;00m np\u001b[39m.\u001b[39mdot(\u001b[39mself\u001b[39m\u001b[39m.\u001b[39mget_poly(stack_of_points)\u001b[39m.\u001b[39mT , \u001b[39mself\u001b[39m\u001b[39m.\u001b[39mcoefficients\u001b[39m.\u001b[39mreshape(N, \u001b[39m1\u001b[39m)), \u001b[39mself\u001b[39m\u001b[39m.\u001b[39m_get_polystd(stack_of_points)\n",
            "\u001b[0;31mTypeError\u001b[0m: object of type 'NoneType' has no len()"
          ]
        }
      ],
      "source": [
        "get_average_custom(100, dim=d, simuls=1, basis='hyperbolic-cross')"
      ]
    },
    {
      "cell_type": "code",
      "execution_count": 40,
      "metadata": {
        "id": "_4oHBfCsa8tO"
      },
      "outputs": [],
      "source": [
        "def conv_custom(x, dim=3, simuls=5, basis='total-order', ord=4, method=qcbp, verbose=False):\n",
        "  Y = []\n",
        "\n",
        "  for element in x:\n",
        "    if verbose:\n",
        "      start = time.time()\n",
        "    Y.append(get_average_custom(element, dim=dim, simuls=simuls, ord=ord, basis=basis, solv=method))\n",
        "    if verbose:\n",
        "      end = time.time()\n",
        "      print('m={} w/ {}, done: {} seconds.'.format(element, str(method), end-start))\n",
        "\n",
        "  return Y"
      ]
    },
    {
      "cell_type": "code",
      "execution_count": 41,
      "metadata": {
        "id": "vongotBla0Jf"
      },
      "outputs": [],
      "source": [
        "d = 4\n",
        "\n",
        "def ed_diff_function(y):\n",
        "  return exp(-1/(2*d) * np.sum(y))\n",
        "\n",
        "nb_samples = [10*i for i in range(1,26)]\n",
        "order = 43"
      ]
    },
    {
      "cell_type": "code",
      "execution_count": 42,
      "metadata": {
        "id": "QW0LYff1b697"
      },
      "outputs": [],
      "source": [
        "y_1 = conv_custom(nb_samples, dim=d, simuls=1, basis='hyperbolic-cross', ord=order)"
      ]
    },
    {
      "cell_type": "code",
      "execution_count": 43,
      "metadata": {
        "colab": {
          "base_uri": "https://localhost:8080/",
          "height": 472
        },
        "id": "r6kjlPC8bxeK",
        "outputId": "d7ee4ab7-8d3b-47bb-afc6-80f00943bf94"
      },
      "outputs": [
        {
          "data": {
            "image/png": "[encoded data removed]",
            "text/plain": [
              "<Figure size 640x480 with 1 Axes>"
            ]
          },
          "metadata": {
            "needs_background": "light"
          },
          "output_type": "display_data"
        }
      ],
      "source": [
        "plt.plot(nb_samples, y_1, 'blue', label='QCBP', marker='o')\n",
        "#plt.plot(nb_samples, y_2, 'orange', label='Lasso', marker='o')\n",
        "plt.xlabel('m')\n",
        "plt.ylabel('Average RMSE')\n",
        "plt.yscale('log')\n",
        "#plt.title('Least-squares, d={}, S=HC'.format(d))\n",
        "plt.legend()\n",
        "plt.show()"
      ]
    },
    {
      "cell_type": "code",
      "execution_count": 74,
      "metadata": {},
      "outputs": [],
      "source": [
        "from cvxpy import installed_solvers"
      ]
    },
    {
      "cell_type": "code",
      "execution_count": 79,
      "metadata": {},
      "outputs": [
        {
          "data": {
            "text/plain": [
              "'MOSEK'"
            ]
          },
          "execution_count": 79,
          "metadata": {},
          "output_type": "execute_result"
        }
      ],
      "source": []
    },
    {
      "cell_type": "code",
      "execution_count": null,
      "metadata": {},
      "outputs": [],
      "source": []
    }
  ],
  "metadata": {
    "colab": {
      "collapsed_sections": [
        "rmfpr6YCfFUa",
        "3hKNNHH0fFz2",
        "ZwHqXBaDfGXF",
        "zOOIoeaYiFlv",
        "lTtcyMwCr5m3",
        "Xa4dy1-Er6lu",
        "9xBMNLDvNhg_",
        "kzzWpkPyRgrh"
      ],
      "provenance": []
    },
    "kernelspec": {
      "display_name": "Python 3",
      "name": "python3"
    },
    "language_info": {
      "codemirror_mode": {
        "name": "ipython",
        "version": 3
      },
      "file_extension": ".py",
      "mimetype": "text/x-python",
      "name": "python",
      "nbconvert_exporter": "python",
      "pygments_lexer": "ipython3",
      "version": "3.9.16"
    }
  },
  "nbformat": 4,
  "nbformat_minor": 0
}
