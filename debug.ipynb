{
 "cells": [
  {
   "cell_type": "code",
   "execution_count": 3,
   "metadata": {},
   "outputs": [],
   "source": [
    "import numpy as np\n",
    "from math import exp, sqrt\n",
    "import networkx as nx\n",
    "from scipy.integrate import solve_ivp\n",
    "from Diff import *"
   ]
  },
  {
   "cell_type": "code",
   "execution_count": 2,
   "metadata": {},
   "outputs": [
    {
     "name": "stderr",
     "output_type": "stream",
     "text": [
      "/var/folders/4g/4249y1xd42d75jmm55xxl99m0000gn/T/ipykernel_43106/3879556483.py:5: FutureWarning: adjacency_matrix will return a scipy.sparse array instead of a matrix in Networkx 3.0.\n",
      "  A = nx.adjacency_matrix(G).todense()\n",
      "<class 'networkx.utils.decorators.argmap'> compilation 16:4: FutureWarning: laplacian_matrix will return a scipy.sparse array instead of a matrix in Networkx 3.0.\n"
     ]
    }
   ],
   "source": [
    "\n",
    "sizes = [6, 5, 4]\n",
    "probs = [[1, 0.05, 0.05], [0.05, 1, 0.05], [0.05, 0.05, 1]]\n",
    "G = nx.stochastic_block_model(sizes, probs, seed=0)\n",
    "pos = nx.spring_layout(G)\n",
    "A = nx.adjacency_matrix(G).todense()\n",
    "L = nx.laplacian_matrix(G).toarray()\n",
    "\n",
    "\n",
    "n = G.number_of_nodes()\n",
    "x0 = np.zeros(n)\n",
    "activ = np.random.choice(n, int(0.2*n))\n",
    "x0[activ] = 100"
   ]
  },
  {
   "cell_type": "code",
   "execution_count": 5,
   "metadata": {},
   "outputs": [],
   "source": [
    "c_bar = np.array([[20,3,5],\n",
    "              [3,15,2],\n",
    "              [5,2,10]])\n",
    "C = construct_C(c_bar, sizes, n)\n",
    "D = construct_D(A, C, n)\n",
    "M = C*A - D\n",
    "tau=0.1\n",
    "T=10"
   ]
  },
  {
   "cell_type": "code",
   "execution_count": 32,
   "metadata": {},
   "outputs": [
    {
     "data": {
      "text/plain": [
       "matrix([[0, 1, 1, 1, 1, 1, 0, 0, 0, 0, 0, 0, 0, 1, 0],\n",
       "        [1, 0, 1, 1, 1, 1, 0, 0, 0, 0, 0, 0, 0, 0, 0],\n",
       "        [1, 1, 0, 1, 1, 1, 0, 0, 0, 0, 0, 0, 0, 0, 0],\n",
       "        [1, 1, 1, 0, 1, 1, 0, 0, 0, 0, 0, 0, 0, 0, 0],\n",
       "        [1, 1, 1, 1, 0, 1, 0, 0, 0, 0, 0, 0, 0, 0, 0],\n",
       "        [1, 1, 1, 1, 1, 0, 0, 1, 0, 1, 1, 0, 0, 0, 0],\n",
       "        [0, 0, 0, 0, 0, 0, 0, 1, 1, 1, 1, 0, 0, 1, 0],\n",
       "        [0, 0, 0, 0, 0, 1, 1, 0, 1, 1, 1, 0, 0, 0, 0],\n",
       "        [0, 0, 0, 0, 0, 0, 1, 1, 0, 1, 1, 0, 0, 0, 0],\n",
       "        [0, 0, 0, 0, 0, 1, 1, 1, 1, 0, 1, 0, 0, 0, 0],\n",
       "        [0, 0, 0, 0, 0, 1, 1, 1, 1, 1, 0, 0, 0, 0, 0],\n",
       "        [0, 0, 0, 0, 0, 0, 0, 0, 0, 0, 0, 0, 1, 1, 1],\n",
       "        [0, 0, 0, 0, 0, 0, 0, 0, 0, 0, 0, 1, 0, 1, 1],\n",
       "        [1, 0, 0, 0, 0, 0, 1, 0, 0, 0, 0, 1, 1, 0, 1],\n",
       "        [0, 0, 0, 0, 0, 0, 0, 0, 0, 0, 0, 1, 1, 1, 0]])"
      ]
     },
     "execution_count": 32,
     "metadata": {},
     "output_type": "execute_result"
    }
   ],
   "source": [
    "A"
   ]
  },
  {
   "cell_type": "code",
   "execution_count": 6,
   "metadata": {},
   "outputs": [],
   "source": [
    "lmb, v = np.linalg.eig(M)\n",
    "data = np.array(x0)"
   ]
  },
  {
   "cell_type": "code",
   "execution_count": 29,
   "metadata": {},
   "outputs": [
    {
     "data": {
      "text/plain": [
       "matrix([[-3.62484813e-01,  1.60221981e-01, -7.27436281e-02,\n",
       "          3.24131385e-01, -8.37131760e-01, -2.88096478e-02,\n",
       "          1.95535858e-02, -3.23010866e-02,  4.30057883e-18,\n",
       "          1.26414146e-17, -8.84037416e-18,  3.75053631e-16,\n",
       "         -4.80963553e-16, -1.03462751e-15,  2.00093128e-15],\n",
       "        [-3.65080727e-01,  1.62936632e-01, -7.49791876e-02,\n",
       "          1.19546574e-01,  2.51987502e-01, -3.10396502e-02,\n",
       "          2.20313151e-02, -3.65822623e-02, -5.60895087e-17,\n",
       "         -1.62440690e-16,  5.09424228e-16, -4.33550065e-16,\n",
       "          8.63698820e-01, -2.19191889e-01,  3.63795590e-03],\n",
       "        [-3.65080727e-01,  1.62936632e-01, -7.49791876e-02,\n",
       "          1.19546574e-01,  2.51987502e-01, -3.10396502e-02,\n",
       "          2.20313151e-02, -3.65822623e-02, -6.94261414e-17,\n",
       "         -1.91432948e-17, -4.17294734e-16,  3.72240211e-16,\n",
       "         -2.30937567e-01, -3.30555789e-01,  7.88754316e-01],\n",
       "        [-3.65080727e-01,  1.62936632e-01, -7.49791876e-02,\n",
       "          1.19546574e-01,  2.51987502e-01, -3.10396502e-02,\n",
       "          2.20313151e-02, -3.65822623e-02, -3.97699228e-17,\n",
       "          4.42798654e-16, -9.15905232e-17,  3.20425974e-16,\n",
       "         -3.00588437e-01,  8.62911479e-01, -2.17435629e-01],\n",
       "        [-3.65080727e-01,  1.62936632e-01, -7.49791876e-02,\n",
       "          1.19546574e-01,  2.51987502e-01, -3.10396502e-02,\n",
       "          2.20313151e-02, -3.65822623e-02,  1.25867567e-16,\n",
       "         -1.13430540e-16,  2.14489545e-16,  8.77566049e-16,\n",
       "         -3.32172817e-01, -3.13163800e-01, -5.74956643e-01],\n",
       "        [-3.60434511e-01,  1.58114532e-01, -7.10489274e-02,\n",
       "         -8.78233848e-01, -1.87794846e-01, -2.72438115e-02,\n",
       "          1.79395439e-02, -2.95358519e-02, -1.92912414e-17,\n",
       "          4.41206352e-17,  5.34015568e-17,  2.53140120e-16,\n",
       "         -1.91525506e-15, -8.25375029e-16, -7.39870951e-16],\n",
       "        [-1.59113577e-01, -4.10947351e-01, -5.39263077e-02,\n",
       "          1.13657233e-01,  2.41492977e-02, -4.43411212e-02,\n",
       "         -3.26938820e-01, -8.22340209e-01, -2.90817967e-18,\n",
       "          5.17502386e-18,  1.04024276e-15,  8.22660082e-15,\n",
       "         -2.21765590e-16, -1.03184509e-16,  9.49747959e-16],\n",
       "        [-1.58872927e-01, -4.09355186e-01, -5.34972884e-02,\n",
       "          1.16187353e-01,  2.47405668e-02, -4.27343001e-02,\n",
       "         -1.93965596e-01,  3.12625553e-01,  1.13042441e-16,\n",
       "         -7.62574749e-17, -1.26495937e-01,  8.14508079e-01,\n",
       "          1.78684113e-15, -2.67838028e-17,  7.43944584e-17],\n",
       "        [-1.59597070e-01, -4.14169128e-01, -5.48053258e-02,\n",
       "          1.08913776e-01,  2.30476755e-02, -4.79467420e-02,\n",
       "          8.80996559e-01, -9.95465173e-02,  6.19699340e-18,\n",
       "         -3.40104570e-17,  1.33559237e-16, -5.18913824e-16,\n",
       "          3.01050078e-16,  3.57395054e-16, -2.51676765e-16],\n",
       "        [-1.58872927e-01, -4.09355186e-01, -5.34972884e-02,\n",
       "          1.16187353e-01,  2.47405668e-02, -4.27343001e-02,\n",
       "         -1.93965596e-01,  3.12625553e-01, -1.59553090e-16,\n",
       "          2.95584370e-16,  7.61817280e-01, -3.57934253e-01,\n",
       "         -5.63637578e-16,  7.88770276e-17,  3.34380989e-16],\n",
       "        [-1.58872927e-01, -4.09355186e-01, -5.34972884e-02,\n",
       "          1.16187353e-01,  2.47405668e-02, -4.27343001e-02,\n",
       "         -1.93965596e-01,  3.12625553e-01,  1.21472113e-16,\n",
       "          2.53316239e-17, -6.35321344e-01, -4.56573826e-01,\n",
       "          1.44572785e-16,  2.69856180e-16, -3.35391467e-16],\n",
       "        [-1.40962181e-01,  1.28727010e-03,  4.96507241e-01,\n",
       "         -1.68883011e-02,  4.07319082e-02, -2.60855901e-01,\n",
       "          1.75501044e-02,  5.37419663e-02,  2.50975088e-01,\n",
       "          6.54944705e-01, -1.58459873e-16, -2.95686681e-16,\n",
       "          5.69482823e-16, -6.00426505e-16,  2.71279743e-17],\n",
       "        [-1.40962181e-01,  1.28727010e-03,  4.96507241e-01,\n",
       "         -1.68883011e-02,  4.07319082e-02, -2.60855901e-01,\n",
       "          1.75501044e-02,  5.37419663e-02,  5.47385868e-01,\n",
       "         -7.49711118e-01, -7.45456262e-17, -6.03970210e-16,\n",
       "         -6.13714003e-16,  5.47580781e-16, -1.66538628e-16],\n",
       "        [-1.39408716e-01,  1.24844779e-03,  4.61645999e-01,\n",
       "         -1.85551834e-02,  4.49974660e-02,  8.83568249e-01,\n",
       "          2.27686197e-02,  6.86257280e-02, -4.71060714e-17,\n",
       "         -2.89764192e-16, -2.82183243e-17, -7.19853712e-16,\n",
       "          1.60712103e-16,  1.33533042e-16, -1.19504478e-16],\n",
       "        [-1.40962181e-01,  1.28727010e-03,  4.96507241e-01,\n",
       "         -1.68883011e-02,  4.07319082e-02, -2.60855901e-01,\n",
       "          1.75501044e-02,  5.37419663e-02, -7.98360956e-01,\n",
       "          9.47664122e-02, -8.87762096e-17, -5.48084088e-16,\n",
       "          2.22238075e-16, -4.74084141e-17, -1.21837596e-16]])"
      ]
     },
     "execution_count": 29,
     "metadata": {},
     "output_type": "execute_result"
    }
   ],
   "source": [
    "a_0 = (np.linalg.inv(v)@x0)[0,:]\n"
   ]
  },
  {
   "cell_type": "code",
   "execution_count": null,
   "metadata": {},
   "outputs": [],
   "source": [
    "\n",
    "time = [i*tau for i in range(1, int(T/tau))]\n",
    "\n",
    "for t in time:\n",
    "    E = np.array([exp(i*t) for i in lmb]) # vector of eigenvalues exponentials\n",
    "    a = np.diag(E)@a_0  # vector of 'a' coefficients\n",
    "    x = np.sum(np.diag(a)@v.T, axis=0) # psi(t)\n",
    "    data = np.column_stack((data, x))"
   ]
  },
  {
   "cell_type": "code",
   "execution_count": 17,
   "metadata": {},
   "outputs": [],
   "source": [
    "\n",
    "def hyperbolic_cross(orders, n):\n",
    "\t\n",
    "\tdimensions = len(orders)\n",
    "\n",
    "\tI = np.arange(n+1)\n",
    "\tI = np.reshape(I, (1,-1))\n",
    "\n",
    "\tfor k in range(2, dimensions+1):\n",
    "\t\tJ = np.array([]).reshape((I.shape[0]+1, 0))\n",
    "\t\tfor i in range(n+1):\n",
    "\t\t\tl = I.shape[1]\n",
    "\t\t\tfor j in range(l):\n",
    "\t\t\t\tz = I[:,j]\n",
    "\t\t\t\t#z = np.reshape(z, (I.shape[0], 1))\n",
    "\n",
    "\t\t\t\tif (i+1)**orders[k-1]*np.prod(np.power(z, np.array(orders[:k-1]))+1) <= n+1:\n",
    "\n",
    "\t\t\t\t\tz = np.row_stack((z.reshape((-1,1)), np.array([i]).reshape(1,1)))\t\t\t\t\t\n",
    "\t\t\t\t\tJ = np.hstack((J, z))\n",
    "\t\t \n",
    "\t\tI = J\n",
    "\n",
    "\treturn I#[:,dimensions-1:].astype(int)\n",
    "\n",
    "\n"
   ]
  },
  {
   "cell_type": "code",
   "execution_count": 21,
   "metadata": {},
   "outputs": [],
   "source": [
    "I = hyperbolic_cross([1,1,1], 8)"
   ]
  },
  {
   "cell_type": "code",
   "execution_count": 13,
   "metadata": {},
   "outputs": [
    {
     "data": {
      "text/plain": [
       "(-0.5, 10.0)"
      ]
     },
     "execution_count": 13,
     "metadata": {},
     "output_type": "execute_result"
    },
    {
     "data": {
      "image/png": "[encoded data removed]",
      "text/plain": [
       "<Figure size 640x480 with 1 Axes>"
      ]
     },
     "metadata": {},
     "output_type": "display_data"
    }
   ],
   "source": [
    "import matplotlib.pyplot as plt\n",
    "plt.scatter(I[0,:],I[1,:])\n",
    "plt.xlim(-0.5,10)\n",
    "plt.ylim(-0.5,10)"
   ]
  },
  {
   "cell_type": "code",
   "execution_count": 1,
   "metadata": {},
   "outputs": [],
   "source": [
    "import networkx as nx\n",
    "import numpy as np\n",
    "import matplotlib.pyplot as plt\n",
    "from math import exp, sqrt, log\n",
    "from scipy.linalg import expm\n",
    "import itertools\n",
    "from Diff import *\n",
    "from IPython.display import clear_output\n",
    "import time\n",
    "import sys\n",
    "sys.path.append('content/equadratures')\n",
    "\n",
    "import equadratures as eq"
   ]
  },
  {
   "cell_type": "code",
   "execution_count": 35,
   "metadata": {},
   "outputs": [],
   "source": [
    "basis = 'total-order'\n",
    "my_basis = eq.Basis(basis)"
   ]
  },
  {
   "cell_type": "code",
   "execution_count": 38,
   "metadata": {},
   "outputs": [],
   "source": [
    "my_basis.set_orders([4,3,3])"
   ]
  },
  {
   "cell_type": "code",
   "execution_count": 40,
   "metadata": {},
   "outputs": [
    {
     "data": {
      "text/plain": [
       "array([[0., 0., 0.],\n",
       "       [0., 0., 1.],\n",
       "       [0., 1., 0.],\n",
       "       [1., 0., 0.],\n",
       "       [0., 0., 2.],\n",
       "       [0., 1., 1.],\n",
       "       [0., 2., 0.],\n",
       "       [1., 0., 1.],\n",
       "       [1., 1., 0.],\n",
       "       [2., 0., 0.],\n",
       "       [0., 0., 3.],\n",
       "       [0., 1., 2.],\n",
       "       [0., 2., 1.],\n",
       "       [0., 3., 0.],\n",
       "       [1., 0., 2.],\n",
       "       [1., 1., 1.],\n",
       "       [1., 2., 0.],\n",
       "       [2., 0., 1.],\n",
       "       [2., 1., 0.],\n",
       "       [3., 0., 0.],\n",
       "       [0., 0., 4.],\n",
       "       [0., 1., 3.],\n",
       "       [0., 2., 2.],\n",
       "       [0., 3., 1.],\n",
       "       [0., 4., 0.],\n",
       "       [1., 0., 3.],\n",
       "       [1., 1., 2.],\n",
       "       [1., 2., 1.],\n",
       "       [1., 3., 0.],\n",
       "       [2., 0., 2.],\n",
       "       [2., 1., 1.],\n",
       "       [2., 2., 0.],\n",
       "       [3., 0., 1.],\n",
       "       [3., 1., 0.],\n",
       "       [4., 0., 0.]])"
      ]
     },
     "execution_count": 40,
     "metadata": {},
     "output_type": "execute_result"
    }
   ],
   "source": [
    "my_basis.elements"
   ]
  },
  {
   "cell_type": "code",
   "execution_count": 32,
   "metadata": {},
   "outputs": [
    {
     "data": {
      "text/plain": [
       "array([[0., 0., 0.],\n",
       "       [1., 0., 0.],\n",
       "       [2., 0., 0.],\n",
       "       [3., 0., 0.],\n",
       "       [4., 0., 0.],\n",
       "       [5., 0., 0.],\n",
       "       [6., 0., 0.],\n",
       "       [7., 0., 0.],\n",
       "       [8., 0., 0.],\n",
       "       [0., 1., 0.],\n",
       "       [1., 1., 0.],\n",
       "       [2., 1., 0.],\n",
       "       [3., 1., 0.],\n",
       "       [0., 2., 0.],\n",
       "       [1., 2., 0.],\n",
       "       [2., 2., 0.],\n",
       "       [0., 3., 0.],\n",
       "       [1., 3., 0.],\n",
       "       [0., 4., 0.],\n",
       "       [0., 5., 0.],\n",
       "       [0., 6., 0.],\n",
       "       [0., 7., 0.],\n",
       "       [0., 8., 0.],\n",
       "       [0., 0., 1.],\n",
       "       [1., 0., 1.],\n",
       "       [2., 0., 1.],\n",
       "       [3., 0., 1.],\n",
       "       [0., 1., 1.],\n",
       "       [1., 1., 1.],\n",
       "       [0., 2., 1.],\n",
       "       [0., 3., 1.],\n",
       "       [0., 0., 2.],\n",
       "       [1., 0., 2.],\n",
       "       [2., 0., 2.],\n",
       "       [0., 1., 2.],\n",
       "       [0., 2., 2.],\n",
       "       [0., 0., 3.],\n",
       "       [1., 0., 3.],\n",
       "       [0., 1., 3.],\n",
       "       [0., 0., 4.],\n",
       "       [0., 0., 5.],\n",
       "       [0., 0., 6.],\n",
       "       [0., 0., 7.],\n",
       "       [0., 0., 8.]])"
      ]
     },
     "execution_count": 32,
     "metadata": {},
     "output_type": "execute_result"
    }
   ],
   "source": [
    "I.T"
   ]
  },
  {
   "cell_type": "code",
   "execution_count": 19,
   "metadata": {},
   "outputs": [],
   "source": [
    "import numpy as np \n",
    "A = np.arange(9).reshape((3,3))\n",
    "P = np.array([[0,1,0],[1,0,0],[0,0,1]])\n",
    "I = np.eye(3)"
   ]
  },
  {
   "cell_type": "code",
   "execution_count": 31,
   "metadata": {},
   "outputs": [
    {
     "data": {
      "text/plain": [
       "array([[4, 3, 5],\n",
       "       [1, 0, 2],\n",
       "       [7, 6, 8]])"
      ]
     },
     "execution_count": 31,
     "metadata": {},
     "output_type": "execute_result"
    }
   ],
   "source": [
    "P.T @ A @ P"
   ]
  },
  {
   "cell_type": "code",
   "execution_count": 29,
   "metadata": {},
   "outputs": [],
   "source": [
    "L=[1,0,2]\n",
    "B = np.array([A[m,n] for m in L for n in L]).reshape((3,3))"
   ]
  },
  {
   "cell_type": "code",
   "execution_count": 30,
   "metadata": {},
   "outputs": [
    {
     "data": {
      "text/plain": [
       "array([[4, 3, 5],\n",
       "       [1, 0, 2],\n",
       "       [7, 6, 8]])"
      ]
     },
     "execution_count": 30,
     "metadata": {},
     "output_type": "execute_result"
    }
   ],
   "source": [
    "B"
   ]
  },
  {
   "cell_type": "code",
   "execution_count": null,
   "metadata": {},
   "outputs": [],
   "source": []
  }
 ],
 "metadata": {
  "kernelspec": {
   "display_name": "gnn_id",
   "language": "python",
   "name": "python3"
  },
  "language_info": {
   "codemirror_mode": {
    "name": "ipython",
    "version": 3
   },
   "file_extension": ".py",
   "mimetype": "text/x-python",
   "name": "python",
   "nbconvert_exporter": "python",
   "pygments_lexer": "ipython3",
   "version": "3.9.16"
  },
  "orig_nbformat": 4
 },
 "nbformat": 4,
 "nbformat_minor": 2
}
