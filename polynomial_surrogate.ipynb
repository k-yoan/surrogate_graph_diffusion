{
  "cells": [
    {
      "cell_type": "markdown",
      "metadata": {
        "id": "rmfpr6YCfFUa"
      },
      "source": [
        "# Libraries"
      ]
    },
    {
      "cell_type": "code",
      "execution_count": 35,
      "metadata": {
        "id": "t6NlaxdNWYy0"
      },
      "outputs": [],
      "source": [
        "import networkx as nx\n",
        "import numpy as np\n",
        "import matplotlib.pyplot as plt\n",
        "from math import exp, sqrt, log\n",
        "from scipy.linalg import expm\n",
        "import itertools"
      ]
    },
    {
      "cell_type": "code",
      "execution_count": 36,
      "metadata": {
        "id": "g6byybZcVBkc"
      },
      "outputs": [],
      "source": [
        "import time"
      ]
    },
    {
      "cell_type": "code",
      "execution_count": 37,
      "metadata": {
        "id": "-8NzYAP9XASx"
      },
      "outputs": [],
      "source": [
        "from IPython.display import clear_output"
      ]
    },
    {
      "cell_type": "code",
      "execution_count": 38,
      "metadata": {
        "id": "58xTvo7mYYaw"
      },
      "outputs": [],
      "source": [
        "from Diff import *"
      ]
    },
    {
      "cell_type": "code",
      "execution_count": 39,
      "metadata": {
        "id": "FGm3YIdKHCLA"
      },
      "outputs": [],
      "source": [
        "!git clone https://github.com/equadratures/equadratures\n",
        "clear_output()"
      ]
    },
    {
      "cell_type": "code",
      "execution_count": 40,
      "metadata": {
        "id": "Rqu62EMAH1NX"
      },
      "outputs": [],
      "source": [
        "with open(\"content/equadratures/equadratures/optimisation.py\", \"r\") as file:\n",
        "    fix_1 = file.read()\n",
        "\n",
        "# Lines to modify in equadratures/optimisation.py\n",
        "\n",
        "fix_1 = fix_1.replace('objective = lambda x: k*np.asscalar(f(x))', 'objective = lambda x: k*f(x).item()')\n",
        "fix_1 = fix_1.replace('constraint = lambda x: np.asscalar(g(x))', 'constraint = lambda x: g(x).item()')\n",
        "fix_1 = fix_1.replace('self.f_old = np.asscalar(self.f[ind_min])', 'self.f_old = self.f[ind_min].item()')\n",
        "fix_1 = fix_1.replace('return np.asscalar(f)', 'return f.item()')\n",
        "fix_1 = fix_1.replace('np.asscalar(my_poly.get_polyfit(x))', 'my_poly.get_polyfit(x).item()')\n",
        "fix_1 = fix_1.replace('np.asscalar(my_poly.get_polyfit(np.dot(x,self.U)))', 'my_poly.get_polyfit(np.dot(x,self.U)).item()')\n",
        "fix_1 = fix_1.replace('del_m = np.asscalar(my_poly.get_polyfit(self.s_old)) - m_new', 'del_m = np.ndarray.item(my_poly.get_polyfit(self.s_old)) - m_new')\n",
        "fix_1 = fix_1.replace('del_m = np.asscalar(my_poly.get_polyfit(np.dot(self.s_old,self.U))) - m_new', 'del_m = np.ndarray.item(my_poly.get_polyfit(np.dot(self.s_old,self.U))) - m_new')\n",
        "\n",
        "with open(\"content/equadratures/equadratures/optimisation.py\", \"w\") as file:\n",
        "    file.write(fix_1)"
      ]
    },
    {
      "cell_type": "code",
      "execution_count": 41,
      "metadata": {
        "id": "7-Pgu8AVIu3o"
      },
      "outputs": [],
      "source": [
        "with open(\"content/equadratures/equadratures/sampling_methods/induced.py\", \"r\") as file:\n",
        "    fix_2 = file.read()\n",
        "\n",
        "# Lines to modify in equadratures/sampling_methods/induced.py\n",
        "\n",
        "fix_2 = fix_2.replace('F = np.asscalar(F)', 'F = F.item()')\n",
        "\n",
        "with open(\"content/equadratures/equadratures/sampling_methods/induced.py\", \"w\") as file:\n",
        "    file.write(fix_2)"
      ]
    },
    {
      "cell_type": "code",
      "execution_count": 42,
      "metadata": {
        "id": "OlOc2P1CJQQQ"
      },
      "outputs": [],
      "source": [
        "with open(\"content/equadratures/equadratures/solver.py\", \"r\") as file:\n",
        "    fix_3 = file.read()\n",
        "\n",
        "# Lines to modify in equadratures/solver.py\n",
        "\n",
        "fix_3 = fix_3.replace('fe = 0.5*(np.asscalar(np.dot(r.T,r)) - epsilon**2)', 'fe = 0.5*(np.dot(r.T,r).item() - epsilon**2)')\n",
        "fix_3 = fix_3.replace('cqe = np.asscalar(np.dot(r.T,r)) - epsilon**2', 'cqe = np.dot(r.T,r).item() - epsilon**2')\n",
        "\n",
        "with open(\"content/equadratures/equadratures/solver.py\", \"w\") as file:\n",
        "    file.write(fix_3)"
      ]
    },
    {
      "cell_type": "code",
      "execution_count": 43,
      "metadata": {
        "id": "eLnhiiY-Jf4e"
      },
      "outputs": [],
      "source": [
        "with open(\"content/equadratures/equadratures/subspaces.py\", \"r\") as file:\n",
        "    fix_4 = file.read()\n",
        "\n",
        "# Lines to modify in equadratures/subspaces.py\n",
        "\n",
        "fix_4 = fix_4.replace('dV[:,l,:,j] = np.asscalar(vectord[l])*(X.T*current[:,j])', 'dV[:,l,:,j] = vectord[l].item()*(X.T*current[:,j])')\n",
        "\n",
        "with open(\"content/equadratures/equadratures/subspaces.py\", \"w\") as file:\n",
        "    file.write(fix_4)"
      ]
    },
    {
      "cell_type": "code",
      "execution_count": 44,
      "metadata": {
        "id": "qNonH3gRKcRG"
      },
      "outputs": [],
      "source": [
        "import sys\n",
        "sys.path.append('content/equadratures')\n",
        "\n",
        "import equadratures as eq"
      ]
    },
    {
      "cell_type": "markdown",
      "metadata": {
        "id": "3hKNNHH0fFz2"
      },
      "source": [
        "# Functions"
      ]
    },
    {
      "cell_type": "code",
      "execution_count": 45,
      "metadata": {
        "id": "6-GyFECnaNC6"
      },
      "outputs": [],
      "source": [
        "def ed_diff_function(y):\n",
        "  y = (y+1)/2\n",
        "  c_bar = construct_cbar(y)\n",
        "\n",
        "  C = construct_C(c_bar, sizes, n)\n",
        "  D = construct_D(A, C, n)\n",
        "  M = C*A - D\n",
        "\n",
        "  diff = ed_diffusion(M, x0, tau=0.01, T=1)\n",
        "\n",
        "  return diff[2,-1]"
      ]
    },
    {
      "cell_type": "code",
      "execution_count": 46,
      "metadata": {
        "id": "U9kjyrGM54qz"
      },
      "outputs": [],
      "source": [
        "def ted_diff_function(y):\n",
        "  y = (y+1)/2\n",
        "  c_bar = construct_cbar(y)\n",
        "\n",
        "  C = construct_C(c_bar, sizes, n)\n",
        "  M_t = construct_Mt(A, C, sizes, alpha=[2,3,4])\n",
        "\n",
        "  diff = RK4_t(x0, 0.01, M_t)\n",
        "\n",
        "  return diff[2,-1]"
      ]
    },
    {
      "cell_type": "code",
      "execution_count": 47,
      "metadata": {
        "id": "tgdfg9-yQkNQ"
      },
      "outputs": [],
      "source": [
        "def get_average_rmse(m, my_method, dim=3, simuls=5, basis='total-order', ord=4):\n",
        "  errors = np.array([])\n",
        "  my_param_list = [eq.Parameter(distribution='uniform', order=ord, lower=-1.0, upper=1.0) for i in range(dim)]\n",
        "\n",
        "  for j in range(simuls):\n",
        "    if basis == 'hyperbolic-basis':\n",
        "      my_basis = eq.Basis(basis, q=0.5)\n",
        "    else:\n",
        "      my_basis = eq.Basis(basis)\n",
        "\n",
        "    X_train = np.random.uniform(-1, 1, size=(m, dim))\n",
        "    y_train = eq.evaluate_model(X_train, ed_diff_function)\n",
        "    my_poly = eq.Poly(parameters=my_param_list, basis=my_basis, method=my_method, \\\n",
        "                      sampling_args={'mesh':'user-defined', 'sample-points':X_train, \\\n",
        "                                    'sample-outputs':y_train})\n",
        "    my_poly.set_model()\n",
        "\n",
        "    test_pts = np.random.uniform(-1, 1, size=(1000, dim))\n",
        "    test_evals = eq.evaluate_model(test_pts, ed_diff_function)\n",
        "    train_r2, test_r2 = my_poly.get_polyscore(X_test=test_pts, y_test=test_evals, metric='rmse')\n",
        "    train_r2, test_r2\n",
        "\n",
        "    errors = np.append(errors, test_r2)\n",
        "\n",
        "  return np.mean(errors)"
      ]
    },
    {
      "cell_type": "code",
      "execution_count": 48,
      "metadata": {
        "id": "zy-rH-cfQvuH"
      },
      "outputs": [],
      "source": [
        "def get_average_rmse_TED(m, my_method, dim=3, simuls=5, basis='total-order', ord=4):\n",
        "  errors = np.array([])\n",
        "  my_param_list = [eq.Parameter(distribution='uniform', order=ord, lower=-1.0, upper=1.0) for i in range(dim)]\n",
        "\n",
        "  for j in range(simuls):\n",
        "    if basis == 'hyperbolic-basis':\n",
        "      my_basis = eq.Basis(basis, q=0.5)\n",
        "    else:\n",
        "      my_basis = eq.Basis(basis)\n",
        "    X_train = np.random.uniform(-1, 1, size=(m, dim))\n",
        "    y_train = eq.evaluate_model(X_train, ted_diff_function)\n",
        "    my_poly = eq.Poly(parameters=my_param_list, basis=my_basis, method=my_method, \\\n",
        "                      sampling_args={'mesh':'user-defined', 'sample-points':X_train, \\\n",
        "                                    'sample-outputs':y_train})\n",
        "    my_poly.set_model()\n",
        "\n",
        "    test_pts = np.random.uniform(-1, 1, size=(500, dim))\n",
        "    test_evals = eq.evaluate_model(test_pts, ted_diff_function)\n",
        "    train_r2, test_r2 = my_poly.get_polyscore(X_test=test_pts, y_test=test_evals, metric='rmse')\n",
        "    train_r2, test_r2\n",
        "\n",
        "    errors = np.append(errors, test_r2)\n",
        "\n",
        "  return np.mean(errors)"
      ]
    },
    {
      "cell_type": "code",
      "execution_count": 49,
      "metadata": {
        "id": "kLQQTfkaRCJo"
      },
      "outputs": [],
      "source": [
        "def conv(x, method, dim=3, simuls=5, basis='total-order', ord=4, verbose=False):\n",
        "  Y = []\n",
        "\n",
        "  for element in x:\n",
        "    if verbose:\n",
        "      start = time.time()\n",
        "    Y.append(get_average_rmse(element, method, dim=dim, simuls=simuls, ord=ord, basis=basis))\n",
        "    if verbose:\n",
        "      end = time.time()\n",
        "      print('m={} w/ {}, done: {} seconds.'.format(element, method, end-start))\n",
        "\n",
        "  return Y"
      ]
    },
    {
      "cell_type": "code",
      "execution_count": 50,
      "metadata": {
        "id": "LiDjb4C0REfi"
      },
      "outputs": [],
      "source": [
        "def conv_TED(x, method, dim=3, simuls=5, basis='total-order', ord=4, verbose=False):\n",
        "  Y = []\n",
        "\n",
        "  for element in x:\n",
        "    if verbose:\n",
        "      start = time.time()\n",
        "    Y.append(get_average_rmse_TED(element, method, dim=dim, simuls=simuls, ord=ord, basis=basis))\n",
        "    if verbose:\n",
        "      end = time.time()\n",
        "      print('m={} w/ {}, done: {} seconds.'.format(element, method, end-start))\n",
        "\n",
        "  return Y"
      ]
    },
    {
      "cell_type": "markdown",
      "metadata": {
        "id": "ZwHqXBaDfGXF"
      },
      "source": [
        "# Graph initialization"
      ]
    },
    {
      "cell_type": "code",
      "execution_count": 51,
      "metadata": {
        "id": "17xV581Oh_Y6"
      },
      "outputs": [],
      "source": [
        "sizes = [5, 5]\n",
        "probs = [[1, 0.04], [0.04, 1]]\n",
        "\n",
        "#sizes = [5, 5, 5]\n",
        "#probs = [[1, 0.04, 0.04], [0.04, 1, 0.04], [0.04, 0.04, 1]]\n",
        "\n",
        "#sizes = [6, 10, 4, 10]\n",
        "#probs = [[1, 0.04, 0.04, 0.04], [0.04, 1, 0.04, 0.04], [0.04, 0.04, 1, 0.04], [0.04, 0.04, 0.04, 1]]\n",
        "\n",
        "G = nx.stochastic_block_model(sizes, probs, seed=0)\n",
        "pos = nx.spring_layout(G)\n",
        "A = nx.adjacency_matrix(G).todense()\n",
        "L = nx.laplacian_matrix(G).toarray()\n",
        "\n",
        "n = G.number_of_nodes()\n",
        "x0 = np.zeros(n)\n",
        "activ = np.random.choice(n, int(0.2*n))\n",
        "x0[activ] = 100"
      ]
    },
    {
      "cell_type": "markdown",
      "metadata": {
        "id": "zOOIoeaYiFlv"
      },
      "source": [
        "# Polynomial approximation"
      ]
    },
    {
      "cell_type": "code",
      "execution_count": 52,
      "metadata": {
        "colab": {
          "base_uri": "https://localhost:8080/"
        },
        "id": "cUa8ug2Tdlam",
        "outputId": "9b7a2d91-2f40-4958-b68f-fef727f856e9"
      },
      "outputs": [
        {
          "data": {
            "text/plain": [
              "3"
            ]
          },
          "execution_count": 52,
          "metadata": {},
          "output_type": "execute_result"
        }
      ],
      "source": [
        "K = len(sizes)\n",
        "d = int(K*(K+1)/2)\n",
        "d"
      ]
    },
    {
      "cell_type": "code",
      "execution_count": 53,
      "metadata": {
        "id": "t8ZUlqsCSMFm"
      },
      "outputs": [],
      "source": [
        "nb_samples = [i*50 for i in range(1,7)]"
      ]
    },
    {
      "cell_type": "code",
      "execution_count": 54,
      "metadata": {
        "id": "RHqO8VTnii8O"
      },
      "outputs": [],
      "source": [
        "# Convergence plot for ED diffusion\n",
        "# For method, choose 'least-squares' or 'compressed-sensing'\n",
        "# For basis, choose 'tensor-grid', 'total-order' or 'hyperbolic-basis'\n",
        "# PS: 'tensor-grid' is not very good, and takes even longer to run\n",
        "\n",
        "#method = 'least-squares'\n",
        "basis = 'total-order'\n",
        "order = 8"
      ]
    },
    {
      "cell_type": "code",
      "execution_count": 55,
      "metadata": {
        "id": "jLcqeT6ykEDv"
      },
      "outputs": [],
      "source": [
        "# (!!!) This is the part that takes the most time\n",
        "# 2 minutes to +2 hours, depending on the method, basis, order, number of rounds (simuls), etc.\n",
        "\n",
        "ls = conv(nb_samples, 'least-squares', dim=d, simuls=1, basis=basis, ord=order)\n",
        "cs = conv(nb_samples, 'compressed-sensing', dim=d, simuls=1, basis=basis, ord=order)"
      ]
    },
    {
      "cell_type": "code",
      "execution_count": 56,
      "metadata": {
        "colab": {
          "base_uri": "https://localhost:8080/",
          "height": 499
        },
        "id": "eG10cHLskRgk",
        "outputId": "7b7a4a21-81b4-4421-d090-63b8e28638ab"
      },
      "outputs": [
        {
          "data": {
            "image/png": "[encoded data removed]",
            "text/plain": [
              "<Figure size 640x480 with 1 Axes>"
            ]
          },
          "metadata": {
            "needs_background": "light"
          },
          "output_type": "display_data"
        }
      ],
      "source": [
        "plt.plot(nb_samples, ls, 'orange', label='least squares')\n",
        "plt.plot(nb_samples, cs, 'blue', label='compressed sensing')\n",
        "plt.yscale('log')\n",
        "plt.xlabel('# of sample points')\n",
        "plt.ylabel('Average RMSE')\n",
        "plt.title('Order: {}, basis: {}'.format(order, basis))\n",
        "plt.legend()\n",
        "plt.show()"
      ]
    }
  ],
  "metadata": {
    "colab": {
      "provenance": []
    },
    "kernelspec": {
      "display_name": "Python 3",
      "name": "python3"
    },
    "language_info": {
      "name": "python"
    }
  },
  "nbformat": 4,
  "nbformat_minor": 0
}
